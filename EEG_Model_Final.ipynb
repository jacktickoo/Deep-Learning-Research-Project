{
  "nbformat": 4,
  "nbformat_minor": 0,
  "metadata": {
    "colab": {
      "name": "EEG Model Final.ipynb",
      "provenance": [],
      "collapsed_sections": []
    },
    "kernelspec": {
      "name": "python3",
      "display_name": "Python 3"
    },
    "accelerator": "GPU"
  },
  "cells": [
    {
      "cell_type": "markdown",
      "metadata": {
        "id": "ujb_UrXi6hxZ",
        "colab_type": "text"
      },
      "source": [
        "# Read Before Using This File"
      ]
    },
    {
      "cell_type": "markdown",
      "metadata": {
        "id": "1iBi08Vq6yDZ",
        "colab_type": "text"
      },
      "source": [
        "This code requires the feature extracted csv so please do not try and run this code if you do not have that data. "
      ]
    },
    {
      "cell_type": "markdown",
      "metadata": {
        "id": "2rvZmbLJAshw",
        "colab_type": "text"
      },
      "source": [
        "# Imports we Need\n",
        "\n",
        "---"
      ]
    },
    {
      "cell_type": "code",
      "metadata": {
        "id": "Hq640kdOAWM8",
        "colab_type": "code",
        "colab": {
          "base_uri": "https://localhost:8080/",
          "height": 73
        },
        "outputId": "8ce2f8d9-5f8a-4715-ddb7-b08693985a90"
      },
      "source": [
        "import os \n",
        "import copy\n",
        "import time \n",
        "import numpy as np\n",
        "import pandas as pd  # Used for plotting results \n",
        "import seaborn as sn  # Used for plotting results \n",
        "import matplotlib.pyplot as plt\n",
        "from collections import Counter  # Used to create counter dicts very easily\n",
        "from sklearn.preprocessing import OneHotEncoder\n",
        "from sklearn.model_selection import train_test_split\n",
        "\n",
        "# Imports from py torch \n",
        "import torch \n",
        "import torchvision\n",
        "import torch.nn as nn \n",
        "import torch.optim as optim\n",
        "from torch.optim import lr_scheduler\n",
        "from torch.utils.data import Dataset, DataLoader"
      ],
      "execution_count": 1,
      "outputs": [
        {
          "output_type": "stream",
          "text": [
            "/usr/local/lib/python3.6/dist-packages/statsmodels/tools/_testing.py:19: FutureWarning: pandas.util.testing is deprecated. Use the functions in the public API at pandas.testing instead.\n",
            "  import pandas.util.testing as tm\n"
          ],
          "name": "stderr"
        }
      ]
    },
    {
      "cell_type": "markdown",
      "metadata": {
        "id": "jjkGcZMiAzv_",
        "colab_type": "text"
      },
      "source": [
        "# Importing the Data and Generating the Sythenic Values\n",
        "\n",
        "---"
      ]
    },
    {
      "cell_type": "code",
      "metadata": {
        "id": "1QxU7UsXA-CD",
        "colab_type": "code",
        "colab": {}
      },
      "source": [
        "data_location = \"/your drive/place holder folder/\" # Enter the location of the train and test data feature extracted csv's go here here "
      ],
      "execution_count": 2,
      "outputs": []
    },
    {
      "cell_type": "markdown",
      "metadata": {
        "id": "ja9-YbkQL06P",
        "colab_type": "text"
      },
      "source": [
        "## Gets the Test Data "
      ]
    },
    {
      "cell_type": "code",
      "metadata": {
        "colab_type": "code",
        "id": "vN-qi3vSL-k8",
        "colab": {}
      },
      "source": [
        "\n",
        "# Creates a temp array for all the seizure images to be stored before creating one big np array \n",
        "temp_non_seizure_test = []  \n",
        "temp_seizure_test = []    \n",
        "\n",
        "for file_name in [\"Copy of non_seizure_test_data.csv\", \"Copy of seizure_test_data.csv\"]: # Loops over the name of files in the train folder\n",
        "    with open(data_location + file_name, 'r') as f:\n",
        "        for line in f:  \n",
        "            # Loops through all the lines except the first \n",
        "            temp_line = line.strip().split(\",\")  \n",
        "            temp_seizure_np = np.asfarray(np.array(temp_line), float)  # Stores \n",
        "            # the value of a single image\n",
        "\n",
        "            # Checks what temp array we should place the data in \n",
        "            if file_name== \"Copy of non_seizure_test_data.csv\":\n",
        "                temp_non_seizure_test.append(temp_seizure_np)\n",
        "            else: \n",
        "                temp_seizure_test.append(temp_seizure_np)"
      ],
      "execution_count": 3,
      "outputs": []
    },
    {
      "cell_type": "code",
      "metadata": {
        "id": "RcWs7GwkMj13",
        "colab_type": "code",
        "colab": {}
      },
      "source": [
        "# Gets the data and puts in the correct shape i.e. (No of samples, Channel, Height, Width)\n",
        "non_seizure_test_np = np.stack(temp_non_seizure_test, axis=0)\n",
        "non_seizure_test_np = non_seizure_test_np.reshape(-1,3,230,230)\n",
        "non_seizure_test_np_labels = np.zeros(shape=non_seizure_test_np.shape[0])\n",
        "\n",
        "seizure_test_np = np.stack(temp_seizure_test, axis=0)\n",
        "seizure_test_np = seizure_test_np.reshape(-1,3,230,230)\n",
        "seizure_test_np_labels = np.ones(shape=seizure_test_np.shape[0])"
      ],
      "execution_count": 4,
      "outputs": []
    },
    {
      "cell_type": "code",
      "metadata": {
        "id": "cLRySU5dM5uc",
        "colab_type": "code",
        "colab": {
          "base_uri": "https://localhost:8080/",
          "height": 53
        },
        "outputId": "7845c392-442e-4c80-e4d9-1bd076b090eb"
      },
      "source": [
        "# Checking to make sure the shapes look correct \n",
        "print(non_seizure_test_np.shape) \n",
        "print(seizure_test_np.shape)"
      ],
      "execution_count": 5,
      "outputs": [
        {
          "output_type": "stream",
          "text": [
            "(402, 3, 230, 230)\n",
            "(42, 3, 230, 230)\n"
          ],
          "name": "stdout"
        }
      ]
    },
    {
      "cell_type": "code",
      "metadata": {
        "id": "Z1xicofFO6z5",
        "colab_type": "code",
        "colab": {}
      },
      "source": [
        "# Combining the seizure and non seizure test data \n",
        "all_test_data = np.concatenate((non_seizure_test_np, seizure_test_np), axis=0)\n",
        "all_test_labels = np.concatenate((non_seizure_test_np_labels, seizure_test_np_labels), axis=0)"
      ],
      "execution_count": 6,
      "outputs": []
    },
    {
      "cell_type": "code",
      "metadata": {
        "id": "FEscPXSEQfCt",
        "colab_type": "code",
        "colab": {}
      },
      "source": [
        "# Now lets delete some of the variables we no longer need to free up RAM \n",
        "# del(non_seizure_test_np)\n",
        "# del(seizure_test_np)\n",
        "del(temp_non_seizure_test) \n",
        "del(temp_seizure_test)"
      ],
      "execution_count": 7,
      "outputs": []
    },
    {
      "cell_type": "markdown",
      "metadata": {
        "id": "GpTVlAZTLu0V",
        "colab_type": "text"
      },
      "source": [
        "## Gets the Train Data (So Basically the same as above but for train data)"
      ]
    },
    {
      "cell_type": "code",
      "metadata": {
        "id": "5WTLEeVmz6Hb",
        "colab_type": "code",
        "colab": {}
      },
      "source": [
        "\n",
        "# Creates a temp array for all the seizure images to be stored before creating one big np array \n",
        "temp_non_seizure_train = []  \n",
        "temp_seizure_train = []\n",
        "\n",
        "for word in [\"Copy of non_seizure_train_data.csv\", \"Copy of seizure_train_data.csv\"]: # Loops over the name of files in the train folder\n",
        "    with open(data_location + word, 'r') as f:\n",
        "        for line in f:  \n",
        "            # Loops through all the lines except the first \n",
        "            temp_line = line.strip().split(\",\")  \n",
        "            temp_seizure_np = np.asfarray(np.array(temp_line), float)  # Stores \n",
        "            # the value of a seizure image\n",
        "\n",
        "            # Checks what temp array we should place the data in \n",
        "            if word == \"Copy of non_seizure_train_data.csv\":\n",
        "                temp_non_seizure_train.append(temp_seizure_np)\n",
        "            else: \n",
        "                temp_seizure_train.append(temp_seizure_np)"
      ],
      "execution_count": 8,
      "outputs": []
    },
    {
      "cell_type": "code",
      "metadata": {
        "id": "x8NpFKmtKRdQ",
        "colab_type": "code",
        "colab": {}
      },
      "source": [
        "# Gets the data and puts in the correct shape i.e. (No of samples, Channel, Height, Width)\n",
        "non_seizure_train_np = np.stack(temp_non_seizure_train, axis=0)\n",
        "non_seizure_train_np = non_seizure_train_np.reshape(-1,3,230,230)\n",
        "\n",
        "seizure_train_np = np.stack(temp_seizure_train, axis=0)\n",
        "seizure_train_np = seizure_train_np.reshape(-1,3,230,230)"
      ],
      "execution_count": 9,
      "outputs": []
    },
    {
      "cell_type": "code",
      "metadata": {
        "id": "2bR-bYIPJ746",
        "colab_type": "code",
        "colab": {
          "base_uri": "https://localhost:8080/",
          "height": 53
        },
        "outputId": "00a05481-000e-4260-8875-42ff61ae2514"
      },
      "source": [
        "# Checking to make sure the shapes look correct \n",
        "print(non_seizure_train_np.shape) \n",
        "print(seizure_train_np.shape)"
      ],
      "execution_count": 10,
      "outputs": [
        {
          "output_type": "stream",
          "text": [
            "(1212, 3, 230, 230)\n",
            "(60, 3, 230, 230)\n"
          ],
          "name": "stdout"
        }
      ]
    },
    {
      "cell_type": "code",
      "metadata": {
        "id": "yZL0mGOiyMH6",
        "colab_type": "code",
        "colab": {}
      },
      "source": [
        "# Deleting temp arrays to free up data \n",
        "del(temp_non_seizure_train) \n",
        "del(temp_seizure_train)"
      ],
      "execution_count": 11,
      "outputs": []
    },
    {
      "cell_type": "markdown",
      "metadata": {
        "id": "bhWj1HNMNpye",
        "colab_type": "text"
      },
      "source": [
        "## Normalizing and Generating Sythenic Values "
      ]
    },
    {
      "cell_type": "code",
      "metadata": {
        "id": "x6AP5eykib0v",
        "colab_type": "code",
        "colab": {}
      },
      "source": [
        "# Combines the seizure and non_sizure data into one big numpy array \n",
        "all_data = np.concatenate((non_seizure_train_np, seizure_train_np, seizure_test_np, non_seizure_test_np), axis=0)\n",
        "\n",
        "# Normailze the data between 0 and 1 \n",
        "oldmin = np.amin(all_data)  # Find the old min value \n",
        "oldmax = np.amax(all_data)  # Find the old max value \n",
        "oldrange = oldmax - oldmin   # Finds the range of the old values \n",
        "\n",
        "newmin = 0.1  # New min value we want in our range \n",
        "newmax = 0.9  # New max value we want in our range \n",
        "newrange = newmax - newmin  # New range i.e 1 \n",
        "\n",
        "# Function that is apllied to the old values and gives a new range \n",
        "def scale_func(n): \n",
        "    # where in the old scale is this value (0...1)\n",
        "    scale=(n-oldmin)/oldrange;\n",
        "\n",
        "    # place this scale in the new range\n",
        "    newvalue=(newrange*scale)+newmin\n",
        "    return newvalue\n",
        "\n",
        "del(all_data)"
      ],
      "execution_count": 12,
      "outputs": []
    },
    {
      "cell_type": "code",
      "metadata": {
        "id": "v6YTO9FpHSvi",
        "colab_type": "code",
        "colab": {}
      },
      "source": [
        "# Run the data throw the sigmoid function to normalize\n",
        "normalized_all_test_data = scale_func(all_test_data)\n",
        "\n",
        "# Need to normalize the train values before generating the synthetic samples \n",
        "normalized_seizure_train_data = scale_func(seizure_train_np)\n",
        "normalized_non_seizure_train_data = scale_func(non_seizure_train_np)\n",
        "# Note: No need to normalize the labels "
      ],
      "execution_count": 13,
      "outputs": []
    },
    {
      "cell_type": "code",
      "metadata": {
        "id": "Qs2jTiOgOb_K",
        "colab_type": "code",
        "colab": {}
      },
      "source": [
        "def generate_synthetic_sample(input_array_np): \n",
        "    # Input - Takes array \n",
        "    # Ouputs - gerated synthetic samples of same shape as input data \n",
        "    \n",
        "    # Generates random array same size of the input array with values between \n",
        "    # 0.95 and 1.05 to multiply the orginal input array \n",
        "    weight_array_np = np.random.uniform(low=0.95, high=1.05, size=input_array_np.shape)\n",
        "\n",
        "    # Multplies (element-wise) weight array with input array \n",
        "    output_array_np = np.multiply(input_array_np, weight_array_np)\n",
        "\n",
        "    # Changes all values < 0 to 0 and all values > 1 to 1 \n",
        "    # to make sure all values still fall between 0 and 1 (using np.clip)\n",
        "    return np.clip(output_array_np, a_min=0, a_max=1) "
      ],
      "execution_count": 14,
      "outputs": []
    },
    {
      "cell_type": "code",
      "metadata": {
        "id": "99u20YtKOfAX",
        "colab_type": "code",
        "colab": {}
      },
      "source": [
        "# Gnerating multiple synthetic samples using one genuine seizure sample \n",
        "def generate_multiple_samples(input_array_np, n_times):\n",
        "    # Input - takes one genuine siezure sample and gnerate n_times synthetic samples \n",
        "    # using the genuine sample \n",
        "    # Output - array shape (n_times, 3 ,230, 230)\n",
        "\n",
        "    # Generates shape of output array \n",
        "    output_array_np = np.empty(shape=(n_times, 3, 230, 230))\n",
        "\n",
        "    # Loops over genterating sythetic samples n_times using the genuine sample \n",
        "    # as a template \n",
        "    for i in range(n_times): \n",
        "        output_array_np[i] = generate_synthetic_sample(input_array_np)\n",
        "\n",
        "    return output_array_np"
      ],
      "execution_count": 15,
      "outputs": []
    },
    {
      "cell_type": "code",
      "metadata": {
        "id": "du2-cFxrOjSB",
        "colab_type": "code",
        "colab": {}
      },
      "source": [
        "# Generate 16 new samples using every geuine seizure sample \n",
        "temp_synthetic_seizure_data = []\n",
        "for i, seizure_sample in enumerate(normalized_seizure_train_data): \n",
        "    temp_synthetic_seizure_data.append(generate_multiple_samples(seizure_sample, 16))\n",
        "\n",
        "synthetic_seizure_data = np.concatenate(temp_synthetic_seizure_data, axis=0) # Concats the temp array making one large np array\n",
        "synthetic_seizure_labels = np.ones(shape=(synthetic_seizure_data.shape[0])) # Generates the labels for the synthetic "
      ],
      "execution_count": 16,
      "outputs": []
    },
    {
      "cell_type": "code",
      "metadata": {
        "id": "l_U19L9pKItT",
        "colab_type": "code",
        "colab": {}
      },
      "source": [
        "# So now we will use the synthetic seizure samples to be used as training along \n",
        "# along with a 1000 non seizure samples (which leaves 212 for val) \n",
        "\n",
        "# So lets shuffle the data then split the array \n",
        "np.random.shuffle(non_seizure_train_np)\n",
        "# Now lets split so 1000 of non seizures samples are kept for training and \n",
        "# 212 are kept for val \n",
        "non_seizure_train_data, non_seizure_val_data = non_seizure_train_np[:1000], non_seizure_train_np[1000:]\n",
        "\n",
        "non_seizure_train_labels = np.zeros(shape=non_seizure_train_data.shape[0])\n",
        "non_seizure_val_labels = np.zeros(shape=non_seizure_val_data.shape[0])"
      ],
      "execution_count": 17,
      "outputs": []
    },
    {
      "cell_type": "code",
      "metadata": {
        "id": "lzuDshYp7tzH",
        "colab_type": "code",
        "colab": {}
      },
      "source": [
        "seizure_train_np= np.concatenate((synthetic_seizure_data, normalized_seizure_train_data), axis=0)\n",
        "\n",
        "np.random.shuffle(seizure_train_np)\n",
        "\n",
        "seizure_train_data, seizure_val_data =seizure_train_np[:800], seizure_train_np[800:]\n",
        "\n",
        "seizure_train_labels = np.ones(shape=seizure_train_np.shape[0])\n",
        "seizure_val_labels = np.ones(shape=seizure_train_np.shape[0])"
      ],
      "execution_count": 18,
      "outputs": []
    },
    {
      "cell_type": "code",
      "metadata": {
        "id": "1yXtKyHMXnqW",
        "colab_type": "code",
        "colab": {}
      },
      "source": [
        "# Putting the data togther using concat \n",
        "all_train_data = np.concatenate((non_seizure_train_data, seizure_train_data), axis=0)\n",
        "all_train_labels = np.concatenate((non_seizure_train_labels, seizure_train_labels), axis=0)"
      ],
      "execution_count": 19,
      "outputs": []
    },
    {
      "cell_type": "code",
      "metadata": {
        "id": "jHWGsLVAYEe_",
        "colab_type": "code",
        "colab": {}
      },
      "source": [
        "# Putting the val data togther \n",
        "all_val_data = np.concatenate((non_seizure_val_data, seizure_val_data), axis=0)\n",
        "all_val_labels = np.concatenate((non_seizure_val_labels, seizure_val_labels), axis=0)"
      ],
      "execution_count": 20,
      "outputs": []
    },
    {
      "cell_type": "code",
      "metadata": {
        "id": "ZFK7h3mQ_7OM",
        "colab_type": "code",
        "colab": {}
      },
      "source": [
        "del(seizure_val_data)\n",
        "del(seizure_train_data)"
      ],
      "execution_count": 21,
      "outputs": []
    },
    {
      "cell_type": "code",
      "metadata": {
        "id": "PuXgblB_alQs",
        "colab_type": "code",
        "colab": {}
      },
      "source": [
        "# Deleting varaibles we no longer need to free up RAM \n",
        "del(non_seizure_train_data)\n",
        "del(synthetic_seizure_data)\n",
        "del(non_seizure_val_data)\n",
        "del(seizure_train_np)"
      ],
      "execution_count": 22,
      "outputs": []
    },
    {
      "cell_type": "markdown",
      "metadata": {
        "id": "J9Kyt5acybaE",
        "colab_type": "text"
      },
      "source": [
        "# Using Torch \n",
        "\n",
        "---"
      ]
    },
    {
      "cell_type": "code",
      "metadata": {
        "id": "1jbj4OrP4um5",
        "colab_type": "code",
        "colab": {
          "base_uri": "https://localhost:8080/",
          "height": 35
        },
        "outputId": "ec6e7723-a57b-4e0b-a560-cebd927a1d34"
      },
      "source": [
        "# Gets the device the notebook is currently running on \n",
        "device = torch.device(\"cuda:0\" if torch.cuda.is_available() else \"cpu\") \n",
        "print(device)"
      ],
      "execution_count": 23,
      "outputs": [
        {
          "output_type": "stream",
          "text": [
            "cuda:0\n"
          ],
          "name": "stdout"
        }
      ]
    },
    {
      "cell_type": "code",
      "metadata": {
        "id": "MSQyNxWzzVIz",
        "colab_type": "code",
        "colab": {}
      },
      "source": [
        "# Delcare our custom data loader \n",
        "class loadData(Dataset): \n",
        "\n",
        "    def __init__(self, data, labels): \n",
        "        self.data = data\n",
        "        self.labels = labels\n",
        "        self.size = data.shape[0]\n",
        "\n",
        "    def __getitem__(self, index): \n",
        "        return self.data[index], self.labels[index]\n",
        "\n",
        "    def __len__(self):\n",
        "        return self.size"
      ],
      "execution_count": 24,
      "outputs": []
    },
    {
      "cell_type": "code",
      "metadata": {
        "id": "5ktK4p5B9DjA",
        "colab_type": "code",
        "colab": {}
      },
      "source": [
        "# Lets convert the data in torch tensors\n",
        "x_train = torch.from_numpy(all_train_data).to(device).float()\n",
        "y_train = torch.from_numpy(all_train_labels).to(device).long()\n",
        "\n",
        "x_val = torch.from_numpy(all_val_data).to(device).float()\n",
        "y_val = torch.from_numpy(all_val_labels).to(device).long()\n",
        "\n",
        "# Puts into a dict \n",
        "data = {\"train\": DataLoader(dataset=loadData(x_train, y_train), batch_size=4, shuffle=True, num_workers=0), \n",
        "        \"val\": DataLoader(dataset=loadData(x_val, y_val), batch_size=4, shuffle=True, num_workers=0) }\n",
        "data_sizes = {\"train\": x_train.shape[0], \"val\": x_val.shape[0] }"
      ],
      "execution_count": 26,
      "outputs": []
    },
    {
      "cell_type": "code",
      "metadata": {
        "id": "uliq2hBg-gfO",
        "colab_type": "code",
        "colab": {}
      },
      "source": [
        "loss_over_time = []\n",
        "def train_model(model, criterion, optimizer, scheduler, num_epochs=25):\n",
        "    since = time.time()\n",
        "\n",
        "    best_model_wts = copy.deepcopy(model.state_dict())\n",
        "    best_val = 10000\n",
        "\n",
        "    for epoch in range(num_epochs):\n",
        "        print('Epoch {}/{}'.format(epoch, num_epochs - 1))\n",
        "        print('-' * 10)\n",
        "\n",
        "        # Each epoch has a training and validation phase\n",
        "        for phase in ['train', 'val']:\n",
        "            if phase == 'train':\n",
        "                model.train()  # Set model to training mode\n",
        "            else:\n",
        "                model.eval()   # Set model to evaluate mode\n",
        "\n",
        "            running_loss = 0.0\n",
        "            running_corrects = 0\n",
        "\n",
        "            # Iterate over data.\n",
        "            for inputs, labels in data[phase]:\n",
        "                inputs = inputs.to(device)\n",
        "                labels = labels.to(device)\n",
        "\n",
        "                # zero the parameter gradients\n",
        "                optimizer.zero_grad()\n",
        "\n",
        "                # forward\n",
        "                # track history if only in train\n",
        "                with torch.set_grad_enabled(phase == 'train'):\n",
        "                    outputs = model(inputs)\n",
        "                    _, preds = torch.max(outputs, 1)\n",
        "\n",
        "                    # For printing - Comment/Uncomment as needed \n",
        "                    '''\n",
        "                    if phase == \"val\": \n",
        "                        print(\"Inputs\", inputs)\n",
        "                        print(\"Preds \", preds)\n",
        "                        print(\"Labels \", labels)\n",
        "                        print(\"----------------\")\n",
        "                    ''' \n",
        "\n",
        "                    loss = criterion(outputs, labels)\n",
        "\n",
        "                    # backward + optimize only if in training phase\n",
        "                    if phase == 'train':\n",
        "                        loss.backward()\n",
        "                        optimizer.step()\n",
        "\n",
        "                # statistics\n",
        "                running_loss += loss.item() * inputs.size(0)\n",
        "                running_corrects += torch.sum(preds == labels.data)\n",
        "            if phase == 'train':\n",
        "                scheduler.step()\n",
        "\n",
        "            epoch_loss = running_loss / data_sizes[phase]\n",
        "            epoch_acc = running_corrects.double() / data_sizes[phase]\n",
        "\n",
        "            if phase == \"val\":\n",
        "                loss_over_time.append(epoch_loss)\n",
        "            print('{} Loss: {:.4f} Acc: {:.4f}'.format(\n",
        "                phase, epoch_loss, epoch_acc))\n",
        "\n",
        "            # deep copy the model\n",
        "            if phase == 'val' and epoch_loss < best_val:\n",
        "                best_val = epoch_loss\n",
        "                best_model_wts = copy.deepcopy(model.state_dict()) \n",
        "            \n",
        "        print()\n",
        "\n",
        "    time_elapsed = time.time() - since\n",
        "    print('Training complete in {:.0f}m {:.0f}s'.format(\n",
        "        time_elapsed // 60, time_elapsed % 60))\n",
        "    print('Best val Acc: {:4f}'.format(best_val))\n",
        "\n",
        "    # load best model weights\n",
        "    model.load_state_dict(best_model_wts)\n",
        "    return model"
      ],
      "execution_count": 27,
      "outputs": []
    },
    {
      "cell_type": "code",
      "metadata": {
        "id": "W9zLNg0eBjM2",
        "colab_type": "code",
        "colab": {}
      },
      "source": [
        "model_conv = torchvision.models.resnet50(pretrained=True)\n",
        "\n",
        "# Paramters of newly constructed modules have required_grad = True by default \n",
        "num_ftrs = model_conv.fc.in_features\n",
        "model_conv.fc = nn.Sequential(\n",
        "    nn.Linear(num_ftrs, 2)\n",
        ")\n",
        "\n",
        "model_conv = model_conv.to(device)\n",
        "\n",
        "criterion = nn.CrossEntropyLoss()\n",
        "\n",
        "optimizer_conv = optim.Adam(model_conv.fc.parameters(), lr=1e-7)\n",
        "\n",
        "exp_lr_scheduler = lr_scheduler.StepLR(optimizer_conv, step_size=100, gamma=0.1)"
      ],
      "execution_count": 133,
      "outputs": []
    },
    {
      "cell_type": "code",
      "metadata": {
        "id": "AHEXQcRhxSTM",
        "colab_type": "code",
        "colab": {
          "base_uri": "https://localhost:8080/",
          "height": 232
        },
        "outputId": "09ca313f-4d83-4712-b0d3-9c3f0afecc1e"
      },
      "source": [
        "trained_model = train_model(model_conv, criterion=criterion, optimizer=optimizer_conv, scheduler=exp_lr_scheduler, num_epochs=2)"
      ],
      "execution_count": 128,
      "outputs": [
        {
          "output_type": "stream",
          "text": [
            "Epoch 0/1\n",
            "----------\n",
            "train Loss: 0.6923 Acc: 0.5544\n",
            "val Loss: 0.6878 Acc: 0.5301\n",
            "\n",
            "Epoch 1/1\n",
            "----------\n",
            "train Loss: 0.6863 Acc: 0.5550\n",
            "val Loss: 0.6465 Acc: 0.5787\n",
            "\n",
            "Training complete in 1m 11s\n",
            "Best val Acc: 0.646459\n"
          ],
          "name": "stdout"
        }
      ]
    },
    {
      "cell_type": "markdown",
      "metadata": {
        "id": "Zu9KoVXWmT2l",
        "colab_type": "text"
      },
      "source": [
        "## Testing the Model "
      ]
    },
    {
      "cell_type": "code",
      "metadata": {
        "id": "bnGfkq2k4pGw",
        "colab_type": "code",
        "colab": {
          "base_uri": "https://localhost:8080/",
          "height": 55
        },
        "outputId": "06becf10-b342-4c81-bfa1-0323ecf956a7"
      },
      "source": [
        "# Convert testing data into py torch array \n",
        "x_test = torch.from_numpy(normalized_all_test_data).to(device).float()\n",
        "y_test = torch.from_numpy(all_test_labels).to(device).long()\n",
        "y_actual = y_test.tolist()\n",
        "print(y_actual)"
      ],
      "execution_count": 129,
      "outputs": [
        {
          "output_type": "stream",
          "text": [
            "[0, 0, 0, 0, 0, 0, 0, 0, 0, 0, 0, 0, 0, 0, 0, 0, 0, 0, 0, 0, 0, 0, 0, 0, 0, 0, 0, 0, 0, 0, 0, 0, 0, 0, 0, 0, 0, 0, 0, 0, 0, 0, 0, 0, 0, 0, 0, 0, 0, 0, 0, 0, 0, 0, 0, 0, 0, 0, 0, 0, 0, 0, 0, 0, 0, 0, 0, 0, 0, 0, 0, 0, 0, 0, 0, 0, 0, 0, 0, 0, 0, 0, 0, 0, 0, 0, 0, 0, 0, 0, 0, 0, 0, 0, 0, 0, 0, 0, 0, 0, 0, 0, 0, 0, 0, 0, 0, 0, 0, 0, 0, 0, 0, 0, 0, 0, 0, 0, 0, 0, 0, 0, 0, 0, 0, 0, 0, 0, 0, 0, 0, 0, 0, 0, 0, 0, 0, 0, 0, 0, 0, 0, 0, 0, 0, 0, 0, 0, 0, 0, 0, 0, 0, 0, 0, 0, 0, 0, 0, 0, 0, 0, 0, 0, 0, 0, 0, 0, 0, 0, 0, 0, 0, 0, 0, 0, 0, 0, 0, 0, 0, 0, 0, 0, 0, 0, 0, 0, 0, 0, 0, 0, 0, 0, 0, 0, 0, 0, 0, 0, 0, 0, 0, 0, 0, 0, 0, 0, 0, 0, 0, 0, 0, 0, 0, 0, 0, 0, 0, 0, 0, 0, 0, 0, 0, 0, 0, 0, 0, 0, 0, 0, 0, 0, 0, 0, 0, 0, 0, 0, 0, 0, 0, 0, 0, 0, 0, 0, 0, 0, 0, 0, 0, 0, 0, 0, 0, 0, 0, 0, 0, 0, 0, 0, 0, 0, 0, 0, 0, 0, 0, 0, 0, 0, 0, 0, 0, 0, 0, 0, 0, 0, 0, 0, 0, 0, 0, 0, 0, 0, 0, 0, 0, 0, 0, 0, 0, 0, 0, 0, 0, 0, 0, 0, 0, 0, 0, 0, 0, 0, 0, 0, 0, 0, 0, 0, 0, 0, 0, 0, 0, 0, 0, 0, 0, 0, 0, 0, 0, 0, 0, 0, 0, 0, 0, 0, 0, 0, 0, 0, 0, 0, 0, 0, 0, 0, 0, 0, 0, 0, 0, 0, 0, 0, 0, 0, 0, 0, 0, 0, 0, 0, 0, 0, 0, 0, 0, 0, 0, 0, 0, 0, 0, 0, 0, 0, 0, 0, 0, 0, 0, 0, 0, 0, 0, 0, 0, 0, 0, 0, 0, 0, 0, 0, 0, 0, 0, 0, 0, 0, 0, 0, 1, 1, 1, 1, 1, 1, 1, 1, 1, 1, 1, 1, 1, 1, 1, 1, 1, 1, 1, 1, 1, 1, 1, 1, 1, 1, 1, 1, 1, 1, 1, 1, 1, 1, 1, 1, 1, 1, 1, 1, 1, 1]\n"
          ],
          "name": "stdout"
        }
      ]
    },
    {
      "cell_type": "code",
      "metadata": {
        "id": "fhoxRtNmCh3r",
        "colab_type": "code",
        "colab": {
          "base_uri": "https://localhost:8080/",
          "height": 55
        },
        "outputId": "3e1e7e3c-13bb-42e1-bfb1-796ef5b0d485"
      },
      "source": [
        "y_pred = []\n",
        "with torch.no_grad(): \n",
        "    for inputs,labels in zip(x_test, y_test): \n",
        "        outputs = trained_model(inputs.view(-1,3,230,230))\n",
        "        _, preds = torch.max(outputs, 1)\n",
        "        y_pred.append(preds.item())\n",
        "\n",
        "\n",
        "print(y_pred)"
      ],
      "execution_count": 130,
      "outputs": [
        {
          "output_type": "stream",
          "text": [
            "[1, 1, 1, 1, 0, 1, 1, 1, 1, 1, 1, 1, 1, 1, 0, 0, 1, 1, 0, 0, 1, 1, 1, 0, 0, 0, 1, 1, 1, 1, 1, 0, 0, 1, 0, 1, 1, 1, 1, 1, 0, 1, 1, 1, 0, 1, 0, 1, 0, 0, 1, 1, 1, 0, 1, 0, 0, 0, 1, 0, 0, 1, 1, 1, 0, 0, 1, 0, 0, 1, 1, 1, 1, 0, 1, 1, 1, 0, 0, 0, 1, 0, 0, 0, 0, 1, 1, 1, 1, 1, 1, 0, 1, 1, 0, 0, 0, 1, 1, 1, 1, 1, 1, 0, 1, 1, 1, 0, 0, 0, 0, 1, 1, 1, 1, 0, 1, 1, 1, 1, 1, 1, 0, 1, 0, 1, 1, 1, 0, 1, 1, 0, 1, 1, 1, 1, 1, 1, 0, 1, 0, 1, 0, 0, 0, 1, 1, 1, 1, 1, 1, 0, 1, 0, 1, 1, 1, 1, 1, 0, 1, 1, 0, 1, 1, 0, 1, 1, 1, 0, 1, 1, 1, 0, 1, 1, 1, 1, 0, 1, 1, 1, 0, 1, 1, 0, 1, 1, 0, 1, 0, 0, 0, 0, 0, 1, 1, 0, 1, 1, 1, 1, 1, 1, 1, 1, 1, 1, 1, 1, 1, 0, 1, 1, 0, 0, 1, 0, 1, 1, 0, 0, 0, 1, 1, 0, 1, 0, 0, 0, 0, 1, 1, 0, 0, 0, 1, 0, 0, 1, 0, 1, 0, 0, 0, 1, 1, 1, 1, 0, 0, 0, 0, 0, 0, 0, 0, 1, 0, 0, 0, 0, 0, 1, 0, 1, 0, 0, 0, 0, 0, 1, 1, 1, 0, 1, 1, 0, 1, 1, 0, 1, 1, 1, 1, 0, 1, 1, 0, 1, 1, 0, 0, 0, 1, 1, 1, 0, 1, 1, 0, 1, 1, 1, 0, 1, 1, 1, 1, 1, 1, 1, 1, 1, 1, 0, 0, 0, 0, 1, 1, 1, 0, 1, 1, 1, 1, 1, 1, 0, 0, 1, 1, 0, 1, 1, 0, 0, 0, 1, 1, 0, 0, 1, 0, 0, 1, 0, 0, 0, 0, 0, 1, 1, 1, 0, 1, 1, 1, 1, 0, 1, 1, 0, 1, 0, 1, 1, 0, 1, 1, 1, 1, 1, 1, 1, 1, 1, 1, 1, 1, 1, 1, 0, 1, 1, 1, 1, 1, 0, 1, 1, 1, 0, 0, 0, 1, 1, 1, 1, 1, 1, 0, 1, 0, 0, 0, 1, 1, 0, 0, 1, 1, 0, 0, 0, 0, 1, 1, 1, 1, 1, 0, 1, 1, 0, 1, 0, 0, 0, 1, 0, 0, 1, 1, 1, 1, 1, 1, 0, 0, 1, 1, 1]\n"
          ],
          "name": "stdout"
        }
      ]
    },
    {
      "cell_type": "code",
      "metadata": {
        "id": "tM_-owbLBqzQ",
        "colab_type": "code",
        "colab": {}
      },
      "source": [
        "df = pd.DataFrame(data = {\"y_Actual\": y_actual, \"y_Predicted\": y_pred}, columns=['y_Actual','y_Predicted'])"
      ],
      "execution_count": 131,
      "outputs": []
    },
    {
      "cell_type": "code",
      "metadata": {
        "id": "1CdwvO4iCqjy",
        "colab_type": "code",
        "colab": {
          "base_uri": "https://localhost:8080/",
          "height": 282
        },
        "outputId": "fed25e15-0e87-4b2b-8795-0578d8bb8205"
      },
      "source": [
        "confusion_matrix = pd.crosstab(df['y_Actual'], df['y_Predicted'], rownames=['Actual'], colnames=['Predicted'], margins = False)\n",
        "\n",
        "sn.heatmap(confusion_matrix, annot=True, cmap=\"Blues\")\n",
        "plt.show()"
      ],
      "execution_count": 132,
      "outputs": [
        {
          "output_type": "display_data",
          "data": {
            "image/png": "[encoded data removed]",
            "text/plain": [
              "<Figure size 432x288 with 2 Axes>"
            ]
          },
          "metadata": {
            "tags": [],
            "needs_background": "light"
          }
        }
      ]
    },
    {
      "cell_type": "code",
      "metadata": {
        "id": "k1a0ETi7nUDI",
        "colab_type": "code",
        "colab": {
          "base_uri": "https://localhost:8080/",
          "height": 1000
        },
        "outputId": "f1065f20-2e97-497a-9b05-ea21d445e1a7"
      },
      "source": [
        "for i in range(30): # Loops through and prints testing results for every epoch in the range of 30 epochs \n",
        "    print(\"Epoch \", i)\n",
        "    print(\"--------------------------\")\n",
        "    trained_model = train_model(model_conv, criterion=criterion, optimizer=optimizer_conv, scheduler=exp_lr_scheduler, num_epochs=1)\n",
        "\n",
        "    y_pred = []\n",
        "    with torch.no_grad(): \n",
        "        for inputs,labels in zip(x_test, y_test): \n",
        "            outputs = trained_model(inputs.view(-1,3,230,230))\n",
        "            _, preds = torch.max(outputs, 1)\n",
        "            y_pred.append(preds.item())\n",
        "\n",
        "    df = pd.DataFrame(data = {\"y_Actual\": y_actual, \"y_Predicted\": y_pred}, columns=['y_Actual','y_Predicted'])\n",
        "\n",
        "    confusion_matrix = pd.crosstab(df['y_Actual'], df['y_Predicted'], rownames=['Actual'], colnames=['Predicted'], margins = False)\n",
        "\n",
        "    sn.heatmap(confusion_matrix, annot=True, cmap=\"Blues\")\n",
        "    plt.show()\n",
        "\n",
        "    print(\"--------------------------\")"
      ],
      "execution_count": 134,
      "outputs": [
        {
          "output_type": "stream",
          "text": [
            "Epoch  0\n",
            "--------------------------\n",
            "Epoch 0/0\n",
            "----------\n",
            "train Loss: 0.6112 Acc: 0.5667\n",
            "val Loss: 0.6471 Acc: 0.4954\n",
            "\n",
            "Training complete in 0m 35s\n",
            "Best val Acc: 0.647090\n"
          ],
          "name": "stdout"
        },
        {
          "output_type": "display_data",
          "data": {
            "image/png": "[encoded data removed]",
            "text/plain": [
              "<Figure size 432x288 with 2 Axes>"
            ]
          },
          "metadata": {
            "tags": [],
            "needs_background": "light"
          }
        },
        {
          "output_type": "stream",
          "text": [
            "--------------------------\n",
            "Epoch  1\n",
            "--------------------------\n",
            "Epoch 0/0\n",
            "----------\n",
            "train Loss: 0.6073 Acc: 0.5722\n",
            "val Loss: 0.6819 Acc: 0.4861\n",
            "\n",
            "Training complete in 0m 35s\n",
            "Best val Acc: 0.681929\n"
          ],
          "name": "stdout"
        },
        {
          "output_type": "display_data",
          "data": {
            "image/png": "[encoded data removed]",
            "text/plain": [
              "<Figure size 432x288 with 2 Axes>"
            ]
          },
          "metadata": {
            "tags": [],
            "needs_background": "light"
          }
        },
        {
          "output_type": "stream",
          "text": [
            "--------------------------\n",
            "Epoch  2\n",
            "--------------------------\n",
            "Epoch 0/0\n",
            "----------\n",
            "train Loss: 0.6087 Acc: 0.5794\n",
            "val Loss: 0.6096 Acc: 0.5532\n",
            "\n",
            "Training complete in 0m 35s\n",
            "Best val Acc: 0.609645\n"
          ],
          "name": "stdout"
        },
        {
          "output_type": "display_data",
          "data": {
            "image/png": "[encoded data removed]",
            "text/plain": [
              "<Figure size 432x288 with 2 Axes>"
            ]
          },
          "metadata": {
            "tags": [],
            "needs_background": "light"
          }
        },
        {
          "output_type": "stream",
          "text": [
            "--------------------------\n",
            "Epoch  3\n",
            "--------------------------\n",
            "Epoch 0/0\n",
            "----------\n",
            "train Loss: 0.6013 Acc: 0.5906\n",
            "val Loss: 0.6235 Acc: 0.5093\n",
            "\n",
            "Training complete in 0m 36s\n",
            "Best val Acc: 0.623531\n"
          ],
          "name": "stdout"
        },
        {
          "output_type": "display_data",
          "data": {
            "image/png": "[encoded data removed]",
            "text/plain": [
              "<Figure size 432x288 with 2 Axes>"
            ]
          },
          "metadata": {
            "tags": [],
            "needs_background": "light"
          }
        },
        {
          "output_type": "stream",
          "text": [
            "--------------------------\n",
            "Epoch  4\n",
            "--------------------------\n",
            "Epoch 0/0\n",
            "----------\n",
            "train Loss: 0.6020 Acc: 0.5961\n",
            "val Loss: 0.6152 Acc: 0.5833\n",
            "\n",
            "Training complete in 0m 36s\n",
            "Best val Acc: 0.615217\n"
          ],
          "name": "stdout"
        },
        {
          "output_type": "display_data",
          "data": {
            "image/png": "[encoded data removed]",
            "text/plain": [
              "<Figure size 432x288 with 2 Axes>"
            ]
          },
          "metadata": {
            "tags": [],
            "needs_background": "light"
          }
        },
        {
          "output_type": "stream",
          "text": [
            "--------------------------\n",
            "Epoch  5\n",
            "--------------------------\n",
            "Epoch 0/0\n",
            "----------\n",
            "train Loss: 0.5984 Acc: 0.5983\n",
            "val Loss: 0.6202 Acc: 0.5509\n",
            "\n",
            "Training complete in 0m 36s\n",
            "Best val Acc: 0.620169\n"
          ],
          "name": "stdout"
        },
        {
          "output_type": "display_data",
          "data": {
            "image/png": "[encoded data removed]",
            "text/plain": [
              "<Figure size 432x288 with 2 Axes>"
            ]
          },
          "metadata": {
            "tags": [],
            "needs_background": "light"
          }
        },
        {
          "output_type": "stream",
          "text": [
            "--------------------------\n",
            "Epoch  6\n",
            "--------------------------\n",
            "Epoch 0/0\n",
            "----------\n",
            "train Loss: 0.5919 Acc: 0.6150\n",
            "val Loss: 0.6412 Acc: 0.5000\n",
            "\n",
            "Training complete in 0m 35s\n",
            "Best val Acc: 0.641214\n"
          ],
          "name": "stdout"
        },
        {
          "output_type": "display_data",
          "data": {
            "image/png": "[encoded data removed]",
            "text/plain": [
              "<Figure size 432x288 with 2 Axes>"
            ]
          },
          "metadata": {
            "tags": [],
            "needs_background": "light"
          }
        },
        {
          "output_type": "stream",
          "text": [
            "--------------------------\n",
            "Epoch  7\n",
            "--------------------------\n",
            "Epoch 0/0\n",
            "----------\n",
            "train Loss: 0.5898 Acc: 0.6200\n",
            "val Loss: 0.6675 Acc: 0.4907\n",
            "\n",
            "Training complete in 0m 36s\n",
            "Best val Acc: 0.667517\n"
          ],
          "name": "stdout"
        },
        {
          "output_type": "display_data",
          "data": {
            "image/png": "[encoded data removed]",
            "text/plain": [
              "<Figure size 432x288 with 2 Axes>"
            ]
          },
          "metadata": {
            "tags": [],
            "needs_background": "light"
          }
        },
        {
          "output_type": "stream",
          "text": [
            "--------------------------\n",
            "Epoch  8\n",
            "--------------------------\n",
            "Epoch 0/0\n",
            "----------\n",
            "train Loss: 0.5866 Acc: 0.6211\n",
            "val Loss: 0.6215 Acc: 0.5648\n",
            "\n",
            "Training complete in 0m 36s\n",
            "Best val Acc: 0.621477\n"
          ],
          "name": "stdout"
        },
        {
          "output_type": "display_data",
          "data": {
            "image/png": "[encoded data removed]",
            "text/plain": [
              "<Figure size 432x288 with 2 Axes>"
            ]
          },
          "metadata": {
            "tags": [],
            "needs_background": "light"
          }
        },
        {
          "output_type": "stream",
          "text": [
            "--------------------------\n",
            "Epoch  9\n",
            "--------------------------\n",
            "Epoch 0/0\n",
            "----------\n",
            "train Loss: 0.5919 Acc: 0.6189\n",
            "val Loss: 0.5950 Acc: 0.7245\n",
            "\n",
            "Training complete in 0m 36s\n",
            "Best val Acc: 0.594955\n"
          ],
          "name": "stdout"
        },
        {
          "output_type": "display_data",
          "data": {
            "image/png": "[encoded data removed]",
            "text/plain": [
              "<Figure size 432x288 with 2 Axes>"
            ]
          },
          "metadata": {
            "tags": [],
            "needs_background": "light"
          }
        },
        {
          "output_type": "stream",
          "text": [
            "--------------------------\n",
            "Epoch  10\n",
            "--------------------------\n",
            "Epoch 0/0\n",
            "----------\n",
            "train Loss: 0.5841 Acc: 0.6417\n",
            "val Loss: 0.6117 Acc: 0.5787\n",
            "\n",
            "Training complete in 0m 36s\n",
            "Best val Acc: 0.611701\n"
          ],
          "name": "stdout"
        },
        {
          "output_type": "display_data",
          "data": {
            "image/png": "[encoded data removed]",
            "text/plain": [
              "<Figure size 432x288 with 2 Axes>"
            ]
          },
          "metadata": {
            "tags": [],
            "needs_background": "light"
          }
        },
        {
          "output_type": "stream",
          "text": [
            "--------------------------\n",
            "Epoch  11\n",
            "--------------------------\n",
            "Epoch 0/0\n",
            "----------\n",
            "train Loss: 0.5851 Acc: 0.6267\n",
            "val Loss: 0.6556 Acc: 0.5255\n",
            "\n",
            "Training complete in 0m 36s\n",
            "Best val Acc: 0.655560\n"
          ],
          "name": "stdout"
        },
        {
          "output_type": "display_data",
          "data": {
            "image/png": "[encoded data removed]",
            "text/plain": [
              "<Figure size 432x288 with 2 Axes>"
            ]
          },
          "metadata": {
            "tags": [],
            "needs_background": "light"
          }
        },
        {
          "output_type": "stream",
          "text": [
            "--------------------------\n",
            "Epoch  12\n",
            "--------------------------\n",
            "Epoch 0/0\n",
            "----------\n",
            "train Loss: 0.5773 Acc: 0.6372\n",
            "val Loss: 0.6069 Acc: 0.6296\n",
            "\n",
            "Training complete in 0m 36s\n",
            "Best val Acc: 0.606881\n"
          ],
          "name": "stdout"
        },
        {
          "output_type": "display_data",
          "data": {
            "image/png": "[encoded data removed]",
            "text/plain": [
              "<Figure size 432x288 with 2 Axes>"
            ]
          },
          "metadata": {
            "tags": [],
            "needs_background": "light"
          }
        },
        {
          "output_type": "stream",
          "text": [
            "--------------------------\n",
            "Epoch  13\n",
            "--------------------------\n",
            "Epoch 0/0\n",
            "----------\n",
            "train Loss: 0.5805 Acc: 0.6417\n",
            "val Loss: 0.5852 Acc: 0.6713\n",
            "\n",
            "Training complete in 0m 36s\n",
            "Best val Acc: 0.585230\n"
          ],
          "name": "stdout"
        },
        {
          "output_type": "display_data",
          "data": {
            "image/png": "[encoded data removed]",
            "text/plain": [
              "<Figure size 432x288 with 2 Axes>"
            ]
          },
          "metadata": {
            "tags": [],
            "needs_background": "light"
          }
        },
        {
          "output_type": "stream",
          "text": [
            "--------------------------\n",
            "Epoch  14\n",
            "--------------------------\n",
            "Epoch 0/0\n",
            "----------\n",
            "train Loss: 0.5741 Acc: 0.6622\n",
            "val Loss: 0.5567 Acc: 0.8611\n",
            "\n",
            "Training complete in 0m 35s\n",
            "Best val Acc: 0.556685\n"
          ],
          "name": "stdout"
        },
        {
          "output_type": "display_data",
          "data": {
            "image/png": "[encoded data removed]",
            "text/plain": [
              "<Figure size 432x288 with 2 Axes>"
            ]
          },
          "metadata": {
            "tags": [],
            "needs_background": "light"
          }
        },
        {
          "output_type": "stream",
          "text": [
            "--------------------------\n",
            "Epoch  15\n",
            "--------------------------\n",
            "Epoch 0/0\n",
            "----------\n",
            "train Loss: 0.5738 Acc: 0.6500\n",
            "val Loss: 0.5827 Acc: 0.6551\n",
            "\n",
            "Training complete in 0m 36s\n",
            "Best val Acc: 0.582699\n"
          ],
          "name": "stdout"
        },
        {
          "output_type": "display_data",
          "data": {
            "image/png": "[encoded data removed]",
            "text/plain": [
              "<Figure size 432x288 with 2 Axes>"
            ]
          },
          "metadata": {
            "tags": [],
            "needs_background": "light"
          }
        },
        {
          "output_type": "stream",
          "text": [
            "--------------------------\n",
            "Epoch  16\n",
            "--------------------------\n",
            "Epoch 0/0\n",
            "----------\n",
            "train Loss: 0.5725 Acc: 0.6522\n",
            "val Loss: 0.6067 Acc: 0.6065\n",
            "\n",
            "Training complete in 0m 36s\n",
            "Best val Acc: 0.606673\n"
          ],
          "name": "stdout"
        },
        {
          "output_type": "display_data",
          "data": {
            "image/png": "[encoded data removed]",
            "text/plain": [
              "<Figure size 432x288 with 2 Axes>"
            ]
          },
          "metadata": {
            "tags": [],
            "needs_background": "light"
          }
        },
        {
          "output_type": "stream",
          "text": [
            "--------------------------\n",
            "Epoch  17\n",
            "--------------------------\n",
            "Epoch 0/0\n",
            "----------\n",
            "train Loss: 0.5626 Acc: 0.6711\n",
            "val Loss: 0.5916 Acc: 0.7269\n",
            "\n",
            "Training complete in 0m 36s\n",
            "Best val Acc: 0.591633\n"
          ],
          "name": "stdout"
        },
        {
          "output_type": "display_data",
          "data": {
            "image/png": "[encoded data removed]",
            "text/plain": [
              "<Figure size 432x288 with 2 Axes>"
            ]
          },
          "metadata": {
            "tags": [],
            "needs_background": "light"
          }
        },
        {
          "output_type": "stream",
          "text": [
            "--------------------------\n",
            "Epoch  18\n",
            "--------------------------\n",
            "Epoch 0/0\n",
            "----------\n",
            "train Loss: 0.5646 Acc: 0.6722\n",
            "val Loss: 0.5610 Acc: 0.8148\n",
            "\n",
            "Training complete in 0m 36s\n",
            "Best val Acc: 0.561013\n"
          ],
          "name": "stdout"
        },
        {
          "output_type": "display_data",
          "data": {
            "image/png": "[encoded data removed]",
            "text/plain": [
              "<Figure size 432x288 with 2 Axes>"
            ]
          },
          "metadata": {
            "tags": [],
            "needs_background": "light"
          }
        },
        {
          "output_type": "stream",
          "text": [
            "--------------------------\n",
            "Epoch  19\n",
            "--------------------------\n",
            "Epoch 0/0\n",
            "----------\n",
            "train Loss: 0.5579 Acc: 0.6833\n",
            "val Loss: 0.6063 Acc: 0.6435\n",
            "\n",
            "Training complete in 0m 36s\n",
            "Best val Acc: 0.606350\n"
          ],
          "name": "stdout"
        },
        {
          "output_type": "display_data",
          "data": {
            "image/png": "[encoded data removed]",
            "text/plain": [
              "<Figure size 432x288 with 2 Axes>"
            ]
          },
          "metadata": {
            "tags": [],
            "needs_background": "light"
          }
        },
        {
          "output_type": "stream",
          "text": [
            "--------------------------\n",
            "Epoch  20\n",
            "--------------------------\n",
            "Epoch 0/0\n",
            "----------\n",
            "train Loss: 0.5615 Acc: 0.6844\n",
            "val Loss: 0.5924 Acc: 0.6736\n",
            "\n",
            "Training complete in 0m 36s\n",
            "Best val Acc: 0.592447\n"
          ],
          "name": "stdout"
        },
        {
          "output_type": "display_data",
          "data": {
            "image/png": "[encoded data removed]",
            "text/plain": [
              "<Figure size 432x288 with 2 Axes>"
            ]
          },
          "metadata": {
            "tags": [],
            "needs_background": "light"
          }
        },
        {
          "output_type": "stream",
          "text": [
            "--------------------------\n",
            "Epoch  21\n",
            "--------------------------\n",
            "Epoch 0/0\n",
            "----------\n",
            "train Loss: 0.5542 Acc: 0.6883\n",
            "val Loss: 0.5610 Acc: 0.8102\n",
            "\n",
            "Training complete in 0m 36s\n",
            "Best val Acc: 0.560976\n"
          ],
          "name": "stdout"
        },
        {
          "output_type": "display_data",
          "data": {
            "image/png": "[encoded data removed]",
            "text/plain": [
              "<Figure size 432x288 with 2 Axes>"
            ]
          },
          "metadata": {
            "tags": [],
            "needs_background": "light"
          }
        },
        {
          "output_type": "stream",
          "text": [
            "--------------------------\n",
            "Epoch  22\n",
            "--------------------------\n",
            "Epoch 0/0\n",
            "----------\n",
            "train Loss: 0.5560 Acc: 0.6883\n",
            "val Loss: 0.6021 Acc: 0.7245\n",
            "\n",
            "Training complete in 0m 35s\n",
            "Best val Acc: 0.602073\n"
          ],
          "name": "stdout"
        },
        {
          "output_type": "display_data",
          "data": {
            "image/png": "[encoded data removed]",
            "text/plain": [
              "<Figure size 432x288 with 2 Axes>"
            ]
          },
          "metadata": {
            "tags": [],
            "needs_background": "light"
          }
        },
        {
          "output_type": "stream",
          "text": [
            "--------------------------\n",
            "Epoch  23\n",
            "--------------------------\n",
            "Epoch 0/0\n",
            "----------\n",
            "train Loss: 0.5583 Acc: 0.6872\n",
            "val Loss: 0.5677 Acc: 0.7523\n",
            "\n",
            "Training complete in 0m 36s\n",
            "Best val Acc: 0.567705\n"
          ],
          "name": "stdout"
        },
        {
          "output_type": "display_data",
          "data": {
            "image/png": "[encoded data removed]",
            "text/plain": [
              "<Figure size 432x288 with 2 Axes>"
            ]
          },
          "metadata": {
            "tags": [],
            "needs_background": "light"
          }
        },
        {
          "output_type": "stream",
          "text": [
            "--------------------------\n",
            "Epoch  24\n",
            "--------------------------\n",
            "Epoch 0/0\n",
            "----------\n",
            "train Loss: 0.5506 Acc: 0.6983\n",
            "val Loss: 0.5907 Acc: 0.7292\n",
            "\n",
            "Training complete in 0m 36s\n",
            "Best val Acc: 0.590740\n"
          ],
          "name": "stdout"
        },
        {
          "output_type": "display_data",
          "data": {
            "image/png": "[encoded data removed]",
            "text/plain": [
              "<Figure size 432x288 with 2 Axes>"
            ]
          },
          "metadata": {
            "tags": [],
            "needs_background": "light"
          }
        },
        {
          "output_type": "stream",
          "text": [
            "--------------------------\n",
            "Epoch  25\n",
            "--------------------------\n",
            "Epoch 0/0\n",
            "----------\n",
            "train Loss: 0.5521 Acc: 0.7056\n",
            "val Loss: 0.5148 Acc: 0.9769\n",
            "\n",
            "Training complete in 0m 36s\n",
            "Best val Acc: 0.514832\n"
          ],
          "name": "stdout"
        },
        {
          "output_type": "display_data",
          "data": {
            "image/png": "[encoded data removed]",
            "text/plain": [
              "<Figure size 432x288 with 2 Axes>"
            ]
          },
          "metadata": {
            "tags": [],
            "needs_background": "light"
          }
        },
        {
          "output_type": "stream",
          "text": [
            "--------------------------\n",
            "Epoch  26\n",
            "--------------------------\n",
            "Epoch 0/0\n",
            "----------\n",
            "train Loss: 0.5511 Acc: 0.7067\n",
            "val Loss: 0.5736 Acc: 0.8079\n",
            "\n",
            "Training complete in 0m 36s\n",
            "Best val Acc: 0.573645\n"
          ],
          "name": "stdout"
        },
        {
          "output_type": "display_data",
          "data": {
            "image/png": "[encoded data removed]",
            "text/plain": [
              "<Figure size 432x288 with 2 Axes>"
            ]
          },
          "metadata": {
            "tags": [],
            "needs_background": "light"
          }
        },
        {
          "output_type": "stream",
          "text": [
            "--------------------------\n",
            "Epoch  27\n",
            "--------------------------\n",
            "Epoch 0/0\n",
            "----------\n",
            "train Loss: 0.5356 Acc: 0.7194\n",
            "val Loss: 0.5828 Acc: 0.7824\n",
            "\n",
            "Training complete in 0m 36s\n",
            "Best val Acc: 0.582754\n"
          ],
          "name": "stdout"
        },
        {
          "output_type": "display_data",
          "data": {
            "image/png": "[encoded data removed]",
            "text/plain": [
              "<Figure size 432x288 with 2 Axes>"
            ]
          },
          "metadata": {
            "tags": [],
            "needs_background": "light"
          }
        },
        {
          "output_type": "stream",
          "text": [
            "--------------------------\n",
            "Epoch  28\n",
            "--------------------------\n",
            "Epoch 0/0\n",
            "----------\n",
            "train Loss: 0.5421 Acc: 0.7194\n",
            "val Loss: 0.5659 Acc: 0.8565\n",
            "\n",
            "Training complete in 0m 36s\n",
            "Best val Acc: 0.565920\n"
          ],
          "name": "stdout"
        },
        {
          "output_type": "display_data",
          "data": {
            "image/png": "[encoded data removed]",
            "text/plain": [
              "<Figure size 432x288 with 2 Axes>"
            ]
          },
          "metadata": {
            "tags": [],
            "needs_background": "light"
          }
        },
        {
          "output_type": "stream",
          "text": [
            "--------------------------\n",
            "Epoch  29\n",
            "--------------------------\n",
            "Epoch 0/0\n",
            "----------\n",
            "train Loss: 0.5382 Acc: 0.7311\n",
            "val Loss: 0.5524 Acc: 0.8333\n",
            "\n",
            "Training complete in 0m 36s\n",
            "Best val Acc: 0.552389\n"
          ],
          "name": "stdout"
        },
        {
          "output_type": "display_data",
          "data": {
            "image/png": "[encoded data removed]",
            "text/plain": [
              "<Figure size 432x288 with 2 Axes>"
            ]
          },
          "metadata": {
            "tags": [],
            "needs_background": "light"
          }
        },
        {
          "output_type": "stream",
          "text": [
            "--------------------------\n"
          ],
          "name": "stdout"
        }
      ]
    }
  ]
}