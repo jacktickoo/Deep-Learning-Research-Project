{
  "nbformat": 4,
  "nbformat_minor": 0,
  "metadata": {
    "colab": {
      "name": "Feature Extraction Final.ipynb",
      "provenance": [],
      "collapsed_sections": [],
      "toc_visible": true
    },
    "kernelspec": {
      "name": "python3",
      "display_name": "Python 3"
    }
  },
  "cells": [
    {
      "cell_type": "markdown",
      "metadata": {
        "id": "zRDvDvhe8yqN",
        "colab_type": "text"
      },
      "source": [
        "# Read Before Using This File"
      ]
    },
    {
      "cell_type": "markdown",
      "metadata": {
        "id": "Bev9156i85K0",
        "colab_type": "text"
      },
      "source": [
        "This code requires the orginal physionet EEG data which can be foudn here: https://physionet.org/content/chbmit/1.0.0/.\n",
        "\n",
        "This code also requires the **seizure_locations.csv** and **new_locations.csv** files to work correctly. "
      ]
    },
    {
      "cell_type": "markdown",
      "metadata": {
        "id": "G9IZMuT5bINI",
        "colab_type": "text"
      },
      "source": [
        "# Feature Extraction"
      ]
    },
    {
      "cell_type": "markdown",
      "metadata": {
        "id": "FYzS_qcUbMEp",
        "colab_type": "text"
      },
      "source": [
        "## Importing the Packages we Need "
      ]
    },
    {
      "cell_type": "code",
      "metadata": {
        "id": "6s2uxvzUC_pR",
        "colab_type": "code",
        "colab": {
          "base_uri": "https://localhost:8080/",
          "height": 154
        },
        "outputId": "4185dfe3-02e1-4a9e-cca3-1f486c01ae2f"
      },
      "source": [
        "# Firstly lets import the packages we need \n",
        "!pip install mne \n",
        "# Note: the rest of the packages should be pre installed on colab "
      ],
      "execution_count": null,
      "outputs": [
        {
          "output_type": "stream",
          "text": [
            "Collecting mne\n",
            "\u001b[?25l  Downloading https://files.pythonhosted.org/packages/92/ab/9b79f927b599da515335afb4b666a7bb336930a6d8345e7b483a9980a9c1/mne-0.20.7-py3-none-any.whl (6.6MB)\n",
            "\u001b[K     |████████████████████████████████| 6.6MB 3.2MB/s \n",
            "\u001b[?25hRequirement already satisfied: scipy>=0.17.1 in /usr/local/lib/python3.6/dist-packages (from mne) (1.4.1)\n",
            "Requirement already satisfied: numpy>=1.11.3 in /usr/local/lib/python3.6/dist-packages (from mne) (1.18.5)\n",
            "Installing collected packages: mne\n",
            "Successfully installed mne-0.20.7\n"
          ],
          "name": "stdout"
        }
      ]
    },
    {
      "cell_type": "code",
      "metadata": {
        "id": "7_HaBmdDDOwu",
        "colab_type": "code",
        "colab": {}
      },
      "source": [
        "# Now lets import the packages we need \n",
        "import os # Needed for navigating directories\n",
        "import csv # Need to read the csv files \n",
        "import numpy as np\n",
        "import mne \n",
        "import matplotlib.pyplot as plt\n",
        "\n",
        "# Question about TF analysis website \n",
        "# https://mail.nmr.mgh.harvard.edu/pipermail//mne_analysis/2018-December/005398.html"
      ],
      "execution_count": null,
      "outputs": []
    },
    {
      "cell_type": "markdown",
      "metadata": {
        "id": "ZHmJ2hiNbT3X",
        "colab_type": "text"
      },
      "source": [
        "## Main Feature Extracting Function "
      ]
    },
    {
      "cell_type": "code",
      "metadata": {
        "id": "IgQE9OVVDWGd",
        "colab_type": "code",
        "colab": {}
      },
      "source": [
        "# This function will be used to create a images of 60 secs using a entire file or a given start and end time\n",
        "\n",
        "def get_images_from_file(file_location, common_channels, fs=256, notch_filter_value=60, tmin=1, tmax=2, entire_file=True):\n",
        "    # Note: requies the mne and numpy modules \n",
        "    # Input - takes file location, fs(sample rate of file)(default =256Hz), \n",
        "    # common_channels(required)- list of strings indicating the channels common to all eeg files\n",
        "    # notch_filter_value (at what hertz to apply the notch filter)(default = 60Hz)\n",
        "    # Ouput - will be (no_of_epcohs, 3(for channels),230(for freqs), (230 for times) )\n",
        "    # i.e. a \"image\" with 3 channels that is 230 * 230 \n",
        "\n",
        "    # Reads the raw data and saves it into memory\n",
        "    raw = mne.io.read_raw_edf(file_location, preload=True)\n",
        "\n",
        "    if entire_file == False: \n",
        "        raw.crop(tmin=tmin, tmax=tmax, include_tmax=True)\n",
        "\n",
        "    # Applys the notch filter at the given hertz range \n",
        "    raw.notch_filter(freqs=notch_filter_value)\n",
        "\n",
        "    # Segments the raw by 1 mine (60 secs) and loads into memory \n",
        "    epochs = mne.make_fixed_length_epochs(raw, duration=60, preload=True)\n",
        "    \n",
        "\n",
        "    # Loads the epochs into memory so we can use the reorder opertation in the next line of code\n",
        "    epochs.load_data()\n",
        "\n",
        "    # Only keeps the common channels and reorders the channels to  matches the order of ch_names\n",
        "    epochs.pick_channels(ch_names=common_channels, ordered=True)\n",
        "\n",
        "    # Sets up the frequency array to pass into the next line\n",
        "    freqs = np.arange(5,120,.5)\n",
        "\n",
        "    # Info on the the tfr_morlet can be found here: https://mne.tools/stable/generated/mne.time_frequency.tfr_morlet.html#mne.time_frequency.tfr_morlet\n",
        "    # Lets explain some of the paramters freqs - is the freqs along the y axis to be calculated for \n",
        "    # decim - is is the time points along x to be calulated for default = 1 (this gives 230 in the last axis of the array\n",
        "    # as 256(freq) * 60 sec ≈ 230)\n",
        "    # use_fft - as we want to use the fast fouier transform for efficientcy \n",
        "    # average - is False as we DONT want to average the values across epochs \n",
        "    # return_itc - is False as we dont care about the inter-trial coherence (ITC) whatever that is\n",
        "    # n_cycles - is 60 just beacuse it works (tbh not sure about this value)\n",
        "    power = mne.time_frequency.tfr_morlet(epochs, freqs=freqs, n_cycles=60, decim=67, \n",
        "                                             use_fft=True, average=False, return_itc=False)\n",
        "    \n",
        "    # Change the baseline otherwise the values will not make much sense as the lower bands will over power \n",
        "    # not to sure why the exact values where used but I found it on the mne tutoiral found \n",
        "    # here: https://mne.tools/stable/auto_tutorials/time-freq/plot_sensors_time_frequency.html#sphx-glr-auto-tutorials-time-freq-plot-sensors-time-frequency-py\n",
        "    # so I thought it made sense to use\n",
        "    power.apply_baseline(baseline=(-0.5, 0), mode='logratio')\n",
        "\n",
        "    return power"
      ],
      "execution_count": null,
      "outputs": []
    },
    {
      "cell_type": "markdown",
      "metadata": {
        "id": "oqPoU8ACbY6M",
        "colab_type": "text"
      },
      "source": [
        "## Global Variables "
      ]
    },
    {
      "cell_type": "code",
      "metadata": {
        "id": "0_nXHF9DD5Ql",
        "colab_type": "code",
        "colab": {}
      },
      "source": [
        "# Global variables \n",
        "\n",
        "# We are using these common channles as in these 3 channels have high intra-\n",
        "# patient activation during seizures (the 3 channels are FP2-F8, F8-T8, and T8-P8)\n",
        "# may be  T8-P8-0 instead of T8-P8 in this dataset \n",
        "common_channels = ['FP2-F8', 'F8-T8', 'T8-P8-0']\n",
        "\n",
        "EEG_data_file_path = \"/content/drive/My Drive/Research/data/EEG/\" # Place location of raw EEG data here (The data from the CHB-MIT datset)\n",
        "\n",
        "seizure_location_file_path = \"/content/drive/My Drive/Research/data/seizure_locations.csv\" # Points to seizure_locations.csv path \n",
        "\n",
        "new_locations_file_path = \"/content/drive/My Drive/Research/data/new_locations.csv\" # Points to new_locations.csv "
      ],
      "execution_count": null,
      "outputs": []
    },
    {
      "cell_type": "markdown",
      "metadata": {
        "id": "_mXtO9jObe5M",
        "colab_type": "text"
      },
      "source": [
        "## Getting files with seizure samples and long enough seizure samples "
      ]
    },
    {
      "cell_type": "markdown",
      "metadata": {
        "id": "Nqo56qiyiLE6",
        "colab_type": "text"
      },
      "source": [
        "Get all siezure file names"
      ]
    },
    {
      "cell_type": "code",
      "metadata": {
        "id": "rRSRO7xpg6fB",
        "colab_type": "code",
        "colab": {
          "base_uri": "https://localhost:8080/",
          "height": 1000
        },
        "outputId": "0f3962b5-dec3-4b60-b1b0-a9f5cb5395f9"
      },
      "source": [
        "# Just gets all the file names that contain sezirues and places into the seizure_file array \n",
        "seizure_files = [] # Contains list of strings with all files have seizure \n",
        "import csv\n",
        "with open(seizure_location_file_path, newline='') as csvfile:\n",
        "    reader = csv.reader(csvfile, delimiter=',', quotechar='|')\n",
        "    for row in reader:\n",
        "        seizure_files.append(row[0])\n",
        "seizure_files"
      ],
      "execution_count": null,
      "outputs": [
        {
          "output_type": "execute_result",
          "data": {
            "text/plain": [
              "['chb01_03.edf',\n",
              " 'chb01_04.edf',\n",
              " 'chb01_15.edf',\n",
              " 'chb01_16.edf',\n",
              " 'chb01_18.edf',\n",
              " 'chb01_21.edf',\n",
              " 'chb01_26.edf',\n",
              " 'chb02_16.edf',\n",
              " 'chb02_16+.edf',\n",
              " 'chb02_19.edf',\n",
              " 'chb03_01.edf',\n",
              " 'chb03_02.edf',\n",
              " 'chb03_03.edf',\n",
              " 'chb03_04.edf',\n",
              " 'chb03_34.edf',\n",
              " 'chb03_35.edf',\n",
              " 'chb03_36.edf',\n",
              " 'chb04_05.edf',\n",
              " 'chb04_08.edf',\n",
              " 'chb04_28.edf',\n",
              " 'chb04_28.edf',\n",
              " 'chb05_06.edf',\n",
              " 'chb05_13.edf',\n",
              " 'chb05_16.edf',\n",
              " 'chb05_17.edf',\n",
              " 'chb05_22.edf',\n",
              " 'chb06_01.edf',\n",
              " 'chb06_01.edf',\n",
              " 'chb06_01.edf',\n",
              " 'chb06_04.edf',\n",
              " 'chb06_04.edf',\n",
              " 'chb06_09.edf',\n",
              " 'chb06_10.edf',\n",
              " 'chb06_13.edf',\n",
              " 'chb06_18.edf',\n",
              " 'chb06_24.edf',\n",
              " 'chb07_12.edf',\n",
              " 'chb07_13.edf',\n",
              " 'chb07_19.edf',\n",
              " 'chb08_02.edf',\n",
              " 'chb08_05.edf',\n",
              " 'chb08_11.edf',\n",
              " 'chb08_13.edf',\n",
              " 'chb08_21.edf',\n",
              " 'chb09_06.edf',\n",
              " 'chb09_08.edf',\n",
              " 'chb09_08.edf',\n",
              " 'chb09_19.edf',\n",
              " 'chb10_12.edf',\n",
              " 'chb10_20.edf',\n",
              " 'chb10_27.edf',\n",
              " 'chb10_30.edf',\n",
              " 'chb10_31.edf',\n",
              " 'chb10_38.edf',\n",
              " 'chb10_89.edf',\n",
              " 'chb11_82.edf',\n",
              " 'chb11_92.edf',\n",
              " 'chb11_99.edf',\n",
              " 'chb12_06.edf',\n",
              " 'chb12_06.edf',\n",
              " 'chb12_08.edf',\n",
              " 'chb12_08.edf',\n",
              " 'chb12_08.edf',\n",
              " 'chb12_08.edf',\n",
              " 'chb12_09.edf',\n",
              " 'chb12_09.edf',\n",
              " 'chb12_10.edf',\n",
              " 'chb12_10.edf',\n",
              " 'chb12_11.edf',\n",
              " 'chb12_23.edf',\n",
              " 'chb12_23.edf',\n",
              " 'chb12_23.edf',\n",
              " 'chb12_27.edf',\n",
              " 'chb12_27.edf',\n",
              " 'chb12_27.edf',\n",
              " 'chb12_27.edf',\n",
              " 'chb12_27.edf',\n",
              " 'chb12_27.edf',\n",
              " 'chb12_28.edf',\n",
              " 'chb12_29.edf',\n",
              " 'chb12_29.edf',\n",
              " 'chb12_29.edf',\n",
              " 'chb12_29.edf',\n",
              " 'chb12_29.edf',\n",
              " 'chb12_29.edf',\n",
              " 'chb12_33.edf',\n",
              " 'chb12_33.edf',\n",
              " 'chb12_36.edf',\n",
              " 'chb12_38.edf',\n",
              " 'chb12_38.edf',\n",
              " 'chb12_38.edf',\n",
              " 'chb12_38.edf',\n",
              " 'chb12_38.edf',\n",
              " 'chb12_42.edf',\n",
              " 'chb12_42.edf',\n",
              " 'chb12_42.edf',\n",
              " 'chb12_42.edf',\n",
              " 'chb12_42.edf',\n",
              " 'chb13_19.edf',\n",
              " 'chb13_21.edf',\n",
              " 'chb13_40.edf',\n",
              " 'chb13_40.edf',\n",
              " 'chb13_55.edf',\n",
              " 'chb13_55.edf',\n",
              " 'chb13_58.edf',\n",
              " 'chb13_59.edf',\n",
              " 'chb13_60.edf',\n",
              " 'chb13_62.edf',\n",
              " 'chb13_62.edf',\n",
              " 'chb13_62.edf',\n",
              " 'chb14_03.edf',\n",
              " 'chb14_04.edf',\n",
              " 'chb14_04.edf',\n",
              " 'chb14_06.edf',\n",
              " 'chb14_11.edf',\n",
              " 'chb14_17.edf',\n",
              " 'chb14_18.edf',\n",
              " 'chb14_27.edf',\n",
              " 'chb15_06.edf',\n",
              " 'chb15_10.edf',\n",
              " 'chb15_15.edf',\n",
              " 'chb15_17.edf',\n",
              " 'chb15_20.edf',\n",
              " 'chb15_22.edf',\n",
              " 'chb15_28.edf',\n",
              " 'chb15_31.edf',\n",
              " 'chb15_40.edf',\n",
              " 'chb15_40.edf',\n",
              " 'chb15_40.edf',\n",
              " 'chb15_46.edf',\n",
              " 'chb15_49.edf',\n",
              " 'chb15_52.edf',\n",
              " 'chb15_54.edf',\n",
              " 'chb15_54.edf',\n",
              " 'chb15_54.edf',\n",
              " 'chb15_54.edf',\n",
              " 'chb15_54.edf',\n",
              " 'chb15_62.edf',\n",
              " 'chb16_10.edf',\n",
              " 'chb16_11.edf',\n",
              " 'chb16_14.edf',\n",
              " 'chb16_16.edf',\n",
              " 'chb16_17.edf',\n",
              " 'chb16_17.edf',\n",
              " 'chb16_17.edf',\n",
              " 'chb16_17.edf',\n",
              " 'chb16_18.edf',\n",
              " 'chb16_18.edf',\n",
              " 'chb17a_03.edf',\n",
              " 'chb17a_04.edf',\n",
              " 'chb17b_63.edf',\n",
              " 'chb18_29.edf',\n",
              " 'chb18_30.edf',\n",
              " 'chb18_31.edf',\n",
              " 'chb18_32.edf',\n",
              " 'chb18_35.edf',\n",
              " 'chb18_36.edf',\n",
              " 'chb19_28.edf',\n",
              " 'chb19_29.edf',\n",
              " 'chb19_30.edf',\n",
              " 'chb20_12.edf',\n",
              " 'chb20_13.edf',\n",
              " 'chb20_13.edf',\n",
              " 'chb20_14.edf',\n",
              " 'chb20_15.edf',\n",
              " 'chb20_15.edf',\n",
              " 'chb20_16.edf',\n",
              " 'chb20_68.edf',\n",
              " 'chb21_19.edf',\n",
              " 'chb21_20.edf',\n",
              " 'chb21_21.edf',\n",
              " 'chb21_22.edf',\n",
              " 'chb22_20.edf',\n",
              " 'chb22_25.edf',\n",
              " 'chb22_38.edf',\n",
              " 'chb23_06.edf',\n",
              " 'chb23_08.edf',\n",
              " 'chb23_08.edf',\n",
              " 'chb23_09.edf',\n",
              " 'chb23_09.edf',\n",
              " 'chb23_09.edf',\n",
              " 'chb23_09.edf',\n",
              " 'chb24_01.edf',\n",
              " 'chb24_01.edf',\n",
              " 'chb24_03.edf',\n",
              " 'chb24_03.edf',\n",
              " 'chb24_04.edf',\n",
              " 'chb24_04.edf',\n",
              " 'chb24_04.edf',\n",
              " 'chb24_06.edf',\n",
              " 'chb24_07.edf',\n",
              " 'chb24_09.edf',\n",
              " 'chb24_11.edf',\n",
              " 'chb24_13.edf',\n",
              " 'chb24_14.edf',\n",
              " 'chb24_15.edf',\n",
              " 'chb24_17.edf',\n",
              " 'chb24_21.edf']"
            ]
          },
          "metadata": {
            "tags": []
          },
          "execution_count": 6
        }
      ]
    },
    {
      "cell_type": "markdown",
      "metadata": {
        "colab_type": "text",
        "id": "FE46K5YgbqqL"
      },
      "source": [
        "Get all siezure samples with large enough seizures"
      ]
    },
    {
      "cell_type": "code",
      "metadata": {
        "id": "l5pvO5SejwsZ",
        "colab_type": "code",
        "colab": {
          "base_uri": "https://localhost:8080/",
          "height": 1000
        },
        "outputId": "74230d47-3f62-4338-a772-17a321bf92eb"
      },
      "source": [
        "# Get all the large seizure segments file, start time and end time and places into array bellow \n",
        "large_seizure_files_with_time  = []\n",
        "large_seizure_files_names = []\n",
        "seizure_files = [] # Contains list of strings with all files have seizure \n",
        "with open(new_locations_file_path, newline='') as csvfile:\n",
        "    reader = csv.reader(csvfile, delimiter=',', quotechar='|')\n",
        "    for row in reader:\n",
        "        large_seizure_files_with_time.append([row[0], int(row[1]), int(row[2])])\n",
        "        large_seizure_files_names.append(row[0])\n",
        "large_seizure_files_names\n"
      ],
      "execution_count": null,
      "outputs": [
        {
          "output_type": "execute_result",
          "data": {
            "text/plain": [
              "['chb01_18.edf',\n",
              " 'chb01_21.edf',\n",
              " 'chb01_26.edf',\n",
              " 'chb02_16.edf',\n",
              " 'chb03_02.edf',\n",
              " 'chb03_03.edf',\n",
              " 'chb03_35.edf',\n",
              " 'chb04_08.edf',\n",
              " 'chb04_28.edf',\n",
              " 'chb04_28.edf',\n",
              " 'chb05_06.edf',\n",
              " 'chb05_13.edf',\n",
              " 'chb05_16.edf',\n",
              " 'chb05_17.edf',\n",
              " 'chb05_22.edf',\n",
              " 'chb07_12.edf',\n",
              " 'chb07_13.edf',\n",
              " 'chb07_19.edf',\n",
              " 'chb08_02.edf',\n",
              " 'chb08_05.edf',\n",
              " 'chb08_11.edf',\n",
              " 'chb08_13.edf',\n",
              " 'chb08_21.edf',\n",
              " 'chb09_06.edf',\n",
              " 'chb09_08.edf',\n",
              " 'chb09_08.edf',\n",
              " 'chb09_19.edf',\n",
              " 'chb10_20.edf',\n",
              " 'chb10_27.edf',\n",
              " 'chb10_31.edf',\n",
              " 'chb10_38.edf',\n",
              " 'chb11_99.edf',\n",
              " 'chb12_06.edf',\n",
              " 'chb12_23.edf',\n",
              " 'chb12_23.edf',\n",
              " 'chb13_21.edf',\n",
              " 'chb13_40.edf',\n",
              " 'chb13_59.edf',\n",
              " 'chb13_62.edf',\n",
              " 'chb13_62.edf',\n",
              " 'chb15_06.edf',\n",
              " 'chb15_15.edf',\n",
              " 'chb15_22.edf',\n",
              " 'chb15_28.edf',\n",
              " 'chb15_31.edf',\n",
              " 'chb15_40.edf',\n",
              " 'chb15_40.edf',\n",
              " 'chb15_40.edf',\n",
              " 'chb15_46.edf',\n",
              " 'chb15_49.edf',\n",
              " 'chb15_52.edf',\n",
              " 'chb15_54.edf',\n",
              " 'chb15_54.edf',\n",
              " 'chb15_54.edf',\n",
              " 'chb15_62.edf',\n",
              " 'chb17a_03.edf',\n",
              " 'chb17a_04.edf',\n",
              " 'chb17b_63.edf',\n",
              " 'chb18_31.edf',\n",
              " 'chb18_35.edf',\n",
              " 'chb19_28.edf',\n",
              " 'chb19_29.edf',\n",
              " 'chb19_30.edf',\n",
              " 'chb21_21.edf',\n",
              " 'chb22_25.edf',\n",
              " 'chb22_38.edf',\n",
              " 'chb23_06.edf',\n",
              " 'chb23_09.edf',\n",
              " 'chb23_09.edf',\n",
              " 'chb23_09.edf',\n",
              " 'chb24_11.edf',\n",
              " 'chb24_17.edf',\n",
              " 'chb24_21.edf']"
            ]
          },
          "metadata": {
            "tags": []
          },
          "execution_count": 7
        }
      ]
    },
    {
      "cell_type": "markdown",
      "metadata": {
        "id": "XcEjWW_ra-0H",
        "colab_type": "text"
      },
      "source": [
        "## Feature extraction for seizure samples"
      ]
    },
    {
      "cell_type": "code",
      "metadata": {
        "id": "Z6XQSQ6OkzrH",
        "colab_type": "code",
        "colab": {
          "base_uri": "https://localhost:8080/",
          "height": 1000
        },
        "outputId": "764cfb06-b96b-4799-92c8-22edaadd8bf8"
      },
      "source": [
        "# Temporary the fetaure extracted images  \n",
        "seizure_train_data = []\n",
        "seizure_test_data = [] \n",
        "# Patient 15 onwards will be used for testing the other patients will be ued for training \n",
        "\n",
        "error_files = [] # The names of the files the caused errors will be written here \n",
        "\n",
        "# Gets all the patient dirs in the EEG dataset \n",
        "dirs = [dir for dir in os.listdir(EEG_data_file_path) if os.path.isdir(os.path.join(EEG_data_file_path,dir))]\n",
        "\n",
        "for directory in dirs: # Loops over all the directories\n",
        "    for filename in os.listdir(EEG_data_file_path + directory): # Loops over each file in directory\n",
        "        if (filename.endswith(\".edf\")): # Sees if file is a edf (i.e does it contain eeg data)\n",
        "            # Is file a file that contains large seizure \n",
        "            for f in large_seizure_files_with_time: \n",
        "                if f[0] == filename: \n",
        "                    if int(f[0][3:5]) >= 15: # Checks if patient number is 15 or greater \n",
        "                        try: \n",
        "                            print(\"The file being converted is\", f[0])\n",
        "                            power = get_images_from_file(EEG_data_file_path + directory + \"/\" + filename, common_channels, tmin=f[1], tmax=f[2], entire_file=False)\n",
        "                            seizure_test_data.append(power) # Append value to seizure \n",
        "                        except Exception as e:\n",
        "                            print(e)  \n",
        "                            error_files.append(f[0]) # Append filename that causes error\n",
        "                    else: \n",
        "                        try: \n",
        "                            print(\"The file being converted is\", f[0])\n",
        "                            power = get_images_from_file(EEG_data_file_path + directory + \"/\" + filename, common_channels, tmin=f[1], tmax=f[2], entire_file=False)\n",
        "                            seizure_train_data.append(power) # Append value to seizure \n",
        "                        except Exception as e:\n",
        "                            print(e)  \n",
        "                            error_files.append(f[0]) # Append filename that causes error\n",
        "                    "
      ],
      "execution_count": null,
      "outputs": [
        {
          "output_type": "stream",
          "text": [
            "The file being converted is chb01_26.edf\n",
            "Extracting EDF parameters from /content/drive/My Drive/Research/data/EEG/chb01/chb01_26.edf...\n",
            "EDF file detected\n",
            "Setting channel info structure...\n",
            "Creating raw.info structure...\n",
            "Reading 0 ... 595199  =      0.000 ...  2324.996 secs...\n"
          ],
          "name": "stdout"
        },
        {
          "output_type": "stream",
          "text": [
            "<ipython-input-11-330b93c843df>:12: RuntimeWarning: Channel names are not unique, found duplicates for: {'T8-P8'}. Applying running numbers for duplicates.\n",
            "  raw = mne.io.read_raw_edf(file_location, preload=True)\n"
          ],
          "name": "stderr"
        },
        {
          "output_type": "stream",
          "text": [
            "Setting up band-stop filter from 59 - 61 Hz\n",
            "\n",
            "FIR filter parameters\n",
            "---------------------\n",
            "Designing a one-pass, zero-phase, non-causal bandstop filter:\n",
            "- Windowed time-domain design (firwin) method\n",
            "- Hamming window with 0.0194 passband ripple and 53 dB stopband attenuation\n",
            "- Lower passband edge: 59.35\n",
            "- Lower transition bandwidth: 0.50 Hz (-6 dB cutoff frequency: 59.10 Hz)\n",
            "- Upper passband edge: 60.65 Hz\n",
            "- Upper transition bandwidth: 0.50 Hz (-6 dB cutoff frequency: 60.90 Hz)\n",
            "- Filter length: 1691 samples (6.605 sec)\n",
            "\n",
            "1 matching events found\n",
            "No baseline correction applied\n",
            "Not setting metadata\n",
            "0 projection items activated\n",
            "Loading data for 1 events and 15360 original time points ...\n",
            "0 bad epochs dropped\n",
            "Not setting metadata\n",
            "Applying baseline correction (mode: logratio)\n",
            "The file being converted is chb01_18.edf\n",
            "Extracting EDF parameters from /content/drive/My Drive/Research/data/EEG/chb01/chb01_18.edf...\n",
            "EDF file detected\n",
            "Setting channel info structure...\n",
            "Creating raw.info structure...\n",
            "Reading 0 ... 921599  =      0.000 ...  3599.996 secs...\n"
          ],
          "name": "stdout"
        },
        {
          "output_type": "stream",
          "text": [
            "<ipython-input-11-330b93c843df>:12: RuntimeWarning: Channel names are not unique, found duplicates for: {'T8-P8'}. Applying running numbers for duplicates.\n",
            "  raw = mne.io.read_raw_edf(file_location, preload=True)\n"
          ],
          "name": "stderr"
        },
        {
          "output_type": "stream",
          "text": [
            "Setting up band-stop filter from 59 - 61 Hz\n",
            "\n",
            "FIR filter parameters\n",
            "---------------------\n",
            "Designing a one-pass, zero-phase, non-causal bandstop filter:\n",
            "- Windowed time-domain design (firwin) method\n",
            "- Hamming window with 0.0194 passband ripple and 53 dB stopband attenuation\n",
            "- Lower passband edge: 59.35\n",
            "- Lower transition bandwidth: 0.50 Hz (-6 dB cutoff frequency: 59.10 Hz)\n",
            "- Upper passband edge: 60.65 Hz\n",
            "- Upper transition bandwidth: 0.50 Hz (-6 dB cutoff frequency: 60.90 Hz)\n",
            "- Filter length: 1691 samples (6.605 sec)\n",
            "\n",
            "1 matching events found\n",
            "No baseline correction applied\n",
            "Not setting metadata\n",
            "0 projection items activated\n",
            "Loading data for 1 events and 15360 original time points ...\n",
            "0 bad epochs dropped\n",
            "Not setting metadata\n",
            "Applying baseline correction (mode: logratio)\n",
            "The file being converted is chb01_21.edf\n",
            "Extracting EDF parameters from /content/drive/My Drive/Research/data/EEG/chb01/chb01_21.edf...\n",
            "EDF file detected\n",
            "Setting channel info structure...\n",
            "Creating raw.info structure...\n",
            "Reading 0 ... 921599  =      0.000 ...  3599.996 secs...\n"
          ],
          "name": "stdout"
        },
        {
          "output_type": "stream",
          "text": [
            "<ipython-input-11-330b93c843df>:12: RuntimeWarning: Channel names are not unique, found duplicates for: {'T8-P8'}. Applying running numbers for duplicates.\n",
            "  raw = mne.io.read_raw_edf(file_location, preload=True)\n"
          ],
          "name": "stderr"
        },
        {
          "output_type": "stream",
          "text": [
            "Setting up band-stop filter from 59 - 61 Hz\n",
            "\n",
            "FIR filter parameters\n",
            "---------------------\n",
            "Designing a one-pass, zero-phase, non-causal bandstop filter:\n",
            "- Windowed time-domain design (firwin) method\n",
            "- Hamming window with 0.0194 passband ripple and 53 dB stopband attenuation\n",
            "- Lower passband edge: 59.35\n",
            "- Lower transition bandwidth: 0.50 Hz (-6 dB cutoff frequency: 59.10 Hz)\n",
            "- Upper passband edge: 60.65 Hz\n",
            "- Upper transition bandwidth: 0.50 Hz (-6 dB cutoff frequency: 60.90 Hz)\n",
            "- Filter length: 1691 samples (6.605 sec)\n",
            "\n",
            "1 matching events found\n",
            "No baseline correction applied\n",
            "Not setting metadata\n",
            "0 projection items activated\n",
            "Loading data for 1 events and 15360 original time points ...\n",
            "0 bad epochs dropped\n",
            "Not setting metadata\n",
            "Applying baseline correction (mode: logratio)\n",
            "The file being converted is chb02_16.edf\n",
            "Extracting EDF parameters from /content/drive/My Drive/Research/data/EEG/chb02/chb02_16.edf...\n",
            "EDF file detected\n",
            "Setting channel info structure...\n",
            "Creating raw.info structure...\n",
            "Reading 0 ... 245503  =      0.000 ...   958.996 secs...\n"
          ],
          "name": "stdout"
        },
        {
          "output_type": "stream",
          "text": [
            "<ipython-input-11-330b93c843df>:12: RuntimeWarning: Channel names are not unique, found duplicates for: {'T8-P8'}. Applying running numbers for duplicates.\n",
            "  raw = mne.io.read_raw_edf(file_location, preload=True)\n"
          ],
          "name": "stderr"
        },
        {
          "output_type": "stream",
          "text": [
            "Setting up band-stop filter from 59 - 61 Hz\n",
            "\n",
            "FIR filter parameters\n",
            "---------------------\n",
            "Designing a one-pass, zero-phase, non-causal bandstop filter:\n",
            "- Windowed time-domain design (firwin) method\n",
            "- Hamming window with 0.0194 passband ripple and 53 dB stopband attenuation\n",
            "- Lower passband edge: 59.35\n",
            "- Lower transition bandwidth: 0.50 Hz (-6 dB cutoff frequency: 59.10 Hz)\n",
            "- Upper passband edge: 60.65 Hz\n",
            "- Upper transition bandwidth: 0.50 Hz (-6 dB cutoff frequency: 60.90 Hz)\n",
            "- Filter length: 1691 samples (6.605 sec)\n",
            "\n",
            "1 matching events found\n",
            "No baseline correction applied\n",
            "Not setting metadata\n",
            "0 projection items activated\n",
            "Loading data for 1 events and 15360 original time points ...\n",
            "0 bad epochs dropped\n",
            "Not setting metadata\n",
            "Applying baseline correction (mode: logratio)\n",
            "The file being converted is chb03_02.edf\n",
            "Extracting EDF parameters from /content/drive/My Drive/Research/data/EEG/chb03/chb03_02.edf...\n",
            "EDF file detected\n",
            "Setting channel info structure...\n",
            "Creating raw.info structure...\n",
            "Reading 0 ... 921599  =      0.000 ...  3599.996 secs...\n"
          ],
          "name": "stdout"
        },
        {
          "output_type": "stream",
          "text": [
            "<ipython-input-11-330b93c843df>:12: RuntimeWarning: Channel names are not unique, found duplicates for: {'T8-P8'}. Applying running numbers for duplicates.\n",
            "  raw = mne.io.read_raw_edf(file_location, preload=True)\n"
          ],
          "name": "stderr"
        },
        {
          "output_type": "stream",
          "text": [
            "Setting up band-stop filter from 59 - 61 Hz\n",
            "\n",
            "FIR filter parameters\n",
            "---------------------\n",
            "Designing a one-pass, zero-phase, non-causal bandstop filter:\n",
            "- Windowed time-domain design (firwin) method\n",
            "- Hamming window with 0.0194 passband ripple and 53 dB stopband attenuation\n",
            "- Lower passband edge: 59.35\n",
            "- Lower transition bandwidth: 0.50 Hz (-6 dB cutoff frequency: 59.10 Hz)\n",
            "- Upper passband edge: 60.65 Hz\n",
            "- Upper transition bandwidth: 0.50 Hz (-6 dB cutoff frequency: 60.90 Hz)\n",
            "- Filter length: 1691 samples (6.605 sec)\n",
            "\n",
            "1 matching events found\n",
            "No baseline correction applied\n",
            "Not setting metadata\n",
            "0 projection items activated\n",
            "Loading data for 1 events and 15360 original time points ...\n",
            "0 bad epochs dropped\n",
            "Not setting metadata\n",
            "Applying baseline correction (mode: logratio)\n",
            "The file being converted is chb03_03.edf\n",
            "Extracting EDF parameters from /content/drive/My Drive/Research/data/EEG/chb03/chb03_03.edf...\n",
            "EDF file detected\n",
            "Setting channel info structure...\n",
            "Creating raw.info structure...\n",
            "Reading 0 ... 921599  =      0.000 ...  3599.996 secs...\n"
          ],
          "name": "stdout"
        },
        {
          "output_type": "stream",
          "text": [
            "<ipython-input-11-330b93c843df>:12: RuntimeWarning: Channel names are not unique, found duplicates for: {'T8-P8'}. Applying running numbers for duplicates.\n",
            "  raw = mne.io.read_raw_edf(file_location, preload=True)\n"
          ],
          "name": "stderr"
        },
        {
          "output_type": "stream",
          "text": [
            "Setting up band-stop filter from 59 - 61 Hz\n",
            "\n",
            "FIR filter parameters\n",
            "---------------------\n",
            "Designing a one-pass, zero-phase, non-causal bandstop filter:\n",
            "- Windowed time-domain design (firwin) method\n",
            "- Hamming window with 0.0194 passband ripple and 53 dB stopband attenuation\n",
            "- Lower passband edge: 59.35\n",
            "- Lower transition bandwidth: 0.50 Hz (-6 dB cutoff frequency: 59.10 Hz)\n",
            "- Upper passband edge: 60.65 Hz\n",
            "- Upper transition bandwidth: 0.50 Hz (-6 dB cutoff frequency: 60.90 Hz)\n",
            "- Filter length: 1691 samples (6.605 sec)\n",
            "\n",
            "1 matching events found\n",
            "No baseline correction applied\n",
            "Not setting metadata\n",
            "0 projection items activated\n",
            "Loading data for 1 events and 15360 original time points ...\n",
            "0 bad epochs dropped\n",
            "Not setting metadata\n",
            "Applying baseline correction (mode: logratio)\n",
            "The file being converted is chb03_35.edf\n",
            "Extracting EDF parameters from /content/drive/My Drive/Research/data/EEG/chb03/chb03_35.edf...\n",
            "EDF file detected\n",
            "Setting channel info structure...\n",
            "Creating raw.info structure...\n",
            "Reading 0 ... 921599  =      0.000 ...  3599.996 secs...\n"
          ],
          "name": "stdout"
        },
        {
          "output_type": "stream",
          "text": [
            "<ipython-input-11-330b93c843df>:12: RuntimeWarning: Channel names are not unique, found duplicates for: {'T8-P8'}. Applying running numbers for duplicates.\n",
            "  raw = mne.io.read_raw_edf(file_location, preload=True)\n"
          ],
          "name": "stderr"
        },
        {
          "output_type": "stream",
          "text": [
            "Setting up band-stop filter from 59 - 61 Hz\n",
            "\n",
            "FIR filter parameters\n",
            "---------------------\n",
            "Designing a one-pass, zero-phase, non-causal bandstop filter:\n",
            "- Windowed time-domain design (firwin) method\n",
            "- Hamming window with 0.0194 passband ripple and 53 dB stopband attenuation\n",
            "- Lower passband edge: 59.35\n",
            "- Lower transition bandwidth: 0.50 Hz (-6 dB cutoff frequency: 59.10 Hz)\n",
            "- Upper passband edge: 60.65 Hz\n",
            "- Upper transition bandwidth: 0.50 Hz (-6 dB cutoff frequency: 60.90 Hz)\n",
            "- Filter length: 1691 samples (6.605 sec)\n",
            "\n",
            "1 matching events found\n",
            "No baseline correction applied\n",
            "Not setting metadata\n",
            "0 projection items activated\n",
            "Loading data for 1 events and 15360 original time points ...\n",
            "0 bad epochs dropped\n",
            "Not setting metadata\n",
            "Applying baseline correction (mode: logratio)\n",
            "The file being converted is chb04_08.edf\n",
            "Extracting EDF parameters from /content/drive/My Drive/Research/data/EEG/chb04/chb04_08.edf...\n",
            "EDF file detected\n",
            "Setting channel info structure...\n",
            "Creating raw.info structure...\n",
            "Reading 0 ... 3686399  =      0.000 ... 14399.996 secs...\n"
          ],
          "name": "stdout"
        },
        {
          "output_type": "stream",
          "text": [
            "<ipython-input-11-330b93c843df>:12: RuntimeWarning: Channel names are not unique, found duplicates for: {'T8-P8'}. Applying running numbers for duplicates.\n",
            "  raw = mne.io.read_raw_edf(file_location, preload=True)\n"
          ],
          "name": "stderr"
        },
        {
          "output_type": "stream",
          "text": [
            "Setting up band-stop filter from 59 - 61 Hz\n",
            "\n",
            "FIR filter parameters\n",
            "---------------------\n",
            "Designing a one-pass, zero-phase, non-causal bandstop filter:\n",
            "- Windowed time-domain design (firwin) method\n",
            "- Hamming window with 0.0194 passband ripple and 53 dB stopband attenuation\n",
            "- Lower passband edge: 59.35\n",
            "- Lower transition bandwidth: 0.50 Hz (-6 dB cutoff frequency: 59.10 Hz)\n",
            "- Upper passband edge: 60.65 Hz\n",
            "- Upper transition bandwidth: 0.50 Hz (-6 dB cutoff frequency: 60.90 Hz)\n",
            "- Filter length: 1691 samples (6.605 sec)\n",
            "\n",
            "1 matching events found\n",
            "No baseline correction applied\n",
            "Not setting metadata\n",
            "0 projection items activated\n",
            "Loading data for 1 events and 15360 original time points ...\n",
            "0 bad epochs dropped\n",
            "Not setting metadata\n",
            "Applying baseline correction (mode: logratio)\n",
            "The file being converted is chb04_28.edf\n",
            "Extracting EDF parameters from /content/drive/My Drive/Research/data/EEG/chb04/chb04_28.edf...\n",
            "EDF file detected\n",
            "Setting channel info structure...\n",
            "Creating raw.info structure...\n",
            "Reading 0 ... 3692287  =      0.000 ... 14422.996 secs...\n"
          ],
          "name": "stdout"
        },
        {
          "output_type": "stream",
          "text": [
            "<ipython-input-11-330b93c843df>:12: RuntimeWarning: Channel names are not unique, found duplicates for: {'T8-P8'}. Applying running numbers for duplicates.\n",
            "  raw = mne.io.read_raw_edf(file_location, preload=True)\n"
          ],
          "name": "stderr"
        },
        {
          "output_type": "stream",
          "text": [
            "Setting up band-stop filter from 59 - 61 Hz\n",
            "\n",
            "FIR filter parameters\n",
            "---------------------\n",
            "Designing a one-pass, zero-phase, non-causal bandstop filter:\n",
            "- Windowed time-domain design (firwin) method\n",
            "- Hamming window with 0.0194 passband ripple and 53 dB stopband attenuation\n",
            "- Lower passband edge: 59.35\n",
            "- Lower transition bandwidth: 0.50 Hz (-6 dB cutoff frequency: 59.10 Hz)\n",
            "- Upper passband edge: 60.65 Hz\n",
            "- Upper transition bandwidth: 0.50 Hz (-6 dB cutoff frequency: 60.90 Hz)\n",
            "- Filter length: 1691 samples (6.605 sec)\n",
            "\n",
            "1 matching events found\n",
            "No baseline correction applied\n",
            "Not setting metadata\n",
            "0 projection items activated\n",
            "Loading data for 1 events and 15360 original time points ...\n",
            "0 bad epochs dropped\n",
            "Not setting metadata\n",
            "Applying baseline correction (mode: logratio)\n",
            "The file being converted is chb04_28.edf\n",
            "Extracting EDF parameters from /content/drive/My Drive/Research/data/EEG/chb04/chb04_28.edf...\n",
            "EDF file detected\n",
            "Setting channel info structure...\n",
            "Creating raw.info structure...\n",
            "Reading 0 ... 3692287  =      0.000 ... 14422.996 secs...\n"
          ],
          "name": "stdout"
        },
        {
          "output_type": "stream",
          "text": [
            "<ipython-input-11-330b93c843df>:12: RuntimeWarning: Channel names are not unique, found duplicates for: {'T8-P8'}. Applying running numbers for duplicates.\n",
            "  raw = mne.io.read_raw_edf(file_location, preload=True)\n"
          ],
          "name": "stderr"
        },
        {
          "output_type": "stream",
          "text": [
            "Setting up band-stop filter from 59 - 61 Hz\n",
            "\n",
            "FIR filter parameters\n",
            "---------------------\n",
            "Designing a one-pass, zero-phase, non-causal bandstop filter:\n",
            "- Windowed time-domain design (firwin) method\n",
            "- Hamming window with 0.0194 passband ripple and 53 dB stopband attenuation\n",
            "- Lower passband edge: 59.35\n",
            "- Lower transition bandwidth: 0.50 Hz (-6 dB cutoff frequency: 59.10 Hz)\n",
            "- Upper passband edge: 60.65 Hz\n",
            "- Upper transition bandwidth: 0.50 Hz (-6 dB cutoff frequency: 60.90 Hz)\n",
            "- Filter length: 1691 samples (6.605 sec)\n",
            "\n",
            "1 matching events found\n",
            "No baseline correction applied\n",
            "Not setting metadata\n",
            "0 projection items activated\n",
            "Loading data for 1 events and 15360 original time points ...\n",
            "0 bad epochs dropped\n",
            "Not setting metadata\n",
            "Applying baseline correction (mode: logratio)\n",
            "The file being converted is chb05_06.edf\n",
            "Extracting EDF parameters from /content/drive/My Drive/Research/data/EEG/chb05/chb05_06.edf...\n",
            "EDF file detected\n",
            "Setting channel info structure...\n",
            "Creating raw.info structure...\n",
            "Reading 0 ... 921599  =      0.000 ...  3599.996 secs...\n"
          ],
          "name": "stdout"
        },
        {
          "output_type": "stream",
          "text": [
            "<ipython-input-11-330b93c843df>:12: RuntimeWarning: Channel names are not unique, found duplicates for: {'T8-P8'}. Applying running numbers for duplicates.\n",
            "  raw = mne.io.read_raw_edf(file_location, preload=True)\n"
          ],
          "name": "stderr"
        },
        {
          "output_type": "stream",
          "text": [
            "Setting up band-stop filter from 59 - 61 Hz\n",
            "\n",
            "FIR filter parameters\n",
            "---------------------\n",
            "Designing a one-pass, zero-phase, non-causal bandstop filter:\n",
            "- Windowed time-domain design (firwin) method\n",
            "- Hamming window with 0.0194 passband ripple and 53 dB stopband attenuation\n",
            "- Lower passband edge: 59.35\n",
            "- Lower transition bandwidth: 0.50 Hz (-6 dB cutoff frequency: 59.10 Hz)\n",
            "- Upper passband edge: 60.65 Hz\n",
            "- Upper transition bandwidth: 0.50 Hz (-6 dB cutoff frequency: 60.90 Hz)\n",
            "- Filter length: 1691 samples (6.605 sec)\n",
            "\n",
            "1 matching events found\n",
            "No baseline correction applied\n",
            "Not setting metadata\n",
            "0 projection items activated\n",
            "Loading data for 1 events and 15360 original time points ...\n",
            "0 bad epochs dropped\n",
            "Not setting metadata\n",
            "Applying baseline correction (mode: logratio)\n",
            "The file being converted is chb05_13.edf\n",
            "Extracting EDF parameters from /content/drive/My Drive/Research/data/EEG/chb05/chb05_13.edf...\n",
            "EDF file detected\n",
            "Setting channel info structure...\n",
            "Creating raw.info structure...\n",
            "Reading 0 ... 921599  =      0.000 ...  3599.996 secs...\n"
          ],
          "name": "stdout"
        },
        {
          "output_type": "stream",
          "text": [
            "<ipython-input-11-330b93c843df>:12: RuntimeWarning: Channel names are not unique, found duplicates for: {'T8-P8'}. Applying running numbers for duplicates.\n",
            "  raw = mne.io.read_raw_edf(file_location, preload=True)\n"
          ],
          "name": "stderr"
        },
        {
          "output_type": "stream",
          "text": [
            "Setting up band-stop filter from 59 - 61 Hz\n",
            "\n",
            "FIR filter parameters\n",
            "---------------------\n",
            "Designing a one-pass, zero-phase, non-causal bandstop filter:\n",
            "- Windowed time-domain design (firwin) method\n",
            "- Hamming window with 0.0194 passband ripple and 53 dB stopband attenuation\n",
            "- Lower passband edge: 59.35\n",
            "- Lower transition bandwidth: 0.50 Hz (-6 dB cutoff frequency: 59.10 Hz)\n",
            "- Upper passband edge: 60.65 Hz\n",
            "- Upper transition bandwidth: 0.50 Hz (-6 dB cutoff frequency: 60.90 Hz)\n",
            "- Filter length: 1691 samples (6.605 sec)\n",
            "\n",
            "1 matching events found\n",
            "No baseline correction applied\n",
            "Not setting metadata\n",
            "0 projection items activated\n",
            "Loading data for 1 events and 15360 original time points ...\n",
            "0 bad epochs dropped\n",
            "Not setting metadata\n",
            "Applying baseline correction (mode: logratio)\n",
            "The file being converted is chb05_17.edf\n",
            "Extracting EDF parameters from /content/drive/My Drive/Research/data/EEG/chb05/chb05_17.edf...\n",
            "EDF file detected\n",
            "Setting channel info structure...\n",
            "Creating raw.info structure...\n",
            "Reading 0 ... 921599  =      0.000 ...  3599.996 secs...\n"
          ],
          "name": "stdout"
        },
        {
          "output_type": "stream",
          "text": [
            "<ipython-input-11-330b93c843df>:12: RuntimeWarning: Channel names are not unique, found duplicates for: {'T8-P8'}. Applying running numbers for duplicates.\n",
            "  raw = mne.io.read_raw_edf(file_location, preload=True)\n"
          ],
          "name": "stderr"
        },
        {
          "output_type": "stream",
          "text": [
            "Setting up band-stop filter from 59 - 61 Hz\n",
            "\n",
            "FIR filter parameters\n",
            "---------------------\n",
            "Designing a one-pass, zero-phase, non-causal bandstop filter:\n",
            "- Windowed time-domain design (firwin) method\n",
            "- Hamming window with 0.0194 passband ripple and 53 dB stopband attenuation\n",
            "- Lower passband edge: 59.35\n",
            "- Lower transition bandwidth: 0.50 Hz (-6 dB cutoff frequency: 59.10 Hz)\n",
            "- Upper passband edge: 60.65 Hz\n",
            "- Upper transition bandwidth: 0.50 Hz (-6 dB cutoff frequency: 60.90 Hz)\n",
            "- Filter length: 1691 samples (6.605 sec)\n",
            "\n",
            "2 matching events found\n",
            "No baseline correction applied\n",
            "Not setting metadata\n",
            "0 projection items activated\n",
            "Loading data for 2 events and 15360 original time points ...\n",
            "0 bad epochs dropped\n",
            "Not setting metadata\n",
            "Applying baseline correction (mode: logratio)\n",
            "The file being converted is chb05_16.edf\n",
            "Extracting EDF parameters from /content/drive/My Drive/Research/data/EEG/chb05/chb05_16.edf...\n",
            "EDF file detected\n",
            "Setting channel info structure...\n",
            "Creating raw.info structure...\n",
            "Reading 0 ... 921599  =      0.000 ...  3599.996 secs...\n"
          ],
          "name": "stdout"
        },
        {
          "output_type": "stream",
          "text": [
            "<ipython-input-11-330b93c843df>:12: RuntimeWarning: Channel names are not unique, found duplicates for: {'T8-P8'}. Applying running numbers for duplicates.\n",
            "  raw = mne.io.read_raw_edf(file_location, preload=True)\n"
          ],
          "name": "stderr"
        },
        {
          "output_type": "stream",
          "text": [
            "Setting up band-stop filter from 59 - 61 Hz\n",
            "\n",
            "FIR filter parameters\n",
            "---------------------\n",
            "Designing a one-pass, zero-phase, non-causal bandstop filter:\n",
            "- Windowed time-domain design (firwin) method\n",
            "- Hamming window with 0.0194 passband ripple and 53 dB stopband attenuation\n",
            "- Lower passband edge: 59.35\n",
            "- Lower transition bandwidth: 0.50 Hz (-6 dB cutoff frequency: 59.10 Hz)\n",
            "- Upper passband edge: 60.65 Hz\n",
            "- Upper transition bandwidth: 0.50 Hz (-6 dB cutoff frequency: 60.90 Hz)\n",
            "- Filter length: 1691 samples (6.605 sec)\n",
            "\n",
            "1 matching events found\n",
            "No baseline correction applied\n",
            "Not setting metadata\n",
            "0 projection items activated\n",
            "Loading data for 1 events and 15360 original time points ...\n",
            "0 bad epochs dropped\n",
            "Not setting metadata\n",
            "Applying baseline correction (mode: logratio)\n",
            "The file being converted is chb05_22.edf\n",
            "Extracting EDF parameters from /content/drive/My Drive/Research/data/EEG/chb05/chb05_22.edf...\n",
            "EDF file detected\n",
            "Setting channel info structure...\n",
            "Creating raw.info structure...\n",
            "Reading 0 ... 921599  =      0.000 ...  3599.996 secs...\n"
          ],
          "name": "stdout"
        },
        {
          "output_type": "stream",
          "text": [
            "<ipython-input-11-330b93c843df>:12: RuntimeWarning: Channel names are not unique, found duplicates for: {'T8-P8'}. Applying running numbers for duplicates.\n",
            "  raw = mne.io.read_raw_edf(file_location, preload=True)\n"
          ],
          "name": "stderr"
        },
        {
          "output_type": "stream",
          "text": [
            "Setting up band-stop filter from 59 - 61 Hz\n",
            "\n",
            "FIR filter parameters\n",
            "---------------------\n",
            "Designing a one-pass, zero-phase, non-causal bandstop filter:\n",
            "- Windowed time-domain design (firwin) method\n",
            "- Hamming window with 0.0194 passband ripple and 53 dB stopband attenuation\n",
            "- Lower passband edge: 59.35\n",
            "- Lower transition bandwidth: 0.50 Hz (-6 dB cutoff frequency: 59.10 Hz)\n",
            "- Upper passband edge: 60.65 Hz\n",
            "- Upper transition bandwidth: 0.50 Hz (-6 dB cutoff frequency: 60.90 Hz)\n",
            "- Filter length: 1691 samples (6.605 sec)\n",
            "\n",
            "1 matching events found\n",
            "No baseline correction applied\n",
            "Not setting metadata\n",
            "0 projection items activated\n",
            "Loading data for 1 events and 15360 original time points ...\n",
            "0 bad epochs dropped\n",
            "Not setting metadata\n",
            "Applying baseline correction (mode: logratio)\n",
            "The file being converted is chb07_13.edf\n",
            "Extracting EDF parameters from /content/drive/My Drive/Research/data/EEG/chb07/chb07_13.edf...\n",
            "EDF file detected\n",
            "Setting channel info structure...\n",
            "Creating raw.info structure...\n",
            "Reading 0 ... 953855  =      0.000 ...  3725.996 secs...\n"
          ],
          "name": "stdout"
        },
        {
          "output_type": "stream",
          "text": [
            "<ipython-input-11-330b93c843df>:12: RuntimeWarning: Channel names are not unique, found duplicates for: {'T8-P8'}. Applying running numbers for duplicates.\n",
            "  raw = mne.io.read_raw_edf(file_location, preload=True)\n"
          ],
          "name": "stderr"
        },
        {
          "output_type": "stream",
          "text": [
            "Setting up band-stop filter from 59 - 61 Hz\n",
            "\n",
            "FIR filter parameters\n",
            "---------------------\n",
            "Designing a one-pass, zero-phase, non-causal bandstop filter:\n",
            "- Windowed time-domain design (firwin) method\n",
            "- Hamming window with 0.0194 passband ripple and 53 dB stopband attenuation\n",
            "- Lower passband edge: 59.35\n",
            "- Lower transition bandwidth: 0.50 Hz (-6 dB cutoff frequency: 59.10 Hz)\n",
            "- Upper passband edge: 60.65 Hz\n",
            "- Upper transition bandwidth: 0.50 Hz (-6 dB cutoff frequency: 60.90 Hz)\n",
            "- Filter length: 1691 samples (6.605 sec)\n",
            "\n",
            "1 matching events found\n",
            "No baseline correction applied\n",
            "Not setting metadata\n",
            "0 projection items activated\n",
            "Loading data for 1 events and 15360 original time points ...\n",
            "0 bad epochs dropped\n",
            "Not setting metadata\n",
            "Applying baseline correction (mode: logratio)\n",
            "The file being converted is chb07_12.edf\n",
            "Extracting EDF parameters from /content/drive/My Drive/Research/data/EEG/chb07/chb07_12.edf...\n",
            "EDF file detected\n",
            "Setting channel info structure...\n",
            "Creating raw.info structure...\n",
            "Reading 0 ... 3686399  =      0.000 ... 14399.996 secs...\n"
          ],
          "name": "stdout"
        },
        {
          "output_type": "stream",
          "text": [
            "<ipython-input-11-330b93c843df>:12: RuntimeWarning: Channel names are not unique, found duplicates for: {'T8-P8'}. Applying running numbers for duplicates.\n",
            "  raw = mne.io.read_raw_edf(file_location, preload=True)\n"
          ],
          "name": "stderr"
        },
        {
          "output_type": "stream",
          "text": [
            "Setting up band-stop filter from 59 - 61 Hz\n",
            "\n",
            "FIR filter parameters\n",
            "---------------------\n",
            "Designing a one-pass, zero-phase, non-causal bandstop filter:\n",
            "- Windowed time-domain design (firwin) method\n",
            "- Hamming window with 0.0194 passband ripple and 53 dB stopband attenuation\n",
            "- Lower passband edge: 59.35\n",
            "- Lower transition bandwidth: 0.50 Hz (-6 dB cutoff frequency: 59.10 Hz)\n",
            "- Upper passband edge: 60.65 Hz\n",
            "- Upper transition bandwidth: 0.50 Hz (-6 dB cutoff frequency: 60.90 Hz)\n",
            "- Filter length: 1691 samples (6.605 sec)\n",
            "\n",
            "1 matching events found\n",
            "No baseline correction applied\n",
            "Not setting metadata\n",
            "0 projection items activated\n",
            "Loading data for 1 events and 15360 original time points ...\n",
            "0 bad epochs dropped\n",
            "Not setting metadata\n",
            "Applying baseline correction (mode: logratio)\n",
            "The file being converted is chb07_19.edf\n",
            "Extracting EDF parameters from /content/drive/My Drive/Research/data/EEG/chb07/chb07_19.edf...\n",
            "EDF file detected\n",
            "Setting channel info structure...\n",
            "Creating raw.info structure...\n",
            "Reading 0 ... 3689215  =      0.000 ... 14410.996 secs...\n"
          ],
          "name": "stdout"
        },
        {
          "output_type": "stream",
          "text": [
            "<ipython-input-11-330b93c843df>:12: RuntimeWarning: Channel names are not unique, found duplicates for: {'T8-P8'}. Applying running numbers for duplicates.\n",
            "  raw = mne.io.read_raw_edf(file_location, preload=True)\n"
          ],
          "name": "stderr"
        },
        {
          "output_type": "stream",
          "text": [
            "Setting up band-stop filter from 59 - 61 Hz\n",
            "\n",
            "FIR filter parameters\n",
            "---------------------\n",
            "Designing a one-pass, zero-phase, non-causal bandstop filter:\n",
            "- Windowed time-domain design (firwin) method\n",
            "- Hamming window with 0.0194 passband ripple and 53 dB stopband attenuation\n",
            "- Lower passband edge: 59.35\n",
            "- Lower transition bandwidth: 0.50 Hz (-6 dB cutoff frequency: 59.10 Hz)\n",
            "- Upper passband edge: 60.65 Hz\n",
            "- Upper transition bandwidth: 0.50 Hz (-6 dB cutoff frequency: 60.90 Hz)\n",
            "- Filter length: 1691 samples (6.605 sec)\n",
            "\n",
            "2 matching events found\n",
            "No baseline correction applied\n",
            "Not setting metadata\n",
            "0 projection items activated\n",
            "Loading data for 2 events and 15360 original time points ...\n",
            "0 bad epochs dropped\n",
            "Not setting metadata\n",
            "Applying baseline correction (mode: logratio)\n",
            "The file being converted is chb08_02.edf\n",
            "Extracting EDF parameters from /content/drive/My Drive/Research/data/EEG/chb08/chb08_02.edf...\n",
            "EDF file detected\n",
            "Setting channel info structure...\n",
            "Creating raw.info structure...\n",
            "Reading 0 ... 921599  =      0.000 ...  3599.996 secs...\n"
          ],
          "name": "stdout"
        },
        {
          "output_type": "stream",
          "text": [
            "<ipython-input-11-330b93c843df>:12: RuntimeWarning: Channel names are not unique, found duplicates for: {'T8-P8'}. Applying running numbers for duplicates.\n",
            "  raw = mne.io.read_raw_edf(file_location, preload=True)\n"
          ],
          "name": "stderr"
        },
        {
          "output_type": "stream",
          "text": [
            "Setting up band-stop filter from 59 - 61 Hz\n",
            "\n",
            "FIR filter parameters\n",
            "---------------------\n",
            "Designing a one-pass, zero-phase, non-causal bandstop filter:\n",
            "- Windowed time-domain design (firwin) method\n",
            "- Hamming window with 0.0194 passband ripple and 53 dB stopband attenuation\n",
            "- Lower passband edge: 59.35\n",
            "- Lower transition bandwidth: 0.50 Hz (-6 dB cutoff frequency: 59.10 Hz)\n",
            "- Upper passband edge: 60.65 Hz\n",
            "- Upper transition bandwidth: 0.50 Hz (-6 dB cutoff frequency: 60.90 Hz)\n",
            "- Filter length: 1691 samples (6.605 sec)\n",
            "\n",
            "2 matching events found\n",
            "No baseline correction applied\n",
            "Not setting metadata\n",
            "0 projection items activated\n",
            "Loading data for 2 events and 15360 original time points ...\n",
            "0 bad epochs dropped\n",
            "Not setting metadata\n",
            "Applying baseline correction (mode: logratio)\n",
            "The file being converted is chb08_05.edf\n",
            "Extracting EDF parameters from /content/drive/My Drive/Research/data/EEG/chb08/chb08_05.edf...\n",
            "EDF file detected\n",
            "Setting channel info structure...\n",
            "Creating raw.info structure...\n",
            "Reading 0 ... 921599  =      0.000 ...  3599.996 secs...\n"
          ],
          "name": "stdout"
        },
        {
          "output_type": "stream",
          "text": [
            "<ipython-input-11-330b93c843df>:12: RuntimeWarning: Channel names are not unique, found duplicates for: {'T8-P8'}. Applying running numbers for duplicates.\n",
            "  raw = mne.io.read_raw_edf(file_location, preload=True)\n"
          ],
          "name": "stderr"
        },
        {
          "output_type": "stream",
          "text": [
            "Setting up band-stop filter from 59 - 61 Hz\n",
            "\n",
            "FIR filter parameters\n",
            "---------------------\n",
            "Designing a one-pass, zero-phase, non-causal bandstop filter:\n",
            "- Windowed time-domain design (firwin) method\n",
            "- Hamming window with 0.0194 passband ripple and 53 dB stopband attenuation\n",
            "- Lower passband edge: 59.35\n",
            "- Lower transition bandwidth: 0.50 Hz (-6 dB cutoff frequency: 59.10 Hz)\n",
            "- Upper passband edge: 60.65 Hz\n",
            "- Upper transition bandwidth: 0.50 Hz (-6 dB cutoff frequency: 60.90 Hz)\n",
            "- Filter length: 1691 samples (6.605 sec)\n",
            "\n",
            "3 matching events found\n",
            "No baseline correction applied\n",
            "Not setting metadata\n",
            "0 projection items activated\n",
            "Loading data for 3 events and 15360 original time points ...\n",
            "0 bad epochs dropped\n",
            "Not setting metadata\n",
            "Applying baseline correction (mode: logratio)\n",
            "The file being converted is chb08_11.edf\n",
            "Extracting EDF parameters from /content/drive/My Drive/Research/data/EEG/chb08/chb08_11.edf...\n",
            "EDF file detected\n",
            "Setting channel info structure...\n",
            "Creating raw.info structure...\n",
            "Reading 0 ... 921599  =      0.000 ...  3599.996 secs...\n"
          ],
          "name": "stdout"
        },
        {
          "output_type": "stream",
          "text": [
            "<ipython-input-11-330b93c843df>:12: RuntimeWarning: Channel names are not unique, found duplicates for: {'T8-P8'}. Applying running numbers for duplicates.\n",
            "  raw = mne.io.read_raw_edf(file_location, preload=True)\n"
          ],
          "name": "stderr"
        },
        {
          "output_type": "stream",
          "text": [
            "Setting up band-stop filter from 59 - 61 Hz\n",
            "\n",
            "FIR filter parameters\n",
            "---------------------\n",
            "Designing a one-pass, zero-phase, non-causal bandstop filter:\n",
            "- Windowed time-domain design (firwin) method\n",
            "- Hamming window with 0.0194 passband ripple and 53 dB stopband attenuation\n",
            "- Lower passband edge: 59.35\n",
            "- Lower transition bandwidth: 0.50 Hz (-6 dB cutoff frequency: 59.10 Hz)\n",
            "- Upper passband edge: 60.65 Hz\n",
            "- Upper transition bandwidth: 0.50 Hz (-6 dB cutoff frequency: 60.90 Hz)\n",
            "- Filter length: 1691 samples (6.605 sec)\n",
            "\n",
            "2 matching events found\n",
            "No baseline correction applied\n",
            "Not setting metadata\n",
            "0 projection items activated\n",
            "Loading data for 2 events and 15360 original time points ...\n",
            "0 bad epochs dropped\n",
            "Not setting metadata\n",
            "Applying baseline correction (mode: logratio)\n",
            "The file being converted is chb08_13.edf\n",
            "Extracting EDF parameters from /content/drive/My Drive/Research/data/EEG/chb08/chb08_13.edf...\n",
            "EDF file detected\n",
            "Setting channel info structure...\n",
            "Creating raw.info structure...\n",
            "Reading 0 ... 921599  =      0.000 ...  3599.996 secs...\n"
          ],
          "name": "stdout"
        },
        {
          "output_type": "stream",
          "text": [
            "<ipython-input-11-330b93c843df>:12: RuntimeWarning: Channel names are not unique, found duplicates for: {'T8-P8'}. Applying running numbers for duplicates.\n",
            "  raw = mne.io.read_raw_edf(file_location, preload=True)\n"
          ],
          "name": "stderr"
        },
        {
          "output_type": "stream",
          "text": [
            "Setting up band-stop filter from 59 - 61 Hz\n",
            "\n",
            "FIR filter parameters\n",
            "---------------------\n",
            "Designing a one-pass, zero-phase, non-causal bandstop filter:\n",
            "- Windowed time-domain design (firwin) method\n",
            "- Hamming window with 0.0194 passband ripple and 53 dB stopband attenuation\n",
            "- Lower passband edge: 59.35\n",
            "- Lower transition bandwidth: 0.50 Hz (-6 dB cutoff frequency: 59.10 Hz)\n",
            "- Upper passband edge: 60.65 Hz\n",
            "- Upper transition bandwidth: 0.50 Hz (-6 dB cutoff frequency: 60.90 Hz)\n",
            "- Filter length: 1691 samples (6.605 sec)\n",
            "\n",
            "2 matching events found\n",
            "No baseline correction applied\n",
            "Not setting metadata\n",
            "0 projection items activated\n",
            "Loading data for 2 events and 15360 original time points ...\n",
            "0 bad epochs dropped\n",
            "Not setting metadata\n",
            "Applying baseline correction (mode: logratio)\n",
            "The file being converted is chb08_21.edf\n",
            "Extracting EDF parameters from /content/drive/My Drive/Research/data/EEG/chb08/chb08_21.edf...\n",
            "EDF file detected\n",
            "Setting channel info structure...\n",
            "Creating raw.info structure...\n",
            "Reading 0 ... 921599  =      0.000 ...  3599.996 secs...\n"
          ],
          "name": "stdout"
        },
        {
          "output_type": "stream",
          "text": [
            "<ipython-input-11-330b93c843df>:12: RuntimeWarning: Channel names are not unique, found duplicates for: {'T8-P8'}. Applying running numbers for duplicates.\n",
            "  raw = mne.io.read_raw_edf(file_location, preload=True)\n"
          ],
          "name": "stderr"
        },
        {
          "output_type": "stream",
          "text": [
            "Setting up band-stop filter from 59 - 61 Hz\n",
            "\n",
            "FIR filter parameters\n",
            "---------------------\n",
            "Designing a one-pass, zero-phase, non-causal bandstop filter:\n",
            "- Windowed time-domain design (firwin) method\n",
            "- Hamming window with 0.0194 passband ripple and 53 dB stopband attenuation\n",
            "- Lower passband edge: 59.35\n",
            "- Lower transition bandwidth: 0.50 Hz (-6 dB cutoff frequency: 59.10 Hz)\n",
            "- Upper passband edge: 60.65 Hz\n",
            "- Upper transition bandwidth: 0.50 Hz (-6 dB cutoff frequency: 60.90 Hz)\n",
            "- Filter length: 1691 samples (6.605 sec)\n",
            "\n",
            "4 matching events found\n",
            "No baseline correction applied\n",
            "Not setting metadata\n",
            "0 projection items activated\n",
            "Loading data for 4 events and 15360 original time points ...\n",
            "0 bad epochs dropped\n",
            "Not setting metadata\n",
            "Applying baseline correction (mode: logratio)\n",
            "The file being converted is chb09_06.edf\n",
            "Extracting EDF parameters from /content/drive/My Drive/Research/data/EEG/chb09/chb09_06.edf...\n",
            "EDF file detected\n",
            "Setting channel info structure...\n",
            "Creating raw.info structure...\n",
            "Reading 0 ... 3686143  =      0.000 ... 14398.996 secs...\n"
          ],
          "name": "stdout"
        },
        {
          "output_type": "stream",
          "text": [
            "<ipython-input-11-330b93c843df>:12: RuntimeWarning: Channel names are not unique, found duplicates for: {'T8-P8'}. Applying running numbers for duplicates.\n",
            "  raw = mne.io.read_raw_edf(file_location, preload=True)\n"
          ],
          "name": "stderr"
        },
        {
          "output_type": "stream",
          "text": [
            "Setting up band-stop filter from 59 - 61 Hz\n",
            "\n",
            "FIR filter parameters\n",
            "---------------------\n",
            "Designing a one-pass, zero-phase, non-causal bandstop filter:\n",
            "- Windowed time-domain design (firwin) method\n",
            "- Hamming window with 0.0194 passband ripple and 53 dB stopband attenuation\n",
            "- Lower passband edge: 59.35\n",
            "- Lower transition bandwidth: 0.50 Hz (-6 dB cutoff frequency: 59.10 Hz)\n",
            "- Upper passband edge: 60.65 Hz\n",
            "- Upper transition bandwidth: 0.50 Hz (-6 dB cutoff frequency: 60.90 Hz)\n",
            "- Filter length: 1691 samples (6.605 sec)\n",
            "\n",
            "1 matching events found\n",
            "No baseline correction applied\n",
            "Not setting metadata\n",
            "0 projection items activated\n",
            "Loading data for 1 events and 15360 original time points ...\n",
            "0 bad epochs dropped\n",
            "Not setting metadata\n",
            "Applying baseline correction (mode: logratio)\n",
            "The file being converted is chb09_08.edf\n",
            "Extracting EDF parameters from /content/drive/My Drive/Research/data/EEG/chb09/chb09_08.edf...\n",
            "EDF file detected\n",
            "Setting channel info structure...\n",
            "Creating raw.info structure...\n",
            "Reading 0 ... 3686399  =      0.000 ... 14399.996 secs...\n"
          ],
          "name": "stdout"
        },
        {
          "output_type": "stream",
          "text": [
            "<ipython-input-11-330b93c843df>:12: RuntimeWarning: Channel names are not unique, found duplicates for: {'T8-P8'}. Applying running numbers for duplicates.\n",
            "  raw = mne.io.read_raw_edf(file_location, preload=True)\n"
          ],
          "name": "stderr"
        },
        {
          "output_type": "stream",
          "text": [
            "Setting up band-stop filter from 59 - 61 Hz\n",
            "\n",
            "FIR filter parameters\n",
            "---------------------\n",
            "Designing a one-pass, zero-phase, non-causal bandstop filter:\n",
            "- Windowed time-domain design (firwin) method\n",
            "- Hamming window with 0.0194 passband ripple and 53 dB stopband attenuation\n",
            "- Lower passband edge: 59.35\n",
            "- Lower transition bandwidth: 0.50 Hz (-6 dB cutoff frequency: 59.10 Hz)\n",
            "- Upper passband edge: 60.65 Hz\n",
            "- Upper transition bandwidth: 0.50 Hz (-6 dB cutoff frequency: 60.90 Hz)\n",
            "- Filter length: 1691 samples (6.605 sec)\n",
            "\n",
            "1 matching events found\n",
            "No baseline correction applied\n",
            "Not setting metadata\n",
            "0 projection items activated\n",
            "Loading data for 1 events and 15360 original time points ...\n",
            "0 bad epochs dropped\n",
            "Not setting metadata\n",
            "Applying baseline correction (mode: logratio)\n",
            "The file being converted is chb09_08.edf\n",
            "Extracting EDF parameters from /content/drive/My Drive/Research/data/EEG/chb09/chb09_08.edf...\n",
            "EDF file detected\n",
            "Setting channel info structure...\n",
            "Creating raw.info structure...\n",
            "Reading 0 ... 3686399  =      0.000 ... 14399.996 secs...\n"
          ],
          "name": "stdout"
        },
        {
          "output_type": "stream",
          "text": [
            "<ipython-input-11-330b93c843df>:12: RuntimeWarning: Channel names are not unique, found duplicates for: {'T8-P8'}. Applying running numbers for duplicates.\n",
            "  raw = mne.io.read_raw_edf(file_location, preload=True)\n"
          ],
          "name": "stderr"
        },
        {
          "output_type": "stream",
          "text": [
            "Setting up band-stop filter from 59 - 61 Hz\n",
            "\n",
            "FIR filter parameters\n",
            "---------------------\n",
            "Designing a one-pass, zero-phase, non-causal bandstop filter:\n",
            "- Windowed time-domain design (firwin) method\n",
            "- Hamming window with 0.0194 passband ripple and 53 dB stopband attenuation\n",
            "- Lower passband edge: 59.35\n",
            "- Lower transition bandwidth: 0.50 Hz (-6 dB cutoff frequency: 59.10 Hz)\n",
            "- Upper passband edge: 60.65 Hz\n",
            "- Upper transition bandwidth: 0.50 Hz (-6 dB cutoff frequency: 60.90 Hz)\n",
            "- Filter length: 1691 samples (6.605 sec)\n",
            "\n",
            "1 matching events found\n",
            "No baseline correction applied\n",
            "Not setting metadata\n",
            "0 projection items activated\n",
            "Loading data for 1 events and 15360 original time points ...\n",
            "0 bad epochs dropped\n",
            "Not setting metadata\n",
            "Applying baseline correction (mode: logratio)\n",
            "The file being converted is chb09_19.edf\n",
            "Extracting EDF parameters from /content/drive/My Drive/Research/data/EEG/chb09/chb09_19.edf...\n",
            "EDF file detected\n",
            "Setting channel info structure...\n",
            "Creating raw.info structure...\n",
            "Reading 0 ... 1459199  =      0.000 ...  5699.996 secs...\n"
          ],
          "name": "stdout"
        },
        {
          "output_type": "stream",
          "text": [
            "<ipython-input-11-330b93c843df>:12: RuntimeWarning: Channel names are not unique, found duplicates for: {'T8-P8'}. Applying running numbers for duplicates.\n",
            "  raw = mne.io.read_raw_edf(file_location, preload=True)\n"
          ],
          "name": "stderr"
        },
        {
          "output_type": "stream",
          "text": [
            "Setting up band-stop filter from 59 - 61 Hz\n",
            "\n",
            "FIR filter parameters\n",
            "---------------------\n",
            "Designing a one-pass, zero-phase, non-causal bandstop filter:\n",
            "- Windowed time-domain design (firwin) method\n",
            "- Hamming window with 0.0194 passband ripple and 53 dB stopband attenuation\n",
            "- Lower passband edge: 59.35\n",
            "- Lower transition bandwidth: 0.50 Hz (-6 dB cutoff frequency: 59.10 Hz)\n",
            "- Upper passband edge: 60.65 Hz\n",
            "- Upper transition bandwidth: 0.50 Hz (-6 dB cutoff frequency: 60.90 Hz)\n",
            "- Filter length: 1691 samples (6.605 sec)\n",
            "\n",
            "1 matching events found\n",
            "No baseline correction applied\n",
            "Not setting metadata\n",
            "0 projection items activated\n",
            "Loading data for 1 events and 15360 original time points ...\n",
            "0 bad epochs dropped\n",
            "Not setting metadata\n",
            "Applying baseline correction (mode: logratio)\n",
            "The file being converted is chb10_20.edf\n",
            "Extracting EDF parameters from /content/drive/My Drive/Research/data/EEG/chb10/chb10_20.edf...\n",
            "EDF file detected\n",
            "Setting channel info structure...\n",
            "Creating raw.info structure...\n",
            "Reading 0 ... 1846271  =      0.000 ...  7211.996 secs...\n"
          ],
          "name": "stdout"
        },
        {
          "output_type": "stream",
          "text": [
            "<ipython-input-11-330b93c843df>:12: RuntimeWarning: Channel names are not unique, found duplicates for: {'T8-P8'}. Applying running numbers for duplicates.\n",
            "  raw = mne.io.read_raw_edf(file_location, preload=True)\n"
          ],
          "name": "stderr"
        },
        {
          "output_type": "stream",
          "text": [
            "Setting up band-stop filter from 59 - 61 Hz\n",
            "\n",
            "FIR filter parameters\n",
            "---------------------\n",
            "Designing a one-pass, zero-phase, non-causal bandstop filter:\n",
            "- Windowed time-domain design (firwin) method\n",
            "- Hamming window with 0.0194 passband ripple and 53 dB stopband attenuation\n",
            "- Lower passband edge: 59.35\n",
            "- Lower transition bandwidth: 0.50 Hz (-6 dB cutoff frequency: 59.10 Hz)\n",
            "- Upper passband edge: 60.65 Hz\n",
            "- Upper transition bandwidth: 0.50 Hz (-6 dB cutoff frequency: 60.90 Hz)\n",
            "- Filter length: 1691 samples (6.605 sec)\n",
            "\n",
            "1 matching events found\n",
            "No baseline correction applied\n",
            "Not setting metadata\n",
            "0 projection items activated\n",
            "Loading data for 1 events and 15360 original time points ...\n",
            "0 bad epochs dropped\n",
            "Not setting metadata\n",
            "Applying baseline correction (mode: logratio)\n",
            "The file being converted is chb10_27.edf\n",
            "Extracting EDF parameters from /content/drive/My Drive/Research/data/EEG/chb10/chb10_27.edf...\n",
            "EDF file detected\n",
            "Setting channel info structure...\n",
            "Creating raw.info structure...\n",
            "Reading 0 ... 1847807  =      0.000 ...  7217.996 secs...\n"
          ],
          "name": "stdout"
        },
        {
          "output_type": "stream",
          "text": [
            "<ipython-input-11-330b93c843df>:12: RuntimeWarning: Channel names are not unique, found duplicates for: {'T8-P8'}. Applying running numbers for duplicates.\n",
            "  raw = mne.io.read_raw_edf(file_location, preload=True)\n"
          ],
          "name": "stderr"
        },
        {
          "output_type": "stream",
          "text": [
            "Setting up band-stop filter from 59 - 61 Hz\n",
            "\n",
            "FIR filter parameters\n",
            "---------------------\n",
            "Designing a one-pass, zero-phase, non-causal bandstop filter:\n",
            "- Windowed time-domain design (firwin) method\n",
            "- Hamming window with 0.0194 passband ripple and 53 dB stopband attenuation\n",
            "- Lower passband edge: 59.35\n",
            "- Lower transition bandwidth: 0.50 Hz (-6 dB cutoff frequency: 59.10 Hz)\n",
            "- Upper passband edge: 60.65 Hz\n",
            "- Upper transition bandwidth: 0.50 Hz (-6 dB cutoff frequency: 60.90 Hz)\n",
            "- Filter length: 1691 samples (6.605 sec)\n",
            "\n",
            "1 matching events found\n",
            "No baseline correction applied\n",
            "Not setting metadata\n",
            "0 projection items activated\n",
            "Loading data for 1 events and 15360 original time points ...\n",
            "0 bad epochs dropped\n",
            "Not setting metadata\n",
            "Applying baseline correction (mode: logratio)\n",
            "The file being converted is chb10_31.edf\n",
            "Extracting EDF parameters from /content/drive/My Drive/Research/data/EEG/chb10/chb10_31.edf...\n",
            "EDF file detected\n",
            "Setting channel info structure...\n",
            "Creating raw.info structure...\n",
            "Reading 0 ... 1848575  =      0.000 ...  7220.996 secs...\n"
          ],
          "name": "stdout"
        },
        {
          "output_type": "stream",
          "text": [
            "<ipython-input-11-330b93c843df>:12: RuntimeWarning: Channel names are not unique, found duplicates for: {'T8-P8'}. Applying running numbers for duplicates.\n",
            "  raw = mne.io.read_raw_edf(file_location, preload=True)\n"
          ],
          "name": "stderr"
        },
        {
          "output_type": "stream",
          "text": [
            "Setting up band-stop filter from 59 - 61 Hz\n",
            "\n",
            "FIR filter parameters\n",
            "---------------------\n",
            "Designing a one-pass, zero-phase, non-causal bandstop filter:\n",
            "- Windowed time-domain design (firwin) method\n",
            "- Hamming window with 0.0194 passband ripple and 53 dB stopband attenuation\n",
            "- Lower passband edge: 59.35\n",
            "- Lower transition bandwidth: 0.50 Hz (-6 dB cutoff frequency: 59.10 Hz)\n",
            "- Upper passband edge: 60.65 Hz\n",
            "- Upper transition bandwidth: 0.50 Hz (-6 dB cutoff frequency: 60.90 Hz)\n",
            "- Filter length: 1691 samples (6.605 sec)\n",
            "\n",
            "1 matching events found\n",
            "No baseline correction applied\n",
            "Not setting metadata\n",
            "0 projection items activated\n",
            "Loading data for 1 events and 15360 original time points ...\n",
            "0 bad epochs dropped\n",
            "Not setting metadata\n",
            "Applying baseline correction (mode: logratio)\n",
            "The file being converted is chb10_38.edf\n",
            "Extracting EDF parameters from /content/drive/My Drive/Research/data/EEG/chb10/chb10_38.edf...\n",
            "EDF file detected\n",
            "Setting channel info structure...\n",
            "Creating raw.info structure...\n",
            "Reading 0 ... 1843199  =      0.000 ...  7199.996 secs...\n"
          ],
          "name": "stdout"
        },
        {
          "output_type": "stream",
          "text": [
            "<ipython-input-11-330b93c843df>:12: RuntimeWarning: Channel names are not unique, found duplicates for: {'T8-P8'}. Applying running numbers for duplicates.\n",
            "  raw = mne.io.read_raw_edf(file_location, preload=True)\n"
          ],
          "name": "stderr"
        },
        {
          "output_type": "stream",
          "text": [
            "Setting up band-stop filter from 59 - 61 Hz\n",
            "\n",
            "FIR filter parameters\n",
            "---------------------\n",
            "Designing a one-pass, zero-phase, non-causal bandstop filter:\n",
            "- Windowed time-domain design (firwin) method\n",
            "- Hamming window with 0.0194 passband ripple and 53 dB stopband attenuation\n",
            "- Lower passband edge: 59.35\n",
            "- Lower transition bandwidth: 0.50 Hz (-6 dB cutoff frequency: 59.10 Hz)\n",
            "- Upper passband edge: 60.65 Hz\n",
            "- Upper transition bandwidth: 0.50 Hz (-6 dB cutoff frequency: 60.90 Hz)\n",
            "- Filter length: 1691 samples (6.605 sec)\n",
            "\n",
            "1 matching events found\n",
            "No baseline correction applied\n",
            "Not setting metadata\n",
            "0 projection items activated\n",
            "Loading data for 1 events and 15360 original time points ...\n",
            "0 bad epochs dropped\n",
            "Not setting metadata\n",
            "Applying baseline correction (mode: logratio)\n",
            "The file being converted is chb11_99.edf\n",
            "Extracting EDF parameters from /content/drive/My Drive/Research/data/EEG/chb11/chb11_99.edf...\n",
            "EDF file detected\n",
            "Setting channel info structure...\n",
            "Creating raw.info structure...\n",
            "Reading 0 ... 731903  =      0.000 ...  2858.996 secs...\n"
          ],
          "name": "stdout"
        },
        {
          "output_type": "stream",
          "text": [
            "<ipython-input-11-330b93c843df>:12: RuntimeWarning: Channel names are not unique, found duplicates for: {'-', 'T8-P8'}. Applying running numbers for duplicates.\n",
            "  raw = mne.io.read_raw_edf(file_location, preload=True)\n"
          ],
          "name": "stderr"
        },
        {
          "output_type": "stream",
          "text": [
            "Setting up band-stop filter from 59 - 61 Hz\n",
            "\n",
            "FIR filter parameters\n",
            "---------------------\n",
            "Designing a one-pass, zero-phase, non-causal bandstop filter:\n",
            "- Windowed time-domain design (firwin) method\n",
            "- Hamming window with 0.0194 passband ripple and 53 dB stopband attenuation\n",
            "- Lower passband edge: 59.35\n",
            "- Lower transition bandwidth: 0.50 Hz (-6 dB cutoff frequency: 59.10 Hz)\n",
            "- Upper passband edge: 60.65 Hz\n",
            "- Upper transition bandwidth: 0.50 Hz (-6 dB cutoff frequency: 60.90 Hz)\n",
            "- Filter length: 1691 samples (6.605 sec)\n",
            "\n",
            "12 matching events found\n",
            "No baseline correction applied\n",
            "Not setting metadata\n",
            "0 projection items activated\n",
            "Loading data for 12 events and 15360 original time points ...\n",
            "0 bad epochs dropped\n",
            "Not setting metadata\n",
            "Applying baseline correction (mode: logratio)\n",
            "The file being converted is chb12_06.edf\n",
            "Extracting EDF parameters from /content/drive/My Drive/Research/data/EEG/chb12/chb12_06.edf...\n",
            "EDF file detected\n",
            "Setting channel info structure...\n",
            "Creating raw.info structure...\n",
            "Reading 0 ... 923135  =      0.000 ...  3605.996 secs...\n"
          ],
          "name": "stdout"
        },
        {
          "output_type": "stream",
          "text": [
            "<ipython-input-11-330b93c843df>:12: RuntimeWarning: Channel names are not unique, found duplicates for: {'-', 'T8-P8'}. Applying running numbers for duplicates.\n",
            "  raw = mne.io.read_raw_edf(file_location, preload=True)\n",
            "<ipython-input-11-330b93c843df>:12: RuntimeWarning: Scaling factor is not defined in following channels:\n",
            "--0, --1, --2, --3, --4\n",
            "  raw = mne.io.read_raw_edf(file_location, preload=True)\n"
          ],
          "name": "stderr"
        },
        {
          "output_type": "stream",
          "text": [
            "Setting up band-stop filter from 59 - 61 Hz\n",
            "\n",
            "FIR filter parameters\n",
            "---------------------\n",
            "Designing a one-pass, zero-phase, non-causal bandstop filter:\n",
            "- Windowed time-domain design (firwin) method\n",
            "- Hamming window with 0.0194 passband ripple and 53 dB stopband attenuation\n",
            "- Lower passband edge: 59.35\n",
            "- Lower transition bandwidth: 0.50 Hz (-6 dB cutoff frequency: 59.10 Hz)\n",
            "- Upper passband edge: 60.65 Hz\n",
            "- Upper transition bandwidth: 0.50 Hz (-6 dB cutoff frequency: 60.90 Hz)\n",
            "- Filter length: 1691 samples (6.605 sec)\n",
            "\n",
            "1 matching events found\n",
            "No baseline correction applied\n",
            "Not setting metadata\n",
            "0 projection items activated\n",
            "Loading data for 1 events and 15360 original time points ...\n",
            "0 bad epochs dropped\n",
            "Not setting metadata\n",
            "Applying baseline correction (mode: logratio)\n",
            "The file being converted is chb12_23.edf\n",
            "Extracting EDF parameters from /content/drive/My Drive/Research/data/EEG/chb12/chb12_23.edf...\n",
            "EDF file detected\n",
            "Setting channel info structure...\n",
            "Creating raw.info structure...\n",
            "Reading 0 ... 921599  =      0.000 ...  3599.996 secs...\n"
          ],
          "name": "stdout"
        },
        {
          "output_type": "stream",
          "text": [
            "<ipython-input-11-330b93c843df>:12: RuntimeWarning: Channel names are not unique, found duplicates for: {'-', 'T8-P8'}. Applying running numbers for duplicates.\n",
            "  raw = mne.io.read_raw_edf(file_location, preload=True)\n",
            "<ipython-input-11-330b93c843df>:12: RuntimeWarning: Scaling factor is not defined in following channels:\n",
            "--0, --1, --2, --3, --4\n",
            "  raw = mne.io.read_raw_edf(file_location, preload=True)\n"
          ],
          "name": "stderr"
        },
        {
          "output_type": "stream",
          "text": [
            "Setting up band-stop filter from 59 - 61 Hz\n",
            "\n",
            "FIR filter parameters\n",
            "---------------------\n",
            "Designing a one-pass, zero-phase, non-causal bandstop filter:\n",
            "- Windowed time-domain design (firwin) method\n",
            "- Hamming window with 0.0194 passband ripple and 53 dB stopband attenuation\n",
            "- Lower passband edge: 59.35\n",
            "- Lower transition bandwidth: 0.50 Hz (-6 dB cutoff frequency: 59.10 Hz)\n",
            "- Upper passband edge: 60.65 Hz\n",
            "- Upper transition bandwidth: 0.50 Hz (-6 dB cutoff frequency: 60.90 Hz)\n",
            "- Filter length: 1691 samples (6.605 sec)\n",
            "\n",
            "1 matching events found\n",
            "No baseline correction applied\n",
            "Not setting metadata\n",
            "0 projection items activated\n",
            "Loading data for 1 events and 15360 original time points ...\n",
            "0 bad epochs dropped\n",
            "Not setting metadata\n",
            "Applying baseline correction (mode: logratio)\n",
            "The file being converted is chb12_23.edf\n",
            "Extracting EDF parameters from /content/drive/My Drive/Research/data/EEG/chb12/chb12_23.edf...\n",
            "EDF file detected\n",
            "Setting channel info structure...\n",
            "Creating raw.info structure...\n",
            "Reading 0 ... 921599  =      0.000 ...  3599.996 secs...\n"
          ],
          "name": "stdout"
        },
        {
          "output_type": "stream",
          "text": [
            "<ipython-input-11-330b93c843df>:12: RuntimeWarning: Channel names are not unique, found duplicates for: {'-', 'T8-P8'}. Applying running numbers for duplicates.\n",
            "  raw = mne.io.read_raw_edf(file_location, preload=True)\n",
            "<ipython-input-11-330b93c843df>:12: RuntimeWarning: Scaling factor is not defined in following channels:\n",
            "--0, --1, --2, --3, --4\n",
            "  raw = mne.io.read_raw_edf(file_location, preload=True)\n"
          ],
          "name": "stderr"
        },
        {
          "output_type": "stream",
          "text": [
            "Setting up band-stop filter from 59 - 61 Hz\n",
            "\n",
            "FIR filter parameters\n",
            "---------------------\n",
            "Designing a one-pass, zero-phase, non-causal bandstop filter:\n",
            "- Windowed time-domain design (firwin) method\n",
            "- Hamming window with 0.0194 passband ripple and 53 dB stopband attenuation\n",
            "- Lower passband edge: 59.35\n",
            "- Lower transition bandwidth: 0.50 Hz (-6 dB cutoff frequency: 59.10 Hz)\n",
            "- Upper passband edge: 60.65 Hz\n",
            "- Upper transition bandwidth: 0.50 Hz (-6 dB cutoff frequency: 60.90 Hz)\n",
            "- Filter length: 1691 samples (6.605 sec)\n",
            "\n",
            "1 matching events found\n",
            "No baseline correction applied\n",
            "Not setting metadata\n",
            "0 projection items activated\n",
            "Loading data for 1 events and 15360 original time points ...\n",
            "0 bad epochs dropped\n",
            "Not setting metadata\n",
            "Applying baseline correction (mode: logratio)\n",
            "The file being converted is chb13_21.edf\n",
            "Extracting EDF parameters from /content/drive/My Drive/Research/data/EEG/chb13/chb13_21.edf...\n",
            "EDF file detected\n",
            "Setting channel info structure...\n",
            "Creating raw.info structure...\n",
            "Reading 0 ... 921599  =      0.000 ...  3599.996 secs...\n"
          ],
          "name": "stdout"
        },
        {
          "output_type": "stream",
          "text": [
            "<ipython-input-11-330b93c843df>:12: RuntimeWarning: Channel names are not unique, found duplicates for: {'-', 'T8-P8'}. Applying running numbers for duplicates.\n",
            "  raw = mne.io.read_raw_edf(file_location, preload=True)\n",
            "<ipython-input-11-330b93c843df>:12: RuntimeWarning: Scaling factor is not defined in following channels:\n",
            "--0, --1, --2, --3, --4\n",
            "  raw = mne.io.read_raw_edf(file_location, preload=True)\n"
          ],
          "name": "stderr"
        },
        {
          "output_type": "stream",
          "text": [
            "Setting up band-stop filter from 59 - 61 Hz\n",
            "\n",
            "FIR filter parameters\n",
            "---------------------\n",
            "Designing a one-pass, zero-phase, non-causal bandstop filter:\n",
            "- Windowed time-domain design (firwin) method\n",
            "- Hamming window with 0.0194 passband ripple and 53 dB stopband attenuation\n",
            "- Lower passband edge: 59.35\n",
            "- Lower transition bandwidth: 0.50 Hz (-6 dB cutoff frequency: 59.10 Hz)\n",
            "- Upper passband edge: 60.65 Hz\n",
            "- Upper transition bandwidth: 0.50 Hz (-6 dB cutoff frequency: 60.90 Hz)\n",
            "- Filter length: 1691 samples (6.605 sec)\n",
            "\n",
            "1 matching events found\n",
            "No baseline correction applied\n",
            "Not setting metadata\n",
            "0 projection items activated\n",
            "Loading data for 1 events and 15360 original time points ...\n",
            "0 bad epochs dropped\n",
            "Not setting metadata\n",
            "Applying baseline correction (mode: logratio)\n",
            "The file being converted is chb13_40.edf\n",
            "Extracting EDF parameters from /content/drive/My Drive/Research/data/EEG/chb13/chb13_40.edf...\n",
            "EDF file detected\n",
            "Setting channel info structure...\n",
            "Creating raw.info structure...\n",
            "Reading 0 ... 921599  =      0.000 ...  3599.996 secs...\n"
          ],
          "name": "stdout"
        },
        {
          "output_type": "stream",
          "text": [
            "<ipython-input-11-330b93c843df>:12: RuntimeWarning: Channel names are not unique, found duplicates for: {'-'}. Applying running numbers for duplicates.\n",
            "  raw = mne.io.read_raw_edf(file_location, preload=True)\n",
            "<ipython-input-11-330b93c843df>:12: RuntimeWarning: Scaling factor is not defined in following channels:\n",
            "--0, --1, --2, --3\n",
            "  raw = mne.io.read_raw_edf(file_location, preload=True)\n"
          ],
          "name": "stderr"
        },
        {
          "output_type": "stream",
          "text": [
            "Setting up band-stop filter from 59 - 61 Hz\n",
            "\n",
            "FIR filter parameters\n",
            "---------------------\n",
            "Designing a one-pass, zero-phase, non-causal bandstop filter:\n",
            "- Windowed time-domain design (firwin) method\n",
            "- Hamming window with 0.0194 passband ripple and 53 dB stopband attenuation\n",
            "- Lower passband edge: 59.35\n",
            "- Lower transition bandwidth: 0.50 Hz (-6 dB cutoff frequency: 59.10 Hz)\n",
            "- Upper passband edge: 60.65 Hz\n",
            "- Upper transition bandwidth: 0.50 Hz (-6 dB cutoff frequency: 60.90 Hz)\n",
            "- Filter length: 1691 samples (6.605 sec)\n",
            "\n",
            "1 matching events found\n",
            "No baseline correction applied\n",
            "Not setting metadata\n",
            "0 projection items activated\n",
            "Loading data for 1 events and 15360 original time points ...\n",
            "0 bad epochs dropped\n",
            "Missing channels from ch_names required by include:\n",
            "['T8-P8-0']\n",
            "The file being converted is chb13_59.edf\n",
            "Extracting EDF parameters from /content/drive/My Drive/Research/data/EEG/chb13/chb13_59.edf...\n",
            "EDF file detected\n",
            "Setting channel info structure...\n",
            "Creating raw.info structure...\n",
            "Reading 0 ... 921599  =      0.000 ...  3599.996 secs...\n"
          ],
          "name": "stdout"
        },
        {
          "output_type": "stream",
          "text": [
            "<ipython-input-11-330b93c843df>:12: RuntimeWarning: Channel names are not unique, found duplicates for: {'-', 'T8-P8'}. Applying running numbers for duplicates.\n",
            "  raw = mne.io.read_raw_edf(file_location, preload=True)\n",
            "<ipython-input-11-330b93c843df>:12: RuntimeWarning: Scaling factor is not defined in following channels:\n",
            "--0, --1, --2, --3, --4\n",
            "  raw = mne.io.read_raw_edf(file_location, preload=True)\n"
          ],
          "name": "stderr"
        },
        {
          "output_type": "stream",
          "text": [
            "Setting up band-stop filter from 59 - 61 Hz\n",
            "\n",
            "FIR filter parameters\n",
            "---------------------\n",
            "Designing a one-pass, zero-phase, non-causal bandstop filter:\n",
            "- Windowed time-domain design (firwin) method\n",
            "- Hamming window with 0.0194 passband ripple and 53 dB stopband attenuation\n",
            "- Lower passband edge: 59.35\n",
            "- Lower transition bandwidth: 0.50 Hz (-6 dB cutoff frequency: 59.10 Hz)\n",
            "- Upper passband edge: 60.65 Hz\n",
            "- Upper transition bandwidth: 0.50 Hz (-6 dB cutoff frequency: 60.90 Hz)\n",
            "- Filter length: 1691 samples (6.605 sec)\n",
            "\n",
            "1 matching events found\n",
            "No baseline correction applied\n",
            "Not setting metadata\n",
            "0 projection items activated\n",
            "Loading data for 1 events and 15360 original time points ...\n",
            "0 bad epochs dropped\n",
            "Not setting metadata\n",
            "Applying baseline correction (mode: logratio)\n",
            "The file being converted is chb13_62.edf\n",
            "Extracting EDF parameters from /content/drive/My Drive/Research/data/EEG/chb13/chb13_62.edf...\n",
            "EDF file detected\n",
            "Setting channel info structure...\n",
            "Creating raw.info structure...\n",
            "Reading 0 ... 921599  =      0.000 ...  3599.996 secs...\n"
          ],
          "name": "stdout"
        },
        {
          "output_type": "stream",
          "text": [
            "<ipython-input-11-330b93c843df>:12: RuntimeWarning: Channel names are not unique, found duplicates for: {'-', 'T8-P8'}. Applying running numbers for duplicates.\n",
            "  raw = mne.io.read_raw_edf(file_location, preload=True)\n",
            "<ipython-input-11-330b93c843df>:12: RuntimeWarning: Scaling factor is not defined in following channels:\n",
            "--0, --1, --2, --3, --4\n",
            "  raw = mne.io.read_raw_edf(file_location, preload=True)\n"
          ],
          "name": "stderr"
        },
        {
          "output_type": "stream",
          "text": [
            "Setting up band-stop filter from 59 - 61 Hz\n",
            "\n",
            "FIR filter parameters\n",
            "---------------------\n",
            "Designing a one-pass, zero-phase, non-causal bandstop filter:\n",
            "- Windowed time-domain design (firwin) method\n",
            "- Hamming window with 0.0194 passband ripple and 53 dB stopband attenuation\n",
            "- Lower passband edge: 59.35\n",
            "- Lower transition bandwidth: 0.50 Hz (-6 dB cutoff frequency: 59.10 Hz)\n",
            "- Upper passband edge: 60.65 Hz\n",
            "- Upper transition bandwidth: 0.50 Hz (-6 dB cutoff frequency: 60.90 Hz)\n",
            "- Filter length: 1691 samples (6.605 sec)\n",
            "\n",
            "1 matching events found\n",
            "No baseline correction applied\n",
            "Not setting metadata\n",
            "0 projection items activated\n",
            "Loading data for 1 events and 15360 original time points ...\n",
            "0 bad epochs dropped\n",
            "Not setting metadata\n",
            "Applying baseline correction (mode: logratio)\n",
            "The file being converted is chb13_62.edf\n",
            "Extracting EDF parameters from /content/drive/My Drive/Research/data/EEG/chb13/chb13_62.edf...\n",
            "EDF file detected\n",
            "Setting channel info structure...\n",
            "Creating raw.info structure...\n",
            "Reading 0 ... 921599  =      0.000 ...  3599.996 secs...\n"
          ],
          "name": "stdout"
        },
        {
          "output_type": "stream",
          "text": [
            "<ipython-input-11-330b93c843df>:12: RuntimeWarning: Channel names are not unique, found duplicates for: {'-', 'T8-P8'}. Applying running numbers for duplicates.\n",
            "  raw = mne.io.read_raw_edf(file_location, preload=True)\n",
            "<ipython-input-11-330b93c843df>:12: RuntimeWarning: Scaling factor is not defined in following channels:\n",
            "--0, --1, --2, --3, --4\n",
            "  raw = mne.io.read_raw_edf(file_location, preload=True)\n"
          ],
          "name": "stderr"
        },
        {
          "output_type": "stream",
          "text": [
            "Setting up band-stop filter from 59 - 61 Hz\n",
            "\n",
            "FIR filter parameters\n",
            "---------------------\n",
            "Designing a one-pass, zero-phase, non-causal bandstop filter:\n",
            "- Windowed time-domain design (firwin) method\n",
            "- Hamming window with 0.0194 passband ripple and 53 dB stopband attenuation\n",
            "- Lower passband edge: 59.35\n",
            "- Lower transition bandwidth: 0.50 Hz (-6 dB cutoff frequency: 59.10 Hz)\n",
            "- Upper passband edge: 60.65 Hz\n",
            "- Upper transition bandwidth: 0.50 Hz (-6 dB cutoff frequency: 60.90 Hz)\n",
            "- Filter length: 1691 samples (6.605 sec)\n",
            "\n",
            "1 matching events found\n",
            "No baseline correction applied\n",
            "Not setting metadata\n",
            "0 projection items activated\n",
            "Loading data for 1 events and 15360 original time points ...\n",
            "0 bad epochs dropped\n",
            "Not setting metadata\n",
            "Applying baseline correction (mode: logratio)\n",
            "The file being converted is chb17a_03.edf\n",
            "Extracting EDF parameters from /content/drive/My Drive/Research/data/EEG/chb17/chb17a_03.edf...\n",
            "EDF file detected\n",
            "Setting channel info structure...\n",
            "Creating raw.info structure...\n",
            "Reading 0 ... 921599  =      0.000 ...  3599.996 secs...\n"
          ],
          "name": "stdout"
        },
        {
          "output_type": "stream",
          "text": [
            "<ipython-input-11-330b93c843df>:12: RuntimeWarning: Channel names are not unique, found duplicates for: {'-', 'T8-P8'}. Applying running numbers for duplicates.\n",
            "  raw = mne.io.read_raw_edf(file_location, preload=True)\n",
            "<ipython-input-11-330b93c843df>:12: RuntimeWarning: Scaling factor is not defined in following channels:\n",
            "--0, --1, --2, --3, --4\n",
            "  raw = mne.io.read_raw_edf(file_location, preload=True)\n"
          ],
          "name": "stderr"
        },
        {
          "output_type": "stream",
          "text": [
            "Setting up band-stop filter from 59 - 61 Hz\n",
            "\n",
            "FIR filter parameters\n",
            "---------------------\n",
            "Designing a one-pass, zero-phase, non-causal bandstop filter:\n",
            "- Windowed time-domain design (firwin) method\n",
            "- Hamming window with 0.0194 passband ripple and 53 dB stopband attenuation\n",
            "- Lower passband edge: 59.35\n",
            "- Lower transition bandwidth: 0.50 Hz (-6 dB cutoff frequency: 59.10 Hz)\n",
            "- Upper passband edge: 60.65 Hz\n",
            "- Upper transition bandwidth: 0.50 Hz (-6 dB cutoff frequency: 60.90 Hz)\n",
            "- Filter length: 1691 samples (6.605 sec)\n",
            "\n",
            "1 matching events found\n",
            "No baseline correction applied\n",
            "Not setting metadata\n",
            "0 projection items activated\n",
            "Loading data for 1 events and 15360 original time points ...\n",
            "0 bad epochs dropped\n",
            "Not setting metadata\n",
            "Applying baseline correction (mode: logratio)\n",
            "The file being converted is chb17a_04.edf\n",
            "Extracting EDF parameters from /content/drive/My Drive/Research/data/EEG/chb17/chb17a_04.edf...\n",
            "EDF file detected\n",
            "Setting channel info structure...\n",
            "Creating raw.info structure...\n",
            "Reading 0 ... 921599  =      0.000 ...  3599.996 secs...\n"
          ],
          "name": "stdout"
        },
        {
          "output_type": "stream",
          "text": [
            "<ipython-input-11-330b93c843df>:12: RuntimeWarning: Channel names are not unique, found duplicates for: {'-', 'T8-P8'}. Applying running numbers for duplicates.\n",
            "  raw = mne.io.read_raw_edf(file_location, preload=True)\n",
            "<ipython-input-11-330b93c843df>:12: RuntimeWarning: Scaling factor is not defined in following channels:\n",
            "--0, --1, --2, --3, --4\n",
            "  raw = mne.io.read_raw_edf(file_location, preload=True)\n"
          ],
          "name": "stderr"
        },
        {
          "output_type": "stream",
          "text": [
            "Setting up band-stop filter from 59 - 61 Hz\n",
            "\n",
            "FIR filter parameters\n",
            "---------------------\n",
            "Designing a one-pass, zero-phase, non-causal bandstop filter:\n",
            "- Windowed time-domain design (firwin) method\n",
            "- Hamming window with 0.0194 passband ripple and 53 dB stopband attenuation\n",
            "- Lower passband edge: 59.35\n",
            "- Lower transition bandwidth: 0.50 Hz (-6 dB cutoff frequency: 59.10 Hz)\n",
            "- Upper passband edge: 60.65 Hz\n",
            "- Upper transition bandwidth: 0.50 Hz (-6 dB cutoff frequency: 60.90 Hz)\n",
            "- Filter length: 1691 samples (6.605 sec)\n",
            "\n",
            "1 matching events found\n",
            "No baseline correction applied\n",
            "Not setting metadata\n",
            "0 projection items activated\n",
            "Loading data for 1 events and 15360 original time points ...\n",
            "0 bad epochs dropped\n",
            "Not setting metadata\n",
            "Applying baseline correction (mode: logratio)\n",
            "The file being converted is chb17b_63.edf\n",
            "Extracting EDF parameters from /content/drive/My Drive/Research/data/EEG/chb17/chb17b_63.edf...\n",
            "EDF file detected\n",
            "Setting channel info structure...\n",
            "Creating raw.info structure...\n",
            "Reading 0 ... 927743  =      0.000 ...  3623.996 secs...\n"
          ],
          "name": "stdout"
        },
        {
          "output_type": "stream",
          "text": [
            "<ipython-input-11-330b93c843df>:12: RuntimeWarning: Channel names are not unique, found duplicates for: {'-', 'T8-P8'}. Applying running numbers for duplicates.\n",
            "  raw = mne.io.read_raw_edf(file_location, preload=True)\n",
            "<ipython-input-11-330b93c843df>:12: RuntimeWarning: Scaling factor is not defined in following channels:\n",
            "--0, --1, --2, --3, --4\n",
            "  raw = mne.io.read_raw_edf(file_location, preload=True)\n"
          ],
          "name": "stderr"
        },
        {
          "output_type": "stream",
          "text": [
            "Setting up band-stop filter from 59 - 61 Hz\n",
            "\n",
            "FIR filter parameters\n",
            "---------------------\n",
            "Designing a one-pass, zero-phase, non-causal bandstop filter:\n",
            "- Windowed time-domain design (firwin) method\n",
            "- Hamming window with 0.0194 passband ripple and 53 dB stopband attenuation\n",
            "- Lower passband edge: 59.35\n",
            "- Lower transition bandwidth: 0.50 Hz (-6 dB cutoff frequency: 59.10 Hz)\n",
            "- Upper passband edge: 60.65 Hz\n",
            "- Upper transition bandwidth: 0.50 Hz (-6 dB cutoff frequency: 60.90 Hz)\n",
            "- Filter length: 1691 samples (6.605 sec)\n",
            "\n",
            "1 matching events found\n",
            "No baseline correction applied\n",
            "Not setting metadata\n",
            "0 projection items activated\n",
            "Loading data for 1 events and 15360 original time points ...\n",
            "0 bad epochs dropped\n",
            "Not setting metadata\n",
            "Applying baseline correction (mode: logratio)\n",
            "The file being converted is chb18_31.edf\n",
            "Extracting EDF parameters from /content/drive/My Drive/Research/data/EEG/chb18/chb18_31.edf...\n",
            "EDF file detected\n",
            "Setting channel info structure...\n",
            "Creating raw.info structure...\n",
            "Reading 0 ... 582143  =      0.000 ...  2273.996 secs...\n"
          ],
          "name": "stdout"
        },
        {
          "output_type": "stream",
          "text": [
            "<ipython-input-11-330b93c843df>:12: RuntimeWarning: Channel names are not unique, found duplicates for: {'T8-P8', '.'}. Applying running numbers for duplicates.\n",
            "  raw = mne.io.read_raw_edf(file_location, preload=True)\n"
          ],
          "name": "stderr"
        },
        {
          "output_type": "stream",
          "text": [
            "Setting up band-stop filter from 59 - 61 Hz\n",
            "\n",
            "FIR filter parameters\n",
            "---------------------\n",
            "Designing a one-pass, zero-phase, non-causal bandstop filter:\n",
            "- Windowed time-domain design (firwin) method\n",
            "- Hamming window with 0.0194 passband ripple and 53 dB stopband attenuation\n",
            "- Lower passband edge: 59.35\n",
            "- Lower transition bandwidth: 0.50 Hz (-6 dB cutoff frequency: 59.10 Hz)\n",
            "- Upper passband edge: 60.65 Hz\n",
            "- Upper transition bandwidth: 0.50 Hz (-6 dB cutoff frequency: 60.90 Hz)\n",
            "- Filter length: 1691 samples (6.605 sec)\n",
            "\n",
            "1 matching events found\n",
            "No baseline correction applied\n",
            "Not setting metadata\n",
            "0 projection items activated\n",
            "Loading data for 1 events and 15360 original time points ...\n",
            "0 bad epochs dropped\n",
            "Not setting metadata\n",
            "Applying baseline correction (mode: logratio)\n",
            "The file being converted is chb18_35.edf\n",
            "Extracting EDF parameters from /content/drive/My Drive/Research/data/EEG/chb18/chb18_35.edf...\n",
            "EDF file detected\n",
            "Setting channel info structure...\n",
            "Creating raw.info structure...\n",
            "Reading 0 ... 921599  =      0.000 ...  3599.996 secs...\n"
          ],
          "name": "stdout"
        },
        {
          "output_type": "stream",
          "text": [
            "<ipython-input-11-330b93c843df>:12: RuntimeWarning: Channel names are not unique, found duplicates for: {'T8-P8', '.'}. Applying running numbers for duplicates.\n",
            "  raw = mne.io.read_raw_edf(file_location, preload=True)\n"
          ],
          "name": "stderr"
        },
        {
          "output_type": "stream",
          "text": [
            "Setting up band-stop filter from 59 - 61 Hz\n",
            "\n",
            "FIR filter parameters\n",
            "---------------------\n",
            "Designing a one-pass, zero-phase, non-causal bandstop filter:\n",
            "- Windowed time-domain design (firwin) method\n",
            "- Hamming window with 0.0194 passband ripple and 53 dB stopband attenuation\n",
            "- Lower passband edge: 59.35\n",
            "- Lower transition bandwidth: 0.50 Hz (-6 dB cutoff frequency: 59.10 Hz)\n",
            "- Upper passband edge: 60.65 Hz\n",
            "- Upper transition bandwidth: 0.50 Hz (-6 dB cutoff frequency: 60.90 Hz)\n",
            "- Filter length: 1691 samples (6.605 sec)\n",
            "\n",
            "1 matching events found\n",
            "No baseline correction applied\n",
            "Not setting metadata\n",
            "0 projection items activated\n",
            "Loading data for 1 events and 15360 original time points ...\n",
            "0 bad epochs dropped\n",
            "Not setting metadata\n",
            "Applying baseline correction (mode: logratio)\n",
            "The file being converted is chb19_28.edf\n",
            "Extracting EDF parameters from /content/drive/My Drive/Research/data/EEG/chb19/chb19_28.edf...\n",
            "EDF file detected\n",
            "Setting channel info structure...\n",
            "Creating raw.info structure...\n",
            "Reading 0 ... 924671  =      0.000 ...  3611.996 secs...\n"
          ],
          "name": "stdout"
        },
        {
          "output_type": "stream",
          "text": [
            "<ipython-input-11-330b93c843df>:12: RuntimeWarning: Channel names are not unique, found duplicates for: {'-', 'T8-P8'}. Applying running numbers for duplicates.\n",
            "  raw = mne.io.read_raw_edf(file_location, preload=True)\n",
            "<ipython-input-11-330b93c843df>:12: RuntimeWarning: Scaling factor is not defined in following channels:\n",
            "--0, --1, --2, --3, --4\n",
            "  raw = mne.io.read_raw_edf(file_location, preload=True)\n"
          ],
          "name": "stderr"
        },
        {
          "output_type": "stream",
          "text": [
            "Setting up band-stop filter from 59 - 61 Hz\n",
            "\n",
            "FIR filter parameters\n",
            "---------------------\n",
            "Designing a one-pass, zero-phase, non-causal bandstop filter:\n",
            "- Windowed time-domain design (firwin) method\n",
            "- Hamming window with 0.0194 passband ripple and 53 dB stopband attenuation\n",
            "- Lower passband edge: 59.35\n",
            "- Lower transition bandwidth: 0.50 Hz (-6 dB cutoff frequency: 59.10 Hz)\n",
            "- Upper passband edge: 60.65 Hz\n",
            "- Upper transition bandwidth: 0.50 Hz (-6 dB cutoff frequency: 60.90 Hz)\n",
            "- Filter length: 1691 samples (6.605 sec)\n",
            "\n",
            "1 matching events found\n",
            "No baseline correction applied\n",
            "Not setting metadata\n",
            "0 projection items activated\n",
            "Loading data for 1 events and 15360 original time points ...\n",
            "0 bad epochs dropped\n",
            "Not setting metadata\n",
            "Applying baseline correction (mode: logratio)\n",
            "The file being converted is chb19_29.edf\n",
            "Extracting EDF parameters from /content/drive/My Drive/Research/data/EEG/chb19/chb19_29.edf...\n",
            "EDF file detected\n",
            "Setting channel info structure...\n",
            "Creating raw.info structure...\n",
            "Reading 0 ... 921599  =      0.000 ...  3599.996 secs...\n"
          ],
          "name": "stdout"
        },
        {
          "output_type": "stream",
          "text": [
            "<ipython-input-11-330b93c843df>:12: RuntimeWarning: Channel names are not unique, found duplicates for: {'-', 'T8-P8'}. Applying running numbers for duplicates.\n",
            "  raw = mne.io.read_raw_edf(file_location, preload=True)\n",
            "<ipython-input-11-330b93c843df>:12: RuntimeWarning: Scaling factor is not defined in following channels:\n",
            "--0, --1, --2, --3, --4\n",
            "  raw = mne.io.read_raw_edf(file_location, preload=True)\n"
          ],
          "name": "stderr"
        },
        {
          "output_type": "stream",
          "text": [
            "Setting up band-stop filter from 59 - 61 Hz\n",
            "\n",
            "FIR filter parameters\n",
            "---------------------\n",
            "Designing a one-pass, zero-phase, non-causal bandstop filter:\n",
            "- Windowed time-domain design (firwin) method\n",
            "- Hamming window with 0.0194 passband ripple and 53 dB stopband attenuation\n",
            "- Lower passband edge: 59.35\n",
            "- Lower transition bandwidth: 0.50 Hz (-6 dB cutoff frequency: 59.10 Hz)\n",
            "- Upper passband edge: 60.65 Hz\n",
            "- Upper transition bandwidth: 0.50 Hz (-6 dB cutoff frequency: 60.90 Hz)\n",
            "- Filter length: 1691 samples (6.605 sec)\n",
            "\n",
            "1 matching events found\n",
            "No baseline correction applied\n",
            "Not setting metadata\n",
            "0 projection items activated\n",
            "Loading data for 1 events and 15360 original time points ...\n",
            "0 bad epochs dropped\n",
            "Not setting metadata\n",
            "Applying baseline correction (mode: logratio)\n",
            "The file being converted is chb19_30.edf\n",
            "Extracting EDF parameters from /content/drive/My Drive/Research/data/EEG/chb19/chb19_30.edf...\n",
            "EDF file detected\n",
            "Setting channel info structure...\n",
            "Creating raw.info structure...\n",
            "Reading 0 ... 853503  =      0.000 ...  3333.996 secs...\n"
          ],
          "name": "stdout"
        },
        {
          "output_type": "stream",
          "text": [
            "<ipython-input-11-330b93c843df>:12: RuntimeWarning: Channel names are not unique, found duplicates for: {'-', 'T8-P8'}. Applying running numbers for duplicates.\n",
            "  raw = mne.io.read_raw_edf(file_location, preload=True)\n",
            "<ipython-input-11-330b93c843df>:12: RuntimeWarning: Scaling factor is not defined in following channels:\n",
            "--0, --1, --2, --3, --4\n",
            "  raw = mne.io.read_raw_edf(file_location, preload=True)\n"
          ],
          "name": "stderr"
        },
        {
          "output_type": "stream",
          "text": [
            "Setting up band-stop filter from 59 - 61 Hz\n",
            "\n",
            "FIR filter parameters\n",
            "---------------------\n",
            "Designing a one-pass, zero-phase, non-causal bandstop filter:\n",
            "- Windowed time-domain design (firwin) method\n",
            "- Hamming window with 0.0194 passband ripple and 53 dB stopband attenuation\n",
            "- Lower passband edge: 59.35\n",
            "- Lower transition bandwidth: 0.50 Hz (-6 dB cutoff frequency: 59.10 Hz)\n",
            "- Upper passband edge: 60.65 Hz\n",
            "- Upper transition bandwidth: 0.50 Hz (-6 dB cutoff frequency: 60.90 Hz)\n",
            "- Filter length: 1691 samples (6.605 sec)\n",
            "\n",
            "1 matching events found\n",
            "No baseline correction applied\n",
            "Not setting metadata\n",
            "0 projection items activated\n",
            "Loading data for 1 events and 15360 original time points ...\n",
            "0 bad epochs dropped\n",
            "Not setting metadata\n",
            "Applying baseline correction (mode: logratio)\n",
            "The file being converted is chb21_21.edf\n",
            "Extracting EDF parameters from /content/drive/My Drive/Research/data/EEG/chb21/chb21_21.edf...\n",
            "EDF file detected\n",
            "Setting channel info structure...\n",
            "Creating raw.info structure...\n",
            "Reading 0 ... 921599  =      0.000 ...  3599.996 secs...\n"
          ],
          "name": "stdout"
        },
        {
          "output_type": "stream",
          "text": [
            "<ipython-input-11-330b93c843df>:12: RuntimeWarning: Channel names are not unique, found duplicates for: {'-', 'T8-P8'}. Applying running numbers for duplicates.\n",
            "  raw = mne.io.read_raw_edf(file_location, preload=True)\n",
            "<ipython-input-11-330b93c843df>:12: RuntimeWarning: Scaling factor is not defined in following channels:\n",
            "--0, --1, --2, --3, --4\n",
            "  raw = mne.io.read_raw_edf(file_location, preload=True)\n"
          ],
          "name": "stderr"
        },
        {
          "output_type": "stream",
          "text": [
            "Setting up band-stop filter from 59 - 61 Hz\n",
            "\n",
            "FIR filter parameters\n",
            "---------------------\n",
            "Designing a one-pass, zero-phase, non-causal bandstop filter:\n",
            "- Windowed time-domain design (firwin) method\n",
            "- Hamming window with 0.0194 passband ripple and 53 dB stopband attenuation\n",
            "- Lower passband edge: 59.35\n",
            "- Lower transition bandwidth: 0.50 Hz (-6 dB cutoff frequency: 59.10 Hz)\n",
            "- Upper passband edge: 60.65 Hz\n",
            "- Upper transition bandwidth: 0.50 Hz (-6 dB cutoff frequency: 60.90 Hz)\n",
            "- Filter length: 1691 samples (6.605 sec)\n",
            "\n",
            "1 matching events found\n",
            "No baseline correction applied\n",
            "Not setting metadata\n",
            "0 projection items activated\n",
            "Loading data for 1 events and 15360 original time points ...\n",
            "0 bad epochs dropped\n",
            "Not setting metadata\n",
            "Applying baseline correction (mode: logratio)\n",
            "The file being converted is chb22_25.edf\n",
            "Extracting EDF parameters from /content/drive/My Drive/Research/data/EEG/chb22/chb22_25.edf...\n",
            "EDF file detected\n",
            "Setting channel info structure...\n",
            "Creating raw.info structure...\n",
            "Reading 0 ... 921599  =      0.000 ...  3599.996 secs...\n"
          ],
          "name": "stdout"
        },
        {
          "output_type": "stream",
          "text": [
            "<ipython-input-11-330b93c843df>:12: RuntimeWarning: Channel names are not unique, found duplicates for: {'-', 'T8-P8'}. Applying running numbers for duplicates.\n",
            "  raw = mne.io.read_raw_edf(file_location, preload=True)\n"
          ],
          "name": "stderr"
        },
        {
          "output_type": "stream",
          "text": [
            "Setting up band-stop filter from 59 - 61 Hz\n",
            "\n",
            "FIR filter parameters\n",
            "---------------------\n",
            "Designing a one-pass, zero-phase, non-causal bandstop filter:\n",
            "- Windowed time-domain design (firwin) method\n",
            "- Hamming window with 0.0194 passband ripple and 53 dB stopband attenuation\n",
            "- Lower passband edge: 59.35\n",
            "- Lower transition bandwidth: 0.50 Hz (-6 dB cutoff frequency: 59.10 Hz)\n",
            "- Upper passband edge: 60.65 Hz\n",
            "- Upper transition bandwidth: 0.50 Hz (-6 dB cutoff frequency: 60.90 Hz)\n",
            "- Filter length: 1691 samples (6.605 sec)\n",
            "\n",
            "1 matching events found\n",
            "No baseline correction applied\n",
            "Not setting metadata\n",
            "0 projection items activated\n",
            "Loading data for 1 events and 15360 original time points ...\n",
            "0 bad epochs dropped\n",
            "Not setting metadata\n",
            "Applying baseline correction (mode: logratio)\n",
            "The file being converted is chb22_38.edf\n",
            "Extracting EDF parameters from /content/drive/My Drive/Research/data/EEG/chb22/chb22_38.edf...\n",
            "EDF file detected\n",
            "Setting channel info structure...\n",
            "Creating raw.info structure...\n",
            "Reading 0 ... 921599  =      0.000 ...  3599.996 secs...\n"
          ],
          "name": "stdout"
        },
        {
          "output_type": "stream",
          "text": [
            "<ipython-input-11-330b93c843df>:12: RuntimeWarning: Channel names are not unique, found duplicates for: {'-', 'T8-P8'}. Applying running numbers for duplicates.\n",
            "  raw = mne.io.read_raw_edf(file_location, preload=True)\n"
          ],
          "name": "stderr"
        },
        {
          "output_type": "stream",
          "text": [
            "Setting up band-stop filter from 59 - 61 Hz\n",
            "\n",
            "FIR filter parameters\n",
            "---------------------\n",
            "Designing a one-pass, zero-phase, non-causal bandstop filter:\n",
            "- Windowed time-domain design (firwin) method\n",
            "- Hamming window with 0.0194 passband ripple and 53 dB stopband attenuation\n",
            "- Lower passband edge: 59.35\n",
            "- Lower transition bandwidth: 0.50 Hz (-6 dB cutoff frequency: 59.10 Hz)\n",
            "- Upper passband edge: 60.65 Hz\n",
            "- Upper transition bandwidth: 0.50 Hz (-6 dB cutoff frequency: 60.90 Hz)\n",
            "- Filter length: 1691 samples (6.605 sec)\n",
            "\n",
            "1 matching events found\n",
            "No baseline correction applied\n",
            "Not setting metadata\n",
            "0 projection items activated\n",
            "Loading data for 1 events and 15360 original time points ...\n",
            "0 bad epochs dropped\n",
            "Not setting metadata\n",
            "Applying baseline correction (mode: logratio)\n",
            "The file being converted is chb23_06.edf\n",
            "Extracting EDF parameters from /content/drive/My Drive/Research/data/EEG/chb23/chb23_06.edf...\n",
            "EDF file detected\n",
            "Setting channel info structure...\n",
            "Creating raw.info structure...\n",
            "Reading 0 ... 1916415  =      0.000 ...  7485.996 secs...\n"
          ],
          "name": "stdout"
        },
        {
          "output_type": "stream",
          "text": [
            "<ipython-input-11-330b93c843df>:12: RuntimeWarning: Channel names are not unique, found duplicates for: {'T8-P8'}. Applying running numbers for duplicates.\n",
            "  raw = mne.io.read_raw_edf(file_location, preload=True)\n"
          ],
          "name": "stderr"
        },
        {
          "output_type": "stream",
          "text": [
            "Setting up band-stop filter from 59 - 61 Hz\n",
            "\n",
            "FIR filter parameters\n",
            "---------------------\n",
            "Designing a one-pass, zero-phase, non-causal bandstop filter:\n",
            "- Windowed time-domain design (firwin) method\n",
            "- Hamming window with 0.0194 passband ripple and 53 dB stopband attenuation\n",
            "- Lower passband edge: 59.35\n",
            "- Lower transition bandwidth: 0.50 Hz (-6 dB cutoff frequency: 59.10 Hz)\n",
            "- Upper passband edge: 60.65 Hz\n",
            "- Upper transition bandwidth: 0.50 Hz (-6 dB cutoff frequency: 60.90 Hz)\n",
            "- Filter length: 1691 samples (6.605 sec)\n",
            "\n",
            "1 matching events found\n",
            "No baseline correction applied\n",
            "Not setting metadata\n",
            "0 projection items activated\n",
            "Loading data for 1 events and 15360 original time points ...\n",
            "0 bad epochs dropped\n",
            "Not setting metadata\n",
            "Applying baseline correction (mode: logratio)\n",
            "The file being converted is chb23_09.edf\n",
            "Extracting EDF parameters from /content/drive/My Drive/Research/data/EEG/chb23/chb23_09.edf...\n",
            "EDF file detected\n",
            "Setting channel info structure...\n",
            "Creating raw.info structure...\n",
            "Reading 0 ... 3693055  =      0.000 ... 14425.996 secs...\n"
          ],
          "name": "stdout"
        },
        {
          "output_type": "stream",
          "text": [
            "<ipython-input-11-330b93c843df>:12: RuntimeWarning: Channel names are not unique, found duplicates for: {'T8-P8'}. Applying running numbers for duplicates.\n",
            "  raw = mne.io.read_raw_edf(file_location, preload=True)\n"
          ],
          "name": "stderr"
        },
        {
          "output_type": "stream",
          "text": [
            "Setting up band-stop filter from 59 - 61 Hz\n",
            "\n",
            "FIR filter parameters\n",
            "---------------------\n",
            "Designing a one-pass, zero-phase, non-causal bandstop filter:\n",
            "- Windowed time-domain design (firwin) method\n",
            "- Hamming window with 0.0194 passband ripple and 53 dB stopband attenuation\n",
            "- Lower passband edge: 59.35\n",
            "- Lower transition bandwidth: 0.50 Hz (-6 dB cutoff frequency: 59.10 Hz)\n",
            "- Upper passband edge: 60.65 Hz\n",
            "- Upper transition bandwidth: 0.50 Hz (-6 dB cutoff frequency: 60.90 Hz)\n",
            "- Filter length: 1691 samples (6.605 sec)\n",
            "\n",
            "1 matching events found\n",
            "No baseline correction applied\n",
            "Not setting metadata\n",
            "0 projection items activated\n",
            "Loading data for 1 events and 15360 original time points ...\n",
            "0 bad epochs dropped\n",
            "Not setting metadata\n",
            "Applying baseline correction (mode: logratio)\n",
            "The file being converted is chb23_09.edf\n",
            "Extracting EDF parameters from /content/drive/My Drive/Research/data/EEG/chb23/chb23_09.edf...\n",
            "EDF file detected\n",
            "Setting channel info structure...\n",
            "Creating raw.info structure...\n",
            "Reading 0 ... 3693055  =      0.000 ... 14425.996 secs...\n"
          ],
          "name": "stdout"
        },
        {
          "output_type": "stream",
          "text": [
            "<ipython-input-11-330b93c843df>:12: RuntimeWarning: Channel names are not unique, found duplicates for: {'T8-P8'}. Applying running numbers for duplicates.\n",
            "  raw = mne.io.read_raw_edf(file_location, preload=True)\n"
          ],
          "name": "stderr"
        },
        {
          "output_type": "stream",
          "text": [
            "Setting up band-stop filter from 59 - 61 Hz\n",
            "\n",
            "FIR filter parameters\n",
            "---------------------\n",
            "Designing a one-pass, zero-phase, non-causal bandstop filter:\n",
            "- Windowed time-domain design (firwin) method\n",
            "- Hamming window with 0.0194 passband ripple and 53 dB stopband attenuation\n",
            "- Lower passband edge: 59.35\n",
            "- Lower transition bandwidth: 0.50 Hz (-6 dB cutoff frequency: 59.10 Hz)\n",
            "- Upper passband edge: 60.65 Hz\n",
            "- Upper transition bandwidth: 0.50 Hz (-6 dB cutoff frequency: 60.90 Hz)\n",
            "- Filter length: 1691 samples (6.605 sec)\n",
            "\n",
            "1 matching events found\n",
            "No baseline correction applied\n",
            "Not setting metadata\n",
            "0 projection items activated\n",
            "Loading data for 1 events and 15360 original time points ...\n",
            "0 bad epochs dropped\n",
            "Not setting metadata\n",
            "Applying baseline correction (mode: logratio)\n",
            "The file being converted is chb23_09.edf\n",
            "Extracting EDF parameters from /content/drive/My Drive/Research/data/EEG/chb23/chb23_09.edf...\n",
            "EDF file detected\n",
            "Setting channel info structure...\n",
            "Creating raw.info structure...\n",
            "Reading 0 ... 3693055  =      0.000 ... 14425.996 secs...\n"
          ],
          "name": "stdout"
        },
        {
          "output_type": "stream",
          "text": [
            "<ipython-input-11-330b93c843df>:12: RuntimeWarning: Channel names are not unique, found duplicates for: {'T8-P8'}. Applying running numbers for duplicates.\n",
            "  raw = mne.io.read_raw_edf(file_location, preload=True)\n"
          ],
          "name": "stderr"
        },
        {
          "output_type": "stream",
          "text": [
            "Setting up band-stop filter from 59 - 61 Hz\n",
            "\n",
            "FIR filter parameters\n",
            "---------------------\n",
            "Designing a one-pass, zero-phase, non-causal bandstop filter:\n",
            "- Windowed time-domain design (firwin) method\n",
            "- Hamming window with 0.0194 passband ripple and 53 dB stopband attenuation\n",
            "- Lower passband edge: 59.35\n",
            "- Lower transition bandwidth: 0.50 Hz (-6 dB cutoff frequency: 59.10 Hz)\n",
            "- Upper passband edge: 60.65 Hz\n",
            "- Upper transition bandwidth: 0.50 Hz (-6 dB cutoff frequency: 60.90 Hz)\n",
            "- Filter length: 1691 samples (6.605 sec)\n",
            "\n",
            "1 matching events found\n",
            "No baseline correction applied\n",
            "Not setting metadata\n",
            "0 projection items activated\n",
            "Loading data for 1 events and 15360 original time points ...\n",
            "0 bad epochs dropped\n",
            "Not setting metadata\n",
            "Applying baseline correction (mode: logratio)\n",
            "The file being converted is chb24_11.edf\n",
            "Extracting EDF parameters from /content/drive/My Drive/Research/data/EEG/chb24/chb24_11.edf...\n",
            "EDF file detected\n",
            "Setting channel info structure...\n",
            "Creating raw.info structure...\n",
            "Reading 0 ... 921599  =      0.000 ...  3599.996 secs...\n",
            "Setting up band-stop filter from 59 - 61 Hz\n",
            "\n",
            "FIR filter parameters\n",
            "---------------------\n",
            "Designing a one-pass, zero-phase, non-causal bandstop filter:\n",
            "- Windowed time-domain design (firwin) method\n",
            "- Hamming window with 0.0194 passband ripple and 53 dB stopband attenuation\n"
          ],
          "name": "stdout"
        },
        {
          "output_type": "stream",
          "text": [
            "<ipython-input-11-330b93c843df>:12: RuntimeWarning: Channel names are not unique, found duplicates for: {'T8-P8'}. Applying running numbers for duplicates.\n",
            "  raw = mne.io.read_raw_edf(file_location, preload=True)\n"
          ],
          "name": "stderr"
        },
        {
          "output_type": "stream",
          "text": [
            "- Lower passband edge: 59.35\n",
            "- Lower transition bandwidth: 0.50 Hz (-6 dB cutoff frequency: 59.10 Hz)\n",
            "- Upper passband edge: 60.65 Hz\n",
            "- Upper transition bandwidth: 0.50 Hz (-6 dB cutoff frequency: 60.90 Hz)\n",
            "- Filter length: 1691 samples (6.605 sec)\n",
            "\n",
            "1 matching events found\n",
            "No baseline correction applied\n",
            "Not setting metadata\n",
            "0 projection items activated\n",
            "Loading data for 1 events and 15360 original time points ...\n",
            "0 bad epochs dropped\n",
            "Not setting metadata\n",
            "Applying baseline correction (mode: logratio)\n",
            "The file being converted is chb24_17.edf\n",
            "Extracting EDF parameters from /content/drive/My Drive/Research/data/EEG/chb24/chb24_17.edf...\n",
            "EDF file detected\n",
            "Setting channel info structure...\n",
            "Creating raw.info structure...\n",
            "Reading 0 ... 921599  =      0.000 ...  3599.996 secs...\n",
            "Setting up band-stop filter from 59 - 61 Hz\n"
          ],
          "name": "stdout"
        },
        {
          "output_type": "stream",
          "text": [
            "<ipython-input-11-330b93c843df>:12: RuntimeWarning: Channel names are not unique, found duplicates for: {'T8-P8'}. Applying running numbers for duplicates.\n",
            "  raw = mne.io.read_raw_edf(file_location, preload=True)\n"
          ],
          "name": "stderr"
        },
        {
          "output_type": "stream",
          "text": [
            "\n",
            "FIR filter parameters\n",
            "---------------------\n",
            "Designing a one-pass, zero-phase, non-causal bandstop filter:\n",
            "- Windowed time-domain design (firwin) method\n",
            "- Hamming window with 0.0194 passband ripple and 53 dB stopband attenuation\n",
            "- Lower passband edge: 59.35\n",
            "- Lower transition bandwidth: 0.50 Hz (-6 dB cutoff frequency: 59.10 Hz)\n",
            "- Upper passband edge: 60.65 Hz\n",
            "- Upper transition bandwidth: 0.50 Hz (-6 dB cutoff frequency: 60.90 Hz)\n",
            "- Filter length: 1691 samples (6.605 sec)\n",
            "\n",
            "1 matching events found\n",
            "No baseline correction applied\n",
            "Not setting metadata\n",
            "0 projection items activated\n",
            "Loading data for 1 events and 15360 original time points ...\n",
            "0 bad epochs dropped\n",
            "Not setting metadata\n",
            "Applying baseline correction (mode: logratio)\n",
            "The file being converted is chb24_21.edf\n",
            "Extracting EDF parameters from /content/drive/My Drive/Research/data/EEG/chb24/chb24_21.edf...\n",
            "EDF file detected\n",
            "Setting channel info structure...\n",
            "Creating raw.info structure...\n",
            "Reading 0 ... 921599  =      0.000 ...  3599.996 secs...\n",
            "Setting up band-stop filter from 59 - 61 Hz\n",
            "\n",
            "FIR filter parameters\n"
          ],
          "name": "stdout"
        },
        {
          "output_type": "stream",
          "text": [
            "<ipython-input-11-330b93c843df>:12: RuntimeWarning: Channel names are not unique, found duplicates for: {'T8-P8'}. Applying running numbers for duplicates.\n",
            "  raw = mne.io.read_raw_edf(file_location, preload=True)\n"
          ],
          "name": "stderr"
        },
        {
          "output_type": "stream",
          "text": [
            "---------------------\n",
            "Designing a one-pass, zero-phase, non-causal bandstop filter:\n",
            "- Windowed time-domain design (firwin) method\n",
            "- Hamming window with 0.0194 passband ripple and 53 dB stopband attenuation\n",
            "- Lower passband edge: 59.35\n",
            "- Lower transition bandwidth: 0.50 Hz (-6 dB cutoff frequency: 59.10 Hz)\n",
            "- Upper passband edge: 60.65 Hz\n",
            "- Upper transition bandwidth: 0.50 Hz (-6 dB cutoff frequency: 60.90 Hz)\n",
            "- Filter length: 1691 samples (6.605 sec)\n",
            "\n",
            "1 matching events found\n",
            "No baseline correction applied\n",
            "Not setting metadata\n",
            "0 projection items activated\n",
            "Loading data for 1 events and 15360 original time points ...\n",
            "0 bad epochs dropped\n",
            "Not setting metadata\n",
            "Applying baseline correction (mode: logratio)\n",
            "The file being converted is chb15_06.edf\n",
            "Extracting EDF parameters from /content/drive/My Drive/Research/data/EEG/chb15/chb15_06.edf...\n",
            "EDF file detected\n",
            "Setting channel info structure...\n",
            "Creating raw.info structure...\n",
            "Reading 0 ... 921599  =      0.000 ...  3599.996 secs...\n"
          ],
          "name": "stdout"
        },
        {
          "output_type": "stream",
          "text": [
            "<ipython-input-11-330b93c843df>:12: RuntimeWarning: Channel names are not unique, found duplicates for: {'-', 'T8-P8'}. Applying running numbers for duplicates.\n",
            "  raw = mne.io.read_raw_edf(file_location, preload=True)\n",
            "<ipython-input-11-330b93c843df>:12: RuntimeWarning: Scaling factor is not defined in following channels:\n",
            "--0, --1, --2, --3, --4, --5\n",
            "  raw = mne.io.read_raw_edf(file_location, preload=True)\n"
          ],
          "name": "stderr"
        },
        {
          "output_type": "stream",
          "text": [
            "Setting up band-stop filter from 59 - 61 Hz\n",
            "\n",
            "FIR filter parameters\n",
            "---------------------\n",
            "Designing a one-pass, zero-phase, non-causal bandstop filter:\n",
            "- Windowed time-domain design (firwin) method\n",
            "- Hamming window with 0.0194 passband ripple and 53 dB stopband attenuation\n",
            "- Lower passband edge: 59.35\n",
            "- Lower transition bandwidth: 0.50 Hz (-6 dB cutoff frequency: 59.10 Hz)\n",
            "- Upper passband edge: 60.65 Hz\n",
            "- Upper transition bandwidth: 0.50 Hz (-6 dB cutoff frequency: 60.90 Hz)\n",
            "- Filter length: 1691 samples (6.605 sec)\n",
            "\n",
            "2 matching events found\n",
            "No baseline correction applied\n",
            "Not setting metadata\n",
            "0 projection items activated\n",
            "Loading data for 2 events and 15360 original time points ...\n",
            "0 bad epochs dropped\n",
            "Not setting metadata\n",
            "Applying baseline correction (mode: logratio)\n",
            "The file being converted is chb15_15.edf\n",
            "Extracting EDF parameters from /content/drive/My Drive/Research/data/EEG/chb15/chb15_15.edf...\n",
            "EDF file detected\n",
            "Setting channel info structure...\n",
            "Creating raw.info structure...\n",
            "Reading 0 ... 921599  =      0.000 ...  3599.996 secs...\n"
          ],
          "name": "stdout"
        },
        {
          "output_type": "stream",
          "text": [
            "<ipython-input-11-330b93c843df>:12: RuntimeWarning: Channel names are not unique, found duplicates for: {'-', 'T8-P8'}. Applying running numbers for duplicates.\n",
            "  raw = mne.io.read_raw_edf(file_location, preload=True)\n",
            "<ipython-input-11-330b93c843df>:12: RuntimeWarning: Scaling factor is not defined in following channels:\n",
            "--0, --1, --2, --3, --4, --5\n",
            "  raw = mne.io.read_raw_edf(file_location, preload=True)\n"
          ],
          "name": "stderr"
        },
        {
          "output_type": "stream",
          "text": [
            "Setting up band-stop filter from 59 - 61 Hz\n",
            "\n",
            "FIR filter parameters\n",
            "---------------------\n",
            "Designing a one-pass, zero-phase, non-causal bandstop filter:\n",
            "- Windowed time-domain design (firwin) method\n",
            "- Hamming window with 0.0194 passband ripple and 53 dB stopband attenuation\n",
            "- Lower passband edge: 59.35\n",
            "- Lower transition bandwidth: 0.50 Hz (-6 dB cutoff frequency: 59.10 Hz)\n",
            "- Upper passband edge: 60.65 Hz\n",
            "- Upper transition bandwidth: 0.50 Hz (-6 dB cutoff frequency: 60.90 Hz)\n",
            "- Filter length: 1691 samples (6.605 sec)\n",
            "\n",
            "2 matching events found\n",
            "No baseline correction applied\n",
            "Not setting metadata\n",
            "0 projection items activated\n",
            "Loading data for 2 events and 15360 original time points ...\n",
            "0 bad epochs dropped\n",
            "Not setting metadata\n",
            "Applying baseline correction (mode: logratio)\n",
            "The file being converted is chb15_22.edf\n",
            "Extracting EDF parameters from /content/drive/My Drive/Research/data/EEG/chb15/chb15_22.edf...\n",
            "EDF file detected\n",
            "Setting channel info structure...\n",
            "Creating raw.info structure...\n",
            "Reading 0 ... 921599  =      0.000 ...  3599.996 secs...\n"
          ],
          "name": "stdout"
        },
        {
          "output_type": "stream",
          "text": [
            "<ipython-input-11-330b93c843df>:12: RuntimeWarning: Channel names are not unique, found duplicates for: {'-', 'T8-P8'}. Applying running numbers for duplicates.\n",
            "  raw = mne.io.read_raw_edf(file_location, preload=True)\n",
            "<ipython-input-11-330b93c843df>:12: RuntimeWarning: Scaling factor is not defined in following channels:\n",
            "--0, --1, --2, --3, --4, --5\n",
            "  raw = mne.io.read_raw_edf(file_location, preload=True)\n"
          ],
          "name": "stderr"
        },
        {
          "output_type": "stream",
          "text": [
            "Setting up band-stop filter from 59 - 61 Hz\n",
            "\n",
            "FIR filter parameters\n",
            "---------------------\n",
            "Designing a one-pass, zero-phase, non-causal bandstop filter:\n",
            "- Windowed time-domain design (firwin) method\n",
            "- Hamming window with 0.0194 passband ripple and 53 dB stopband attenuation\n",
            "- Lower passband edge: 59.35\n",
            "- Lower transition bandwidth: 0.50 Hz (-6 dB cutoff frequency: 59.10 Hz)\n",
            "- Upper passband edge: 60.65 Hz\n",
            "- Upper transition bandwidth: 0.50 Hz (-6 dB cutoff frequency: 60.90 Hz)\n",
            "- Filter length: 1691 samples (6.605 sec)\n",
            "\n",
            "3 matching events found\n",
            "No baseline correction applied\n",
            "Not setting metadata\n",
            "0 projection items activated\n",
            "Loading data for 3 events and 15360 original time points ...\n",
            "0 bad epochs dropped\n",
            "Not setting metadata\n",
            "Applying baseline correction (mode: logratio)\n",
            "The file being converted is chb15_28.edf\n",
            "Extracting EDF parameters from /content/drive/My Drive/Research/data/EEG/chb15/chb15_28.edf...\n",
            "EDF file detected\n",
            "Setting channel info structure...\n",
            "Creating raw.info structure...\n",
            "Reading 0 ... 921599  =      0.000 ...  3599.996 secs...\n"
          ],
          "name": "stdout"
        },
        {
          "output_type": "stream",
          "text": [
            "<ipython-input-11-330b93c843df>:12: RuntimeWarning: Channel names are not unique, found duplicates for: {'-', 'T8-P8'}. Applying running numbers for duplicates.\n",
            "  raw = mne.io.read_raw_edf(file_location, preload=True)\n",
            "<ipython-input-11-330b93c843df>:12: RuntimeWarning: Scaling factor is not defined in following channels:\n",
            "--0, --1, --2, --3, --4, --5\n",
            "  raw = mne.io.read_raw_edf(file_location, preload=True)\n"
          ],
          "name": "stderr"
        },
        {
          "output_type": "stream",
          "text": [
            "Setting up band-stop filter from 59 - 61 Hz\n",
            "\n",
            "FIR filter parameters\n",
            "---------------------\n",
            "Designing a one-pass, zero-phase, non-causal bandstop filter:\n",
            "- Windowed time-domain design (firwin) method\n",
            "- Hamming window with 0.0194 passband ripple and 53 dB stopband attenuation\n",
            "- Lower passband edge: 59.35\n",
            "- Lower transition bandwidth: 0.50 Hz (-6 dB cutoff frequency: 59.10 Hz)\n",
            "- Upper passband edge: 60.65 Hz\n",
            "- Upper transition bandwidth: 0.50 Hz (-6 dB cutoff frequency: 60.90 Hz)\n",
            "- Filter length: 1691 samples (6.605 sec)\n",
            "\n",
            "3 matching events found\n",
            "No baseline correction applied\n",
            "Not setting metadata\n",
            "0 projection items activated\n",
            "Loading data for 3 events and 15360 original time points ...\n",
            "0 bad epochs dropped\n",
            "Not setting metadata\n",
            "Applying baseline correction (mode: logratio)\n",
            "The file being converted is chb15_31.edf\n",
            "Extracting EDF parameters from /content/drive/My Drive/Research/data/EEG/chb15/chb15_31.edf...\n",
            "EDF file detected\n",
            "Setting channel info structure...\n",
            "Creating raw.info structure...\n",
            "Reading 0 ... 921599  =      0.000 ...  3599.996 secs...\n"
          ],
          "name": "stdout"
        },
        {
          "output_type": "stream",
          "text": [
            "<ipython-input-11-330b93c843df>:12: RuntimeWarning: Channel names are not unique, found duplicates for: {'-', 'T8-P8'}. Applying running numbers for duplicates.\n",
            "  raw = mne.io.read_raw_edf(file_location, preload=True)\n",
            "<ipython-input-11-330b93c843df>:12: RuntimeWarning: Scaling factor is not defined in following channels:\n",
            "--0, --1, --2, --3, --4, --5\n",
            "  raw = mne.io.read_raw_edf(file_location, preload=True)\n"
          ],
          "name": "stderr"
        },
        {
          "output_type": "stream",
          "text": [
            "Setting up band-stop filter from 59 - 61 Hz\n",
            "\n",
            "FIR filter parameters\n",
            "---------------------\n",
            "Designing a one-pass, zero-phase, non-causal bandstop filter:\n",
            "- Windowed time-domain design (firwin) method\n",
            "- Hamming window with 0.0194 passband ripple and 53 dB stopband attenuation\n",
            "- Lower passband edge: 59.35\n",
            "- Lower transition bandwidth: 0.50 Hz (-6 dB cutoff frequency: 59.10 Hz)\n",
            "- Upper passband edge: 60.65 Hz\n",
            "- Upper transition bandwidth: 0.50 Hz (-6 dB cutoff frequency: 60.90 Hz)\n",
            "- Filter length: 1691 samples (6.605 sec)\n",
            "\n",
            "2 matching events found\n",
            "No baseline correction applied\n",
            "Not setting metadata\n",
            "0 projection items activated\n",
            "Loading data for 2 events and 15360 original time points ...\n",
            "0 bad epochs dropped\n",
            "Not setting metadata\n",
            "Applying baseline correction (mode: logratio)\n",
            "The file being converted is chb15_40.edf\n",
            "Extracting EDF parameters from /content/drive/My Drive/Research/data/EEG/chb15/chb15_40.edf...\n",
            "EDF file detected\n",
            "Setting channel info structure...\n",
            "Creating raw.info structure...\n",
            "Reading 0 ... 921599  =      0.000 ...  3599.996 secs...\n"
          ],
          "name": "stdout"
        },
        {
          "output_type": "stream",
          "text": [
            "<ipython-input-11-330b93c843df>:12: RuntimeWarning: Channel names are not unique, found duplicates for: {'-', 'T8-P8'}. Applying running numbers for duplicates.\n",
            "  raw = mne.io.read_raw_edf(file_location, preload=True)\n",
            "<ipython-input-11-330b93c843df>:12: RuntimeWarning: Scaling factor is not defined in following channels:\n",
            "--0, --1, --2, --3, --4, --5\n",
            "  raw = mne.io.read_raw_edf(file_location, preload=True)\n"
          ],
          "name": "stderr"
        },
        {
          "output_type": "stream",
          "text": [
            "Setting up band-stop filter from 59 - 61 Hz\n",
            "\n",
            "FIR filter parameters\n",
            "---------------------\n",
            "Designing a one-pass, zero-phase, non-causal bandstop filter:\n",
            "- Windowed time-domain design (firwin) method\n",
            "- Hamming window with 0.0194 passband ripple and 53 dB stopband attenuation\n",
            "- Lower passband edge: 59.35\n",
            "- Lower transition bandwidth: 0.50 Hz (-6 dB cutoff frequency: 59.10 Hz)\n",
            "- Upper passband edge: 60.65 Hz\n",
            "- Upper transition bandwidth: 0.50 Hz (-6 dB cutoff frequency: 60.90 Hz)\n",
            "- Filter length: 1691 samples (6.605 sec)\n",
            "\n",
            "1 matching events found\n",
            "No baseline correction applied\n",
            "Not setting metadata\n",
            "0 projection items activated\n",
            "Loading data for 1 events and 15360 original time points ...\n",
            "0 bad epochs dropped\n",
            "Not setting metadata\n",
            "Applying baseline correction (mode: logratio)\n",
            "The file being converted is chb15_40.edf\n",
            "Extracting EDF parameters from /content/drive/My Drive/Research/data/EEG/chb15/chb15_40.edf...\n",
            "EDF file detected\n",
            "Setting channel info structure...\n",
            "Creating raw.info structure...\n",
            "Reading 0 ... 921599  =      0.000 ...  3599.996 secs...\n"
          ],
          "name": "stdout"
        },
        {
          "output_type": "stream",
          "text": [
            "<ipython-input-11-330b93c843df>:12: RuntimeWarning: Channel names are not unique, found duplicates for: {'-', 'T8-P8'}. Applying running numbers for duplicates.\n",
            "  raw = mne.io.read_raw_edf(file_location, preload=True)\n",
            "<ipython-input-11-330b93c843df>:12: RuntimeWarning: Scaling factor is not defined in following channels:\n",
            "--0, --1, --2, --3, --4, --5\n",
            "  raw = mne.io.read_raw_edf(file_location, preload=True)\n"
          ],
          "name": "stderr"
        },
        {
          "output_type": "stream",
          "text": [
            "Setting up band-stop filter from 59 - 61 Hz\n",
            "\n",
            "FIR filter parameters\n",
            "---------------------\n",
            "Designing a one-pass, zero-phase, non-causal bandstop filter:\n",
            "- Windowed time-domain design (firwin) method\n",
            "- Hamming window with 0.0194 passband ripple and 53 dB stopband attenuation\n",
            "- Lower passband edge: 59.35\n",
            "- Lower transition bandwidth: 0.50 Hz (-6 dB cutoff frequency: 59.10 Hz)\n",
            "- Upper passband edge: 60.65 Hz\n",
            "- Upper transition bandwidth: 0.50 Hz (-6 dB cutoff frequency: 60.90 Hz)\n",
            "- Filter length: 1691 samples (6.605 sec)\n",
            "\n",
            "1 matching events found\n",
            "No baseline correction applied\n",
            "Not setting metadata\n",
            "0 projection items activated\n",
            "Loading data for 1 events and 15360 original time points ...\n",
            "0 bad epochs dropped\n",
            "Not setting metadata\n",
            "Applying baseline correction (mode: logratio)\n",
            "The file being converted is chb15_40.edf\n",
            "Extracting EDF parameters from /content/drive/My Drive/Research/data/EEG/chb15/chb15_40.edf...\n",
            "EDF file detected\n",
            "Setting channel info structure...\n",
            "Creating raw.info structure...\n",
            "Reading 0 ... 921599  =      0.000 ...  3599.996 secs...\n"
          ],
          "name": "stdout"
        },
        {
          "output_type": "stream",
          "text": [
            "<ipython-input-11-330b93c843df>:12: RuntimeWarning: Channel names are not unique, found duplicates for: {'-', 'T8-P8'}. Applying running numbers for duplicates.\n",
            "  raw = mne.io.read_raw_edf(file_location, preload=True)\n",
            "<ipython-input-11-330b93c843df>:12: RuntimeWarning: Scaling factor is not defined in following channels:\n",
            "--0, --1, --2, --3, --4, --5\n",
            "  raw = mne.io.read_raw_edf(file_location, preload=True)\n"
          ],
          "name": "stderr"
        },
        {
          "output_type": "stream",
          "text": [
            "Setting up band-stop filter from 59 - 61 Hz\n",
            "\n",
            "FIR filter parameters\n",
            "---------------------\n",
            "Designing a one-pass, zero-phase, non-causal bandstop filter:\n",
            "- Windowed time-domain design (firwin) method\n",
            "- Hamming window with 0.0194 passband ripple and 53 dB stopband attenuation\n",
            "- Lower passband edge: 59.35\n",
            "- Lower transition bandwidth: 0.50 Hz (-6 dB cutoff frequency: 59.10 Hz)\n",
            "- Upper passband edge: 60.65 Hz\n",
            "- Upper transition bandwidth: 0.50 Hz (-6 dB cutoff frequency: 60.90 Hz)\n",
            "- Filter length: 1691 samples (6.605 sec)\n",
            "\n",
            "1 matching events found\n",
            "No baseline correction applied\n",
            "Not setting metadata\n",
            "0 projection items activated\n",
            "Loading data for 1 events and 15360 original time points ...\n",
            "0 bad epochs dropped\n",
            "Not setting metadata\n",
            "Applying baseline correction (mode: logratio)\n",
            "The file being converted is chb15_46.edf\n",
            "Extracting EDF parameters from /content/drive/My Drive/Research/data/EEG/chb15/chb15_46.edf...\n",
            "EDF file detected\n",
            "Setting channel info structure...\n",
            "Creating raw.info structure...\n",
            "Reading 0 ... 921599  =      0.000 ...  3599.996 secs...\n"
          ],
          "name": "stdout"
        },
        {
          "output_type": "stream",
          "text": [
            "<ipython-input-11-330b93c843df>:12: RuntimeWarning: Channel names are not unique, found duplicates for: {'-', 'T8-P8'}. Applying running numbers for duplicates.\n",
            "  raw = mne.io.read_raw_edf(file_location, preload=True)\n",
            "<ipython-input-11-330b93c843df>:12: RuntimeWarning: Scaling factor is not defined in following channels:\n",
            "--0, --1, --2, --3, --4, --5\n",
            "  raw = mne.io.read_raw_edf(file_location, preload=True)\n"
          ],
          "name": "stderr"
        },
        {
          "output_type": "stream",
          "text": [
            "Setting up band-stop filter from 59 - 61 Hz\n",
            "\n",
            "FIR filter parameters\n",
            "---------------------\n",
            "Designing a one-pass, zero-phase, non-causal bandstop filter:\n",
            "- Windowed time-domain design (firwin) method\n",
            "- Hamming window with 0.0194 passband ripple and 53 dB stopband attenuation\n",
            "- Lower passband edge: 59.35\n",
            "- Lower transition bandwidth: 0.50 Hz (-6 dB cutoff frequency: 59.10 Hz)\n",
            "- Upper passband edge: 60.65 Hz\n",
            "- Upper transition bandwidth: 0.50 Hz (-6 dB cutoff frequency: 60.90 Hz)\n",
            "- Filter length: 1691 samples (6.605 sec)\n",
            "\n",
            "1 matching events found\n",
            "No baseline correction applied\n",
            "Not setting metadata\n",
            "0 projection items activated\n",
            "Loading data for 1 events and 15360 original time points ...\n",
            "0 bad epochs dropped\n",
            "Not setting metadata\n",
            "Applying baseline correction (mode: logratio)\n",
            "The file being converted is chb15_49.edf\n",
            "Extracting EDF parameters from /content/drive/My Drive/Research/data/EEG/chb15/chb15_49.edf...\n",
            "EDF file detected\n",
            "Setting channel info structure...\n",
            "Creating raw.info structure...\n",
            "Reading 0 ... 927999  =      0.000 ...  3624.996 secs...\n"
          ],
          "name": "stdout"
        },
        {
          "output_type": "stream",
          "text": [
            "<ipython-input-11-330b93c843df>:12: RuntimeWarning: Channel names are not unique, found duplicates for: {'-', 'T8-P8'}. Applying running numbers for duplicates.\n",
            "  raw = mne.io.read_raw_edf(file_location, preload=True)\n",
            "<ipython-input-11-330b93c843df>:12: RuntimeWarning: Scaling factor is not defined in following channels:\n",
            "--0, --1, --2, --3, --4, --5\n",
            "  raw = mne.io.read_raw_edf(file_location, preload=True)\n"
          ],
          "name": "stderr"
        },
        {
          "output_type": "stream",
          "text": [
            "Setting up band-stop filter from 59 - 61 Hz\n",
            "\n",
            "FIR filter parameters\n",
            "---------------------\n",
            "Designing a one-pass, zero-phase, non-causal bandstop filter:\n",
            "- Windowed time-domain design (firwin) method\n",
            "- Hamming window with 0.0194 passband ripple and 53 dB stopband attenuation\n",
            "- Lower passband edge: 59.35\n",
            "- Lower transition bandwidth: 0.50 Hz (-6 dB cutoff frequency: 59.10 Hz)\n",
            "- Upper passband edge: 60.65 Hz\n",
            "- Upper transition bandwidth: 0.50 Hz (-6 dB cutoff frequency: 60.90 Hz)\n",
            "- Filter length: 1691 samples (6.605 sec)\n",
            "\n",
            "2 matching events found\n",
            "No baseline correction applied\n",
            "Not setting metadata\n",
            "0 projection items activated\n",
            "Loading data for 2 events and 15360 original time points ...\n",
            "0 bad epochs dropped\n",
            "Not setting metadata\n",
            "Applying baseline correction (mode: logratio)\n",
            "The file being converted is chb15_52.edf\n",
            "Extracting EDF parameters from /content/drive/My Drive/Research/data/EEG/chb15/chb15_52.edf...\n",
            "EDF file detected\n",
            "Setting channel info structure...\n",
            "Creating raw.info structure...\n",
            "Reading 0 ... 923903  =      0.000 ...  3608.996 secs...\n"
          ],
          "name": "stdout"
        },
        {
          "output_type": "stream",
          "text": [
            "<ipython-input-11-330b93c843df>:12: RuntimeWarning: Channel names are not unique, found duplicates for: {'-', 'T8-P8'}. Applying running numbers for duplicates.\n",
            "  raw = mne.io.read_raw_edf(file_location, preload=True)\n",
            "<ipython-input-11-330b93c843df>:12: RuntimeWarning: Scaling factor is not defined in following channels:\n",
            "--0, --1, --2, --3, --4, --5\n",
            "  raw = mne.io.read_raw_edf(file_location, preload=True)\n"
          ],
          "name": "stderr"
        },
        {
          "output_type": "stream",
          "text": [
            "Setting up band-stop filter from 59 - 61 Hz\n",
            "\n",
            "FIR filter parameters\n",
            "---------------------\n",
            "Designing a one-pass, zero-phase, non-causal bandstop filter:\n",
            "- Windowed time-domain design (firwin) method\n",
            "- Hamming window with 0.0194 passband ripple and 53 dB stopband attenuation\n",
            "- Lower passband edge: 59.35\n",
            "- Lower transition bandwidth: 0.50 Hz (-6 dB cutoff frequency: 59.10 Hz)\n",
            "- Upper passband edge: 60.65 Hz\n",
            "- Upper transition bandwidth: 0.50 Hz (-6 dB cutoff frequency: 60.90 Hz)\n",
            "- Filter length: 1691 samples (6.605 sec)\n",
            "\n",
            "1 matching events found\n",
            "No baseline correction applied\n",
            "Not setting metadata\n",
            "0 projection items activated\n",
            "Loading data for 1 events and 15360 original time points ...\n",
            "0 bad epochs dropped\n",
            "Not setting metadata\n",
            "Applying baseline correction (mode: logratio)\n",
            "The file being converted is chb15_54.edf\n",
            "Extracting EDF parameters from /content/drive/My Drive/Research/data/EEG/chb15/chb15_54.edf...\n",
            "EDF file detected\n",
            "Setting channel info structure...\n",
            "Creating raw.info structure...\n",
            "Reading 0 ... 921599  =      0.000 ...  3599.996 secs...\n"
          ],
          "name": "stdout"
        },
        {
          "output_type": "stream",
          "text": [
            "<ipython-input-11-330b93c843df>:12: RuntimeWarning: Channel names are not unique, found duplicates for: {'-', 'T8-P8'}. Applying running numbers for duplicates.\n",
            "  raw = mne.io.read_raw_edf(file_location, preload=True)\n",
            "<ipython-input-11-330b93c843df>:12: RuntimeWarning: Scaling factor is not defined in following channels:\n",
            "--0, --1, --2, --3, --4, --5\n",
            "  raw = mne.io.read_raw_edf(file_location, preload=True)\n"
          ],
          "name": "stderr"
        },
        {
          "output_type": "stream",
          "text": [
            "Setting up band-stop filter from 59 - 61 Hz\n",
            "\n",
            "FIR filter parameters\n",
            "---------------------\n",
            "Designing a one-pass, zero-phase, non-causal bandstop filter:\n",
            "- Windowed time-domain design (firwin) method\n",
            "- Hamming window with 0.0194 passband ripple and 53 dB stopband attenuation\n",
            "- Lower passband edge: 59.35\n",
            "- Lower transition bandwidth: 0.50 Hz (-6 dB cutoff frequency: 59.10 Hz)\n",
            "- Upper passband edge: 60.65 Hz\n",
            "- Upper transition bandwidth: 0.50 Hz (-6 dB cutoff frequency: 60.90 Hz)\n",
            "- Filter length: 1691 samples (6.605 sec)\n",
            "\n",
            "2 matching events found\n",
            "No baseline correction applied\n",
            "Not setting metadata\n",
            "0 projection items activated\n",
            "Loading data for 2 events and 15360 original time points ...\n",
            "0 bad epochs dropped\n",
            "Not setting metadata\n",
            "Applying baseline correction (mode: logratio)\n",
            "The file being converted is chb15_54.edf\n",
            "Extracting EDF parameters from /content/drive/My Drive/Research/data/EEG/chb15/chb15_54.edf...\n",
            "EDF file detected\n",
            "Setting channel info structure...\n",
            "Creating raw.info structure...\n",
            "Reading 0 ... 921599  =      0.000 ...  3599.996 secs...\n"
          ],
          "name": "stdout"
        },
        {
          "output_type": "stream",
          "text": [
            "<ipython-input-11-330b93c843df>:12: RuntimeWarning: Channel names are not unique, found duplicates for: {'-', 'T8-P8'}. Applying running numbers for duplicates.\n",
            "  raw = mne.io.read_raw_edf(file_location, preload=True)\n",
            "<ipython-input-11-330b93c843df>:12: RuntimeWarning: Scaling factor is not defined in following channels:\n",
            "--0, --1, --2, --3, --4, --5\n",
            "  raw = mne.io.read_raw_edf(file_location, preload=True)\n"
          ],
          "name": "stderr"
        },
        {
          "output_type": "stream",
          "text": [
            "Setting up band-stop filter from 59 - 61 Hz\n",
            "\n",
            "FIR filter parameters\n",
            "---------------------\n",
            "Designing a one-pass, zero-phase, non-causal bandstop filter:\n",
            "- Windowed time-domain design (firwin) method\n",
            "- Hamming window with 0.0194 passband ripple and 53 dB stopband attenuation\n",
            "- Lower passband edge: 59.35\n",
            "- Lower transition bandwidth: 0.50 Hz (-6 dB cutoff frequency: 59.10 Hz)\n",
            "- Upper passband edge: 60.65 Hz\n",
            "- Upper transition bandwidth: 0.50 Hz (-6 dB cutoff frequency: 60.90 Hz)\n",
            "- Filter length: 1691 samples (6.605 sec)\n",
            "\n",
            "1 matching events found\n",
            "No baseline correction applied\n",
            "Not setting metadata\n",
            "0 projection items activated\n",
            "Loading data for 1 events and 15360 original time points ...\n",
            "0 bad epochs dropped\n",
            "Not setting metadata\n",
            "Applying baseline correction (mode: logratio)\n",
            "The file being converted is chb15_54.edf\n",
            "Extracting EDF parameters from /content/drive/My Drive/Research/data/EEG/chb15/chb15_54.edf...\n",
            "EDF file detected\n",
            "Setting channel info structure...\n",
            "Creating raw.info structure...\n",
            "Reading 0 ... 921599  =      0.000 ...  3599.996 secs...\n"
          ],
          "name": "stdout"
        },
        {
          "output_type": "stream",
          "text": [
            "<ipython-input-11-330b93c843df>:12: RuntimeWarning: Channel names are not unique, found duplicates for: {'-', 'T8-P8'}. Applying running numbers for duplicates.\n",
            "  raw = mne.io.read_raw_edf(file_location, preload=True)\n",
            "<ipython-input-11-330b93c843df>:12: RuntimeWarning: Scaling factor is not defined in following channels:\n",
            "--0, --1, --2, --3, --4, --5\n",
            "  raw = mne.io.read_raw_edf(file_location, preload=True)\n"
          ],
          "name": "stderr"
        },
        {
          "output_type": "stream",
          "text": [
            "Setting up band-stop filter from 59 - 61 Hz\n",
            "\n",
            "FIR filter parameters\n",
            "---------------------\n",
            "Designing a one-pass, zero-phase, non-causal bandstop filter:\n",
            "- Windowed time-domain design (firwin) method\n",
            "- Hamming window with 0.0194 passband ripple and 53 dB stopband attenuation\n",
            "- Lower passband edge: 59.35\n",
            "- Lower transition bandwidth: 0.50 Hz (-6 dB cutoff frequency: 59.10 Hz)\n",
            "- Upper passband edge: 60.65 Hz\n",
            "- Upper transition bandwidth: 0.50 Hz (-6 dB cutoff frequency: 60.90 Hz)\n",
            "- Filter length: 1691 samples (6.605 sec)\n",
            "\n",
            "1 matching events found\n",
            "No baseline correction applied\n",
            "Not setting metadata\n",
            "0 projection items activated\n",
            "Loading data for 1 events and 15360 original time points ...\n",
            "0 bad epochs dropped\n",
            "Not setting metadata\n",
            "Applying baseline correction (mode: logratio)\n",
            "The file being converted is chb15_62.edf\n",
            "Extracting EDF parameters from /content/drive/My Drive/Research/data/EEG/chb15/chb15_62.edf...\n",
            "EDF file detected\n",
            "Setting channel info structure...\n",
            "Creating raw.info structure...\n",
            "Reading 0 ... 921599  =      0.000 ...  3599.996 secs...\n"
          ],
          "name": "stdout"
        },
        {
          "output_type": "stream",
          "text": [
            "<ipython-input-11-330b93c843df>:12: RuntimeWarning: Channel names are not unique, found duplicates for: {'-', 'T8-P8'}. Applying running numbers for duplicates.\n",
            "  raw = mne.io.read_raw_edf(file_location, preload=True)\n",
            "<ipython-input-11-330b93c843df>:12: RuntimeWarning: Scaling factor is not defined in following channels:\n",
            "--0, --1, --2, --3, --4, --5\n",
            "  raw = mne.io.read_raw_edf(file_location, preload=True)\n"
          ],
          "name": "stderr"
        },
        {
          "output_type": "stream",
          "text": [
            "Setting up band-stop filter from 59 - 61 Hz\n",
            "\n",
            "FIR filter parameters\n",
            "---------------------\n",
            "Designing a one-pass, zero-phase, non-causal bandstop filter:\n",
            "- Windowed time-domain design (firwin) method\n",
            "- Hamming window with 0.0194 passband ripple and 53 dB stopband attenuation\n",
            "- Lower passband edge: 59.35\n",
            "- Lower transition bandwidth: 0.50 Hz (-6 dB cutoff frequency: 59.10 Hz)\n",
            "- Upper passband edge: 60.65 Hz\n",
            "- Upper transition bandwidth: 0.50 Hz (-6 dB cutoff frequency: 60.90 Hz)\n",
            "- Filter length: 1691 samples (6.605 sec)\n",
            "\n",
            "1 matching events found\n",
            "No baseline correction applied\n",
            "Not setting metadata\n",
            "0 projection items activated\n",
            "Loading data for 1 events and 15360 original time points ...\n",
            "0 bad epochs dropped\n",
            "Not setting metadata\n",
            "Applying baseline correction (mode: logratio)\n"
          ],
          "name": "stdout"
        }
      ]
    },
    {
      "cell_type": "code",
      "metadata": {
        "id": "EpAkvHj4w_GT",
        "colab_type": "code",
        "colab": {}
      },
      "source": [
        "# Creates the temp arrays we will be needing \n",
        "seizure_temp_train = []\n",
        "seizure_temp_test = []\n",
        "\n",
        "# Loops throw each epochs in the seizure_train_data \n",
        "for epochs in seizure_train_data: \n",
        "    for epoch in epochs: \n",
        "        # For each eopoch saves the single epochs into the seizure_temp_train\n",
        "        seizure_temp_train.append(epoch)\n",
        "seizure_np_train = np.stack(seizure_temp_train, axis=0) # Concats the seizure_temp_train\n",
        "# to get one big np array which stores the seizure train data\n",
        "\n",
        "# Does same as above but this time for seizure test data \n",
        "for epochs in seizure_test_data: \n",
        "    for epoch in epochs: \n",
        "        seizure_temp_test.append(epoch)\n",
        "seizure_np_test = np.stack(seizure_temp_test, axis=0)"
      ],
      "execution_count": null,
      "outputs": []
    },
    {
      "cell_type": "code",
      "metadata": {
        "id": "wSxssXko-hF-",
        "colab_type": "code",
        "colab": {
          "base_uri": "https://localhost:8080/",
          "height": 33
        },
        "outputId": "904b4fa3-5e94-4a4f-f54b-9f815dbd204a"
      },
      "source": [
        "# Making sure the shape is what we expect \n",
        "seizure_np_train.shape \n",
        "seizure_np_test.shape"
      ],
      "execution_count": null,
      "outputs": [
        {
          "output_type": "execute_result",
          "data": {
            "text/plain": [
              "(42, 3, 230, 230)"
            ]
          },
          "metadata": {
            "tags": []
          },
          "execution_count": 19
        }
      ]
    },
    {
      "cell_type": "code",
      "metadata": {
        "id": "U6xXBaS6AE-l",
        "colab_type": "code",
        "colab": {}
      },
      "source": [
        "# Writting the seizure data into csv files \n",
        "output_location = \"/content/drive/My Drive/Research/\" # Place output folder here \n",
        "\n",
        "# Writes the seizure train data to csv remeber we need to reshape the data as \n",
        "# csv files can only store 2D data so we need to flatten our data that is what \n",
        "# that is why we have .reshape(-1, 3 * 230 * 230)\n",
        "np.savetxt(output_location + 'seizure_train_data.csv', seizure_np_train.reshape(-1, 3 * 230 * 230), delimiter=',')\n",
        "\n",
        "# Does the same as above for seizure test data\n",
        "np.savetxt(output_location + 'seizure_test_data.csv', seizure_np_test.reshape(-1, 3 * 230 * 230), delimiter=',')"
      ],
      "execution_count": null,
      "outputs": []
    },
    {
      "cell_type": "markdown",
      "metadata": {
        "id": "xo_5WP3lb1ZX",
        "colab_type": "text"
      },
      "source": [
        "## Feature extraction for non-seziure (so basically same as above but for non-seizures)"
      ]
    },
    {
      "cell_type": "code",
      "metadata": {
        "colab_type": "code",
        "id": "XEmBVs2TcCer",
        "colab": {
          "base_uri": "https://localhost:8080/",
          "height": 1000
        },
        "outputId": "f0865a33-1d44-4147-f6a5-4e1a46350b83"
      },
      "source": [
        "# Temporary the fetaure extracted images  \n",
        "non_seizure_train_data = []\n",
        "non_seizure_test_data = [] \n",
        "# Patient 15 onwards will be used for testing the other patients will be ued for training \n",
        "\n",
        "error_files = [] # The names of the files the caused errors will be written here \n",
        "\n",
        "# Gets all the patient dirs in the EEG dataset \n",
        "dirs = [dir for dir in os.listdir(EEG_data_file_path) if os.path.isdir(os.path.join(EEG_data_file_path,dir))]\n",
        "for directory in dirs: # Loops over all the directories\n",
        "    for filename in os.listdir(EEG_data_file_path + directory): # Loops over each file in directory\n",
        "        if (filename.endswith(\".edf\")): # Sees if file is a edf (i.e does it contain eeg data)\n",
        "            if filename not in seizure_files: # Sees if file does not contain seizures\n",
        "                if int(filename[3:5]) >= 15: # Checks if patient number is 15 or greater \n",
        "                    try: \n",
        "                        print(\"The file being converted is\", f[0])\n",
        "                        # Note: we are running are function throw the entire fiel this time not just between specific time segments \n",
        "                        power = get_images_from_file(EEG_data_file_path + directory + \"/\" + filename, common_channels, entire_file=True)\n",
        "                        non_seizure_test_data.append(power) # Append value to seizure \n",
        "                    except Exception as e:\n",
        "                        print(e)  \n",
        "                        error_files.append(f[0]) # Append filename that causes error\n",
        "                else: \n",
        "                    try: \n",
        "                        print(\"The file being converted is\", f[0])\n",
        "                        # Note: we are running are function throw the entire fiel this time not just between specific time segments \n",
        "                        power = get_images_from_file(EEG_data_file_path + directory + \"/\" + filename, common_channels, entire_file=True) \n",
        "                        non_seizure_train_data.append(power) # Append value to seizure \n",
        "                    except Exception as e:\n",
        "                        print(e)  \n",
        "                        error_files.append(f[0]) # Append filename that causes error\n",
        "            break  # The break is here as we only want one non seizure file from each patient"
      ],
      "execution_count": null,
      "outputs": [
        {
          "output_type": "stream",
          "text": [
            "The file being converted is chb24_21.edf\n",
            "Extracting EDF parameters from /content/drive/My Drive/Research/data/EEG/chb01/chb01_01.edf...\n",
            "EDF file detected\n",
            "Setting channel info structure...\n",
            "Creating raw.info structure...\n",
            "Reading 0 ... 921599  =      0.000 ...  3599.996 secs...\n"
          ],
          "name": "stdout"
        },
        {
          "output_type": "stream",
          "text": [
            "<ipython-input-4-330b93c843df>:12: RuntimeWarning: Channel names are not unique, found duplicates for: {'T8-P8'}. Applying running numbers for duplicates.\n",
            "  raw = mne.io.read_raw_edf(file_location, preload=True)\n"
          ],
          "name": "stderr"
        },
        {
          "output_type": "stream",
          "text": [
            "Setting up band-stop filter from 59 - 61 Hz\n",
            "\n",
            "FIR filter parameters\n",
            "---------------------\n",
            "Designing a one-pass, zero-phase, non-causal bandstop filter:\n",
            "- Windowed time-domain design (firwin) method\n",
            "- Hamming window with 0.0194 passband ripple and 53 dB stopband attenuation\n",
            "- Lower passband edge: 59.35\n",
            "- Lower transition bandwidth: 0.50 Hz (-6 dB cutoff frequency: 59.10 Hz)\n",
            "- Upper passband edge: 60.65 Hz\n",
            "- Upper transition bandwidth: 0.50 Hz (-6 dB cutoff frequency: 60.90 Hz)\n",
            "- Filter length: 1691 samples (6.605 sec)\n",
            "\n",
            "60 matching events found\n",
            "No baseline correction applied\n",
            "Not setting metadata\n",
            "0 projection items activated\n",
            "Loading data for 60 events and 15360 original time points ...\n",
            "0 bad epochs dropped\n",
            "Not setting metadata\n",
            "Applying baseline correction (mode: logratio)\n",
            "The file being converted is chb24_21.edf\n",
            "Extracting EDF parameters from /content/drive/My Drive/Research/data/EEG/chb02/chb02_01.edf...\n",
            "EDF file detected\n",
            "Setting channel info structure...\n",
            "Creating raw.info structure...\n",
            "Reading 0 ... 921599  =      0.000 ...  3599.996 secs...\n"
          ],
          "name": "stdout"
        },
        {
          "output_type": "stream",
          "text": [
            "<ipython-input-4-330b93c843df>:12: RuntimeWarning: Channel names are not unique, found duplicates for: {'T8-P8'}. Applying running numbers for duplicates.\n",
            "  raw = mne.io.read_raw_edf(file_location, preload=True)\n"
          ],
          "name": "stderr"
        },
        {
          "output_type": "stream",
          "text": [
            "Setting up band-stop filter from 59 - 61 Hz\n",
            "\n",
            "FIR filter parameters\n",
            "---------------------\n",
            "Designing a one-pass, zero-phase, non-causal bandstop filter:\n",
            "- Windowed time-domain design (firwin) method\n",
            "- Hamming window with 0.0194 passband ripple and 53 dB stopband attenuation\n",
            "- Lower passband edge: 59.35\n",
            "- Lower transition bandwidth: 0.50 Hz (-6 dB cutoff frequency: 59.10 Hz)\n",
            "- Upper passband edge: 60.65 Hz\n",
            "- Upper transition bandwidth: 0.50 Hz (-6 dB cutoff frequency: 60.90 Hz)\n",
            "- Filter length: 1691 samples (6.605 sec)\n",
            "\n",
            "60 matching events found\n",
            "No baseline correction applied\n",
            "Not setting metadata\n",
            "0 projection items activated\n",
            "Loading data for 60 events and 15360 original time points ...\n",
            "0 bad epochs dropped\n",
            "Not setting metadata\n",
            "Applying baseline correction (mode: logratio)\n",
            "The file being converted is chb24_21.edf\n",
            "Extracting EDF parameters from /content/drive/My Drive/Research/data/EEG/chb03/chb03_01.edf...\n",
            "EDF file detected\n",
            "Setting channel info structure...\n",
            "Creating raw.info structure...\n",
            "Reading 0 ... 921599  =      0.000 ...  3599.996 secs...\n"
          ],
          "name": "stdout"
        },
        {
          "output_type": "stream",
          "text": [
            "<ipython-input-4-330b93c843df>:12: RuntimeWarning: Channel names are not unique, found duplicates for: {'T8-P8'}. Applying running numbers for duplicates.\n",
            "  raw = mne.io.read_raw_edf(file_location, preload=True)\n"
          ],
          "name": "stderr"
        },
        {
          "output_type": "stream",
          "text": [
            "Setting up band-stop filter from 59 - 61 Hz\n",
            "\n",
            "FIR filter parameters\n",
            "---------------------\n",
            "Designing a one-pass, zero-phase, non-causal bandstop filter:\n",
            "- Windowed time-domain design (firwin) method\n",
            "- Hamming window with 0.0194 passband ripple and 53 dB stopband attenuation\n",
            "- Lower passband edge: 59.35\n",
            "- Lower transition bandwidth: 0.50 Hz (-6 dB cutoff frequency: 59.10 Hz)\n",
            "- Upper passband edge: 60.65 Hz\n",
            "- Upper transition bandwidth: 0.50 Hz (-6 dB cutoff frequency: 60.90 Hz)\n",
            "- Filter length: 1691 samples (6.605 sec)\n",
            "\n",
            "60 matching events found\n",
            "No baseline correction applied\n",
            "Not setting metadata\n",
            "0 projection items activated\n",
            "Loading data for 60 events and 15360 original time points ...\n",
            "0 bad epochs dropped\n",
            "Not setting metadata\n",
            "Applying baseline correction (mode: logratio)\n",
            "The file being converted is chb24_21.edf\n",
            "Extracting EDF parameters from /content/drive/My Drive/Research/data/EEG/chb04/chb04_05.edf...\n",
            "EDF file detected\n",
            "Setting channel info structure...\n",
            "Creating raw.info structure...\n",
            "Reading 0 ... 2441215  =      0.000 ...  9535.996 secs...\n"
          ],
          "name": "stdout"
        },
        {
          "output_type": "stream",
          "text": [
            "<ipython-input-4-330b93c843df>:12: RuntimeWarning: Channel names are not unique, found duplicates for: {'T8-P8'}. Applying running numbers for duplicates.\n",
            "  raw = mne.io.read_raw_edf(file_location, preload=True)\n"
          ],
          "name": "stderr"
        },
        {
          "output_type": "stream",
          "text": [
            "Setting up band-stop filter from 59 - 61 Hz\n",
            "\n",
            "FIR filter parameters\n",
            "---------------------\n",
            "Designing a one-pass, zero-phase, non-causal bandstop filter:\n",
            "- Windowed time-domain design (firwin) method\n",
            "- Hamming window with 0.0194 passband ripple and 53 dB stopband attenuation\n",
            "- Lower passband edge: 59.35\n",
            "- Lower transition bandwidth: 0.50 Hz (-6 dB cutoff frequency: 59.10 Hz)\n",
            "- Upper passband edge: 60.65 Hz\n",
            "- Upper transition bandwidth: 0.50 Hz (-6 dB cutoff frequency: 60.90 Hz)\n",
            "- Filter length: 1691 samples (6.605 sec)\n",
            "\n",
            "158 matching events found\n",
            "No baseline correction applied\n",
            "Not setting metadata\n",
            "0 projection items activated\n",
            "Loading data for 158 events and 15360 original time points ...\n",
            "0 bad epochs dropped\n",
            "Not setting metadata\n",
            "Applying baseline correction (mode: logratio)\n",
            "The file being converted is chb24_21.edf\n",
            "Extracting EDF parameters from /content/drive/My Drive/Research/data/EEG/chb05/chb05_01.edf...\n",
            "EDF file detected\n",
            "Setting channel info structure...\n",
            "Creating raw.info structure...\n",
            "Reading 0 ... 924159  =      0.000 ...  3609.996 secs...\n"
          ],
          "name": "stdout"
        },
        {
          "output_type": "stream",
          "text": [
            "<ipython-input-4-330b93c843df>:12: RuntimeWarning: Channel names are not unique, found duplicates for: {'T8-P8'}. Applying running numbers for duplicates.\n",
            "  raw = mne.io.read_raw_edf(file_location, preload=True)\n"
          ],
          "name": "stderr"
        },
        {
          "output_type": "stream",
          "text": [
            "Setting up band-stop filter from 59 - 61 Hz\n",
            "\n",
            "FIR filter parameters\n",
            "---------------------\n",
            "Designing a one-pass, zero-phase, non-causal bandstop filter:\n",
            "- Windowed time-domain design (firwin) method\n",
            "- Hamming window with 0.0194 passband ripple and 53 dB stopband attenuation\n",
            "- Lower passband edge: 59.35\n",
            "- Lower transition bandwidth: 0.50 Hz (-6 dB cutoff frequency: 59.10 Hz)\n",
            "- Upper passband edge: 60.65 Hz\n",
            "- Upper transition bandwidth: 0.50 Hz (-6 dB cutoff frequency: 60.90 Hz)\n",
            "- Filter length: 1691 samples (6.605 sec)\n",
            "\n",
            "60 matching events found\n",
            "No baseline correction applied\n",
            "Not setting metadata\n",
            "0 projection items activated\n",
            "Loading data for 60 events and 15360 original time points ...\n",
            "0 bad epochs dropped\n",
            "Not setting metadata\n",
            "Applying baseline correction (mode: logratio)\n",
            "The file being converted is chb24_21.edf\n",
            "Extracting EDF parameters from /content/drive/My Drive/Research/data/EEG/chb06/chb06_01.edf...\n",
            "EDF file detected\n",
            "Setting channel info structure...\n",
            "Creating raw.info structure...\n",
            "Reading 0 ... 3693311  =      0.000 ... 14426.996 secs...\n"
          ],
          "name": "stdout"
        },
        {
          "output_type": "stream",
          "text": [
            "<ipython-input-4-330b93c843df>:12: RuntimeWarning: Channel names are not unique, found duplicates for: {'T8-P8'}. Applying running numbers for duplicates.\n",
            "  raw = mne.io.read_raw_edf(file_location, preload=True)\n"
          ],
          "name": "stderr"
        },
        {
          "output_type": "stream",
          "text": [
            "Setting up band-stop filter from 59 - 61 Hz\n",
            "\n",
            "FIR filter parameters\n",
            "---------------------\n",
            "Designing a one-pass, zero-phase, non-causal bandstop filter:\n",
            "- Windowed time-domain design (firwin) method\n",
            "- Hamming window with 0.0194 passband ripple and 53 dB stopband attenuation\n",
            "- Lower passband edge: 59.35\n",
            "- Lower transition bandwidth: 0.50 Hz (-6 dB cutoff frequency: 59.10 Hz)\n",
            "- Upper passband edge: 60.65 Hz\n",
            "- Upper transition bandwidth: 0.50 Hz (-6 dB cutoff frequency: 60.90 Hz)\n",
            "- Filter length: 1691 samples (6.605 sec)\n",
            "\n",
            "240 matching events found\n",
            "No baseline correction applied\n",
            "Not setting metadata\n",
            "0 projection items activated\n",
            "Loading data for 240 events and 15360 original time points ...\n",
            "0 bad epochs dropped\n",
            "Not setting metadata\n",
            "Applying baseline correction (mode: logratio)\n",
            "The file being converted is chb24_21.edf\n",
            "Extracting EDF parameters from /content/drive/My Drive/Research/data/EEG/chb07/chb07_06.edf...\n",
            "EDF file detected\n",
            "Setting channel info structure...\n",
            "Creating raw.info structure...\n",
            "Reading 0 ... 1259519  =      0.000 ...  4919.996 secs...\n"
          ],
          "name": "stdout"
        },
        {
          "output_type": "stream",
          "text": [
            "<ipython-input-4-330b93c843df>:12: RuntimeWarning: Channel names are not unique, found duplicates for: {'T8-P8'}. Applying running numbers for duplicates.\n",
            "  raw = mne.io.read_raw_edf(file_location, preload=True)\n"
          ],
          "name": "stderr"
        },
        {
          "output_type": "stream",
          "text": [
            "Setting up band-stop filter from 59 - 61 Hz\n",
            "\n",
            "FIR filter parameters\n",
            "---------------------\n",
            "Designing a one-pass, zero-phase, non-causal bandstop filter:\n",
            "- Windowed time-domain design (firwin) method\n",
            "- Hamming window with 0.0194 passband ripple and 53 dB stopband attenuation\n",
            "- Lower passband edge: 59.35\n",
            "- Lower transition bandwidth: 0.50 Hz (-6 dB cutoff frequency: 59.10 Hz)\n",
            "- Upper passband edge: 60.65 Hz\n",
            "- Upper transition bandwidth: 0.50 Hz (-6 dB cutoff frequency: 60.90 Hz)\n",
            "- Filter length: 1691 samples (6.605 sec)\n",
            "\n",
            "82 matching events found\n",
            "No baseline correction applied\n",
            "Not setting metadata\n",
            "0 projection items activated\n",
            "Loading data for 82 events and 15360 original time points ...\n",
            "0 bad epochs dropped\n",
            "Not setting metadata\n",
            "Applying baseline correction (mode: logratio)\n",
            "The file being converted is chb24_21.edf\n",
            "Extracting EDF parameters from /content/drive/My Drive/Research/data/EEG/chb08/chb08_02.edf...\n",
            "EDF file detected\n",
            "Setting channel info structure...\n",
            "Creating raw.info structure...\n",
            "Reading 0 ... 921599  =      0.000 ...  3599.996 secs...\n"
          ],
          "name": "stdout"
        },
        {
          "output_type": "stream",
          "text": [
            "<ipython-input-4-330b93c843df>:12: RuntimeWarning: Channel names are not unique, found duplicates for: {'T8-P8'}. Applying running numbers for duplicates.\n",
            "  raw = mne.io.read_raw_edf(file_location, preload=True)\n"
          ],
          "name": "stderr"
        },
        {
          "output_type": "stream",
          "text": [
            "Setting up band-stop filter from 59 - 61 Hz\n",
            "\n",
            "FIR filter parameters\n",
            "---------------------\n",
            "Designing a one-pass, zero-phase, non-causal bandstop filter:\n",
            "- Windowed time-domain design (firwin) method\n",
            "- Hamming window with 0.0194 passband ripple and 53 dB stopband attenuation\n",
            "- Lower passband edge: 59.35\n",
            "- Lower transition bandwidth: 0.50 Hz (-6 dB cutoff frequency: 59.10 Hz)\n",
            "- Upper passband edge: 60.65 Hz\n",
            "- Upper transition bandwidth: 0.50 Hz (-6 dB cutoff frequency: 60.90 Hz)\n",
            "- Filter length: 1691 samples (6.605 sec)\n",
            "\n",
            "60 matching events found\n",
            "No baseline correction applied\n",
            "Not setting metadata\n",
            "0 projection items activated\n",
            "Loading data for 60 events and 15360 original time points ...\n",
            "0 bad epochs dropped\n",
            "Not setting metadata\n",
            "Applying baseline correction (mode: logratio)\n",
            "The file being converted is chb24_21.edf\n",
            "Extracting EDF parameters from /content/drive/My Drive/Research/data/EEG/chb09/chb09_01.edf...\n",
            "EDF file detected\n",
            "Setting channel info structure...\n",
            "Creating raw.info structure...\n",
            "Reading 0 ... 2053887  =      0.000 ...  8022.996 secs...\n"
          ],
          "name": "stdout"
        },
        {
          "output_type": "stream",
          "text": [
            "<ipython-input-4-330b93c843df>:12: RuntimeWarning: Channel names are not unique, found duplicates for: {'T8-P8'}. Applying running numbers for duplicates.\n",
            "  raw = mne.io.read_raw_edf(file_location, preload=True)\n"
          ],
          "name": "stderr"
        },
        {
          "output_type": "stream",
          "text": [
            "Setting up band-stop filter from 59 - 61 Hz\n",
            "\n",
            "FIR filter parameters\n",
            "---------------------\n",
            "Designing a one-pass, zero-phase, non-causal bandstop filter:\n",
            "- Windowed time-domain design (firwin) method\n",
            "- Hamming window with 0.0194 passband ripple and 53 dB stopband attenuation\n",
            "- Lower passband edge: 59.35\n",
            "- Lower transition bandwidth: 0.50 Hz (-6 dB cutoff frequency: 59.10 Hz)\n",
            "- Upper passband edge: 60.65 Hz\n",
            "- Upper transition bandwidth: 0.50 Hz (-6 dB cutoff frequency: 60.90 Hz)\n",
            "- Filter length: 1691 samples (6.605 sec)\n",
            "\n",
            "133 matching events found\n",
            "No baseline correction applied\n",
            "Not setting metadata\n",
            "0 projection items activated\n",
            "Loading data for 133 events and 15360 original time points ...\n",
            "0 bad epochs dropped\n",
            "Not setting metadata\n",
            "Applying baseline correction (mode: logratio)\n",
            "The file being converted is chb24_21.edf\n",
            "Extracting EDF parameters from /content/drive/My Drive/Research/data/EEG/chb10/chb10_02.edf...\n",
            "EDF file detected\n",
            "Setting channel info structure...\n",
            "Creating raw.info structure...\n",
            "Reading 0 ... 1843199  =      0.000 ...  7199.996 secs...\n"
          ],
          "name": "stdout"
        },
        {
          "output_type": "stream",
          "text": [
            "<ipython-input-4-330b93c843df>:12: RuntimeWarning: Channel names are not unique, found duplicates for: {'T8-P8'}. Applying running numbers for duplicates.\n",
            "  raw = mne.io.read_raw_edf(file_location, preload=True)\n"
          ],
          "name": "stderr"
        },
        {
          "output_type": "stream",
          "text": [
            "Setting up band-stop filter from 59 - 61 Hz\n",
            "\n",
            "FIR filter parameters\n",
            "---------------------\n",
            "Designing a one-pass, zero-phase, non-causal bandstop filter:\n",
            "- Windowed time-domain design (firwin) method\n",
            "- Hamming window with 0.0194 passband ripple and 53 dB stopband attenuation\n",
            "- Lower passband edge: 59.35\n",
            "- Lower transition bandwidth: 0.50 Hz (-6 dB cutoff frequency: 59.10 Hz)\n",
            "- Upper passband edge: 60.65 Hz\n",
            "- Upper transition bandwidth: 0.50 Hz (-6 dB cutoff frequency: 60.90 Hz)\n",
            "- Filter length: 1691 samples (6.605 sec)\n",
            "\n",
            "120 matching events found\n",
            "No baseline correction applied\n",
            "Not setting metadata\n",
            "0 projection items activated\n",
            "Loading data for 120 events and 15360 original time points ...\n",
            "0 bad epochs dropped\n",
            "Not setting metadata\n",
            "Applying baseline correction (mode: logratio)\n",
            "The file being converted is chb24_21.edf\n",
            "Extracting EDF parameters from /content/drive/My Drive/Research/data/EEG/chb11/chb11_01.edf...\n",
            "EDF file detected\n",
            "Setting channel info structure...\n",
            "Creating raw.info structure...\n",
            "Reading 0 ... 921087  =      0.000 ...  3597.996 secs...\n"
          ],
          "name": "stdout"
        },
        {
          "output_type": "stream",
          "text": [
            "<ipython-input-4-330b93c843df>:12: RuntimeWarning: Channel names are not unique, found duplicates for: {'T8-P8'}. Applying running numbers for duplicates.\n",
            "  raw = mne.io.read_raw_edf(file_location, preload=True)\n"
          ],
          "name": "stderr"
        },
        {
          "output_type": "stream",
          "text": [
            "Setting up band-stop filter from 59 - 61 Hz\n",
            "\n",
            "FIR filter parameters\n",
            "---------------------\n",
            "Designing a one-pass, zero-phase, non-causal bandstop filter:\n",
            "- Windowed time-domain design (firwin) method\n",
            "- Hamming window with 0.0194 passband ripple and 53 dB stopband attenuation\n",
            "- Lower passband edge: 59.35\n",
            "- Lower transition bandwidth: 0.50 Hz (-6 dB cutoff frequency: 59.10 Hz)\n",
            "- Upper passband edge: 60.65 Hz\n",
            "- Upper transition bandwidth: 0.50 Hz (-6 dB cutoff frequency: 60.90 Hz)\n",
            "- Filter length: 1691 samples (6.605 sec)\n",
            "\n",
            "59 matching events found\n",
            "No baseline correction applied\n",
            "Not setting metadata\n",
            "0 projection items activated\n",
            "Loading data for 59 events and 15360 original time points ...\n",
            "0 bad epochs dropped\n",
            "Not setting metadata\n",
            "Applying baseline correction (mode: logratio)\n",
            "The file being converted is chb24_21.edf\n",
            "Extracting EDF parameters from /content/drive/My Drive/Research/data/EEG/chb12/chb12_06.edf...\n",
            "EDF file detected\n",
            "Setting channel info structure...\n",
            "Creating raw.info structure...\n",
            "Reading 0 ... 923135  =      0.000 ...  3605.996 secs...\n"
          ],
          "name": "stdout"
        },
        {
          "output_type": "stream",
          "text": [
            "<ipython-input-4-330b93c843df>:12: RuntimeWarning: Channel names are not unique, found duplicates for: {'T8-P8', '-'}. Applying running numbers for duplicates.\n",
            "  raw = mne.io.read_raw_edf(file_location, preload=True)\n",
            "<ipython-input-4-330b93c843df>:12: RuntimeWarning: Scaling factor is not defined in following channels:\n",
            "--0, --1, --2, --3, --4\n",
            "  raw = mne.io.read_raw_edf(file_location, preload=True)\n"
          ],
          "name": "stderr"
        },
        {
          "output_type": "stream",
          "text": [
            "Setting up band-stop filter from 59 - 61 Hz\n",
            "\n",
            "FIR filter parameters\n",
            "---------------------\n",
            "Designing a one-pass, zero-phase, non-causal bandstop filter:\n",
            "- Windowed time-domain design (firwin) method\n",
            "- Hamming window with 0.0194 passband ripple and 53 dB stopband attenuation\n",
            "- Lower passband edge: 59.35\n",
            "- Lower transition bandwidth: 0.50 Hz (-6 dB cutoff frequency: 59.10 Hz)\n",
            "- Upper passband edge: 60.65 Hz\n",
            "- Upper transition bandwidth: 0.50 Hz (-6 dB cutoff frequency: 60.90 Hz)\n",
            "- Filter length: 1691 samples (6.605 sec)\n",
            "\n",
            "60 matching events found\n",
            "No baseline correction applied\n",
            "Not setting metadata\n",
            "0 projection items activated\n",
            "Loading data for 60 events and 15360 original time points ...\n",
            "0 bad epochs dropped\n",
            "Not setting metadata\n",
            "Applying baseline correction (mode: logratio)\n",
            "The file being converted is chb24_21.edf\n",
            "Extracting EDF parameters from /content/drive/My Drive/Research/data/EEG/chb13/chb13_04.edf...\n",
            "EDF file detected\n",
            "Setting channel info structure...\n",
            "Creating raw.info structure...\n",
            "Reading 0 ... 921599  =      0.000 ...  3599.996 secs...\n"
          ],
          "name": "stdout"
        },
        {
          "output_type": "stream",
          "text": [
            "<ipython-input-4-330b93c843df>:12: RuntimeWarning: Channel names are not unique, found duplicates for: {'-'}. Applying running numbers for duplicates.\n",
            "  raw = mne.io.read_raw_edf(file_location, preload=True)\n",
            "<ipython-input-4-330b93c843df>:12: RuntimeWarning: Scaling factor is not defined in following channels:\n",
            "--0, --1, --2, --3, --4\n",
            "  raw = mne.io.read_raw_edf(file_location, preload=True)\n"
          ],
          "name": "stderr"
        },
        {
          "output_type": "stream",
          "text": [
            "Setting up band-stop filter from 59 - 61 Hz\n",
            "\n",
            "FIR filter parameters\n",
            "---------------------\n",
            "Designing a one-pass, zero-phase, non-causal bandstop filter:\n",
            "- Windowed time-domain design (firwin) method\n",
            "- Hamming window with 0.0194 passband ripple and 53 dB stopband attenuation\n",
            "- Lower passband edge: 59.35\n",
            "- Lower transition bandwidth: 0.50 Hz (-6 dB cutoff frequency: 59.10 Hz)\n",
            "- Upper passband edge: 60.65 Hz\n",
            "- Upper transition bandwidth: 0.50 Hz (-6 dB cutoff frequency: 60.90 Hz)\n",
            "- Filter length: 1691 samples (6.605 sec)\n",
            "\n",
            "60 matching events found\n",
            "No baseline correction applied\n",
            "Not setting metadata\n",
            "0 projection items activated\n",
            "Loading data for 60 events and 15360 original time points ...\n",
            "0 bad epochs dropped\n",
            "Missing channels from ch_names required by include:\n",
            "['T8-P8-0']\n",
            "The file being converted is chb24_21.edf\n",
            "Extracting EDF parameters from /content/drive/My Drive/Research/data/EEG/chb14/chb14_01.edf...\n",
            "EDF file detected\n",
            "Setting channel info structure...\n",
            "Creating raw.info structure...\n",
            "Reading 0 ... 921599  =      0.000 ...  3599.996 secs...\n"
          ],
          "name": "stdout"
        },
        {
          "output_type": "stream",
          "text": [
            "<ipython-input-4-330b93c843df>:12: RuntimeWarning: Channel names are not unique, found duplicates for: {'T8-P8', '-'}. Applying running numbers for duplicates.\n",
            "  raw = mne.io.read_raw_edf(file_location, preload=True)\n",
            "<ipython-input-4-330b93c843df>:12: RuntimeWarning: Scaling factor is not defined in following channels:\n",
            "--0, --1, --2, --3, --4\n",
            "  raw = mne.io.read_raw_edf(file_location, preload=True)\n"
          ],
          "name": "stderr"
        },
        {
          "output_type": "stream",
          "text": [
            "Setting up band-stop filter from 59 - 61 Hz\n",
            "\n",
            "FIR filter parameters\n",
            "---------------------\n",
            "Designing a one-pass, zero-phase, non-causal bandstop filter:\n",
            "- Windowed time-domain design (firwin) method\n",
            "- Hamming window with 0.0194 passband ripple and 53 dB stopband attenuation\n",
            "- Lower passband edge: 59.35\n",
            "- Lower transition bandwidth: 0.50 Hz (-6 dB cutoff frequency: 59.10 Hz)\n",
            "- Upper passband edge: 60.65 Hz\n",
            "- Upper transition bandwidth: 0.50 Hz (-6 dB cutoff frequency: 60.90 Hz)\n",
            "- Filter length: 1691 samples (6.605 sec)\n",
            "\n",
            "60 matching events found\n",
            "No baseline correction applied\n",
            "Not setting metadata\n",
            "0 projection items activated\n",
            "Loading data for 60 events and 15360 original time points ...\n",
            "0 bad epochs dropped\n",
            "Not setting metadata\n",
            "Applying baseline correction (mode: logratio)\n",
            "The file being converted is chb24_21.edf\n",
            "Extracting EDF parameters from /content/drive/My Drive/Research/data/EEG/chb16/chb16_01.edf...\n",
            "EDF file detected\n",
            "Setting channel info structure...\n",
            "Creating raw.info structure...\n",
            "Reading 0 ... 921599  =      0.000 ...  3599.996 secs...\n"
          ],
          "name": "stdout"
        },
        {
          "output_type": "stream",
          "text": [
            "<ipython-input-4-330b93c843df>:12: RuntimeWarning: Channel names are not unique, found duplicates for: {'T8-P8', '-'}. Applying running numbers for duplicates.\n",
            "  raw = mne.io.read_raw_edf(file_location, preload=True)\n",
            "<ipython-input-4-330b93c843df>:12: RuntimeWarning: Scaling factor is not defined in following channels:\n",
            "--0, --1, --2, --3, --4\n",
            "  raw = mne.io.read_raw_edf(file_location, preload=True)\n"
          ],
          "name": "stderr"
        },
        {
          "output_type": "stream",
          "text": [
            "Setting up band-stop filter from 59 - 61 Hz\n",
            "\n",
            "FIR filter parameters\n",
            "---------------------\n",
            "Designing a one-pass, zero-phase, non-causal bandstop filter:\n",
            "- Windowed time-domain design (firwin) method\n",
            "- Hamming window with 0.0194 passband ripple and 53 dB stopband attenuation\n",
            "- Lower passband edge: 59.35\n",
            "- Lower transition bandwidth: 0.50 Hz (-6 dB cutoff frequency: 59.10 Hz)\n",
            "- Upper passband edge: 60.65 Hz\n",
            "- Upper transition bandwidth: 0.50 Hz (-6 dB cutoff frequency: 60.90 Hz)\n",
            "- Filter length: 1691 samples (6.605 sec)\n",
            "\n",
            "60 matching events found\n",
            "No baseline correction applied\n",
            "Not setting metadata\n",
            "0 projection items activated\n",
            "Loading data for 60 events and 15360 original time points ...\n",
            "0 bad epochs dropped\n",
            "Not setting metadata\n",
            "Applying baseline correction (mode: logratio)\n",
            "The file being converted is chb24_21.edf\n",
            "Extracting EDF parameters from /content/drive/My Drive/Research/data/EEG/chb17/chb17a_03.edf...\n",
            "EDF file detected\n",
            "Setting channel info structure...\n",
            "Creating raw.info structure...\n",
            "Reading 0 ... 921599  =      0.000 ...  3599.996 secs...\n"
          ],
          "name": "stdout"
        },
        {
          "output_type": "stream",
          "text": [
            "<ipython-input-4-330b93c843df>:12: RuntimeWarning: Channel names are not unique, found duplicates for: {'T8-P8', '-'}. Applying running numbers for duplicates.\n",
            "  raw = mne.io.read_raw_edf(file_location, preload=True)\n",
            "<ipython-input-4-330b93c843df>:12: RuntimeWarning: Scaling factor is not defined in following channels:\n",
            "--0, --1, --2, --3, --4\n",
            "  raw = mne.io.read_raw_edf(file_location, preload=True)\n"
          ],
          "name": "stderr"
        },
        {
          "output_type": "stream",
          "text": [
            "Setting up band-stop filter from 59 - 61 Hz\n",
            "\n",
            "FIR filter parameters\n",
            "---------------------\n",
            "Designing a one-pass, zero-phase, non-causal bandstop filter:\n",
            "- Windowed time-domain design (firwin) method\n",
            "- Hamming window with 0.0194 passband ripple and 53 dB stopband attenuation\n",
            "- Lower passband edge: 59.35\n",
            "- Lower transition bandwidth: 0.50 Hz (-6 dB cutoff frequency: 59.10 Hz)\n",
            "- Upper passband edge: 60.65 Hz\n",
            "- Upper transition bandwidth: 0.50 Hz (-6 dB cutoff frequency: 60.90 Hz)\n",
            "- Filter length: 1691 samples (6.605 sec)\n",
            "\n",
            "60 matching events found\n",
            "No baseline correction applied\n",
            "Not setting metadata\n",
            "0 projection items activated\n",
            "Loading data for 60 events and 15360 original time points ...\n",
            "0 bad epochs dropped\n",
            "Not setting metadata\n",
            "Applying baseline correction (mode: logratio)\n",
            "The file being converted is chb24_21.edf\n",
            "Extracting EDF parameters from /content/drive/My Drive/Research/data/EEG/chb18/chb18_01.edf...\n",
            "EDF file detected\n",
            "Setting channel info structure...\n",
            "Creating raw.info structure...\n",
            "Reading 0 ... 924415  =      0.000 ...  3610.996 secs...\n"
          ],
          "name": "stdout"
        },
        {
          "output_type": "stream",
          "text": [
            "<ipython-input-4-330b93c843df>:12: RuntimeWarning: Channel names are not unique, found duplicates for: {'-'}. Applying running numbers for duplicates.\n",
            "  raw = mne.io.read_raw_edf(file_location, preload=True)\n",
            "<ipython-input-4-330b93c843df>:12: RuntimeWarning: Scaling factor is not defined in following channels:\n",
            "--0, --1, --2, --3\n",
            "  raw = mne.io.read_raw_edf(file_location, preload=True)\n"
          ],
          "name": "stderr"
        },
        {
          "output_type": "stream",
          "text": [
            "Setting up band-stop filter from 59 - 61 Hz\n",
            "\n",
            "FIR filter parameters\n",
            "---------------------\n",
            "Designing a one-pass, zero-phase, non-causal bandstop filter:\n",
            "- Windowed time-domain design (firwin) method\n",
            "- Hamming window with 0.0194 passband ripple and 53 dB stopband attenuation\n",
            "- Lower passband edge: 59.35\n",
            "- Lower transition bandwidth: 0.50 Hz (-6 dB cutoff frequency: 59.10 Hz)\n",
            "- Upper passband edge: 60.65 Hz\n",
            "- Upper transition bandwidth: 0.50 Hz (-6 dB cutoff frequency: 60.90 Hz)\n",
            "- Filter length: 1691 samples (6.605 sec)\n",
            "\n",
            "60 matching events found\n",
            "No baseline correction applied\n",
            "Not setting metadata\n",
            "0 projection items activated\n",
            "Loading data for 60 events and 15360 original time points ...\n",
            "0 bad epochs dropped\n",
            "Missing channels from ch_names required by include:\n",
            "['T8-P8-0']\n",
            "The file being converted is chb24_21.edf\n",
            "Extracting EDF parameters from /content/drive/My Drive/Research/data/EEG/chb19/chb19_01.edf...\n",
            "EDF file detected\n",
            "Setting channel info structure...\n",
            "Creating raw.info structure...\n",
            "Reading 0 ... 921599  =      0.000 ...  3599.996 secs...\n"
          ],
          "name": "stdout"
        },
        {
          "output_type": "stream",
          "text": [
            "<ipython-input-4-330b93c843df>:12: RuntimeWarning: Channel names are not unique, found duplicates for: {'-'}. Applying running numbers for duplicates.\n",
            "  raw = mne.io.read_raw_edf(file_location, preload=True)\n",
            "<ipython-input-4-330b93c843df>:12: RuntimeWarning: Scaling factor is not defined in following channels:\n",
            "--0, --1, --2, --3\n",
            "  raw = mne.io.read_raw_edf(file_location, preload=True)\n"
          ],
          "name": "stderr"
        },
        {
          "output_type": "stream",
          "text": [
            "Setting up band-stop filter from 59 - 61 Hz\n",
            "\n",
            "FIR filter parameters\n",
            "---------------------\n",
            "Designing a one-pass, zero-phase, non-causal bandstop filter:\n",
            "- Windowed time-domain design (firwin) method\n",
            "- Hamming window with 0.0194 passband ripple and 53 dB stopband attenuation\n",
            "- Lower passband edge: 59.35\n",
            "- Lower transition bandwidth: 0.50 Hz (-6 dB cutoff frequency: 59.10 Hz)\n",
            "- Upper passband edge: 60.65 Hz\n",
            "- Upper transition bandwidth: 0.50 Hz (-6 dB cutoff frequency: 60.90 Hz)\n",
            "- Filter length: 1691 samples (6.605 sec)\n",
            "\n",
            "60 matching events found\n",
            "No baseline correction applied\n",
            "Not setting metadata\n",
            "0 projection items activated\n",
            "Loading data for 60 events and 15360 original time points ...\n",
            "0 bad epochs dropped\n",
            "Missing channels from ch_names required by include:\n",
            "['T8-P8-0']\n",
            "The file being converted is chb24_21.edf\n",
            "Extracting EDF parameters from /content/drive/My Drive/Research/data/EEG/chb20/chb20_02.edf...\n",
            "EDF file detected\n",
            "Setting channel info structure...\n",
            "Creating raw.info structure...\n",
            "Reading 0 ... 921599  =      0.000 ...  3599.996 secs...\n"
          ],
          "name": "stdout"
        },
        {
          "output_type": "stream",
          "text": [
            "<ipython-input-4-330b93c843df>:12: RuntimeWarning: Channel names are not unique, found duplicates for: {'T8-P8', '.'}. Applying running numbers for duplicates.\n",
            "  raw = mne.io.read_raw_edf(file_location, preload=True)\n"
          ],
          "name": "stderr"
        },
        {
          "output_type": "stream",
          "text": [
            "Setting up band-stop filter from 59 - 61 Hz\n",
            "\n",
            "FIR filter parameters\n",
            "---------------------\n",
            "Designing a one-pass, zero-phase, non-causal bandstop filter:\n",
            "- Windowed time-domain design (firwin) method\n",
            "- Hamming window with 0.0194 passband ripple and 53 dB stopband attenuation\n",
            "- Lower passband edge: 59.35\n",
            "- Lower transition bandwidth: 0.50 Hz (-6 dB cutoff frequency: 59.10 Hz)\n",
            "- Upper passband edge: 60.65 Hz\n",
            "- Upper transition bandwidth: 0.50 Hz (-6 dB cutoff frequency: 60.90 Hz)\n",
            "- Filter length: 1691 samples (6.605 sec)\n",
            "\n",
            "60 matching events found\n",
            "No baseline correction applied\n",
            "Not setting metadata\n",
            "0 projection items activated\n",
            "Loading data for 60 events and 15360 original time points ...\n",
            "0 bad epochs dropped\n",
            "Not setting metadata\n",
            "Applying baseline correction (mode: logratio)\n",
            "The file being converted is chb24_21.edf\n",
            "Extracting EDF parameters from /content/drive/My Drive/Research/data/EEG/chb21/chb21_01.edf...\n",
            "EDF file detected\n",
            "Setting channel info structure...\n",
            "Creating raw.info structure...\n",
            "Reading 0 ... 921599  =      0.000 ...  3599.996 secs...\n"
          ],
          "name": "stdout"
        },
        {
          "output_type": "stream",
          "text": [
            "<ipython-input-4-330b93c843df>:12: RuntimeWarning: Channel names are not unique, found duplicates for: {'T8-P8', '-'}. Applying running numbers for duplicates.\n",
            "  raw = mne.io.read_raw_edf(file_location, preload=True)\n",
            "<ipython-input-4-330b93c843df>:12: RuntimeWarning: Scaling factor is not defined in following channels:\n",
            "--0, --1, --2, --3, --4\n",
            "  raw = mne.io.read_raw_edf(file_location, preload=True)\n"
          ],
          "name": "stderr"
        },
        {
          "output_type": "stream",
          "text": [
            "Setting up band-stop filter from 59 - 61 Hz\n",
            "\n",
            "FIR filter parameters\n",
            "---------------------\n",
            "Designing a one-pass, zero-phase, non-causal bandstop filter:\n",
            "- Windowed time-domain design (firwin) method\n",
            "- Hamming window with 0.0194 passband ripple and 53 dB stopband attenuation\n",
            "- Lower passband edge: 59.35\n",
            "- Lower transition bandwidth: 0.50 Hz (-6 dB cutoff frequency: 59.10 Hz)\n",
            "- Upper passband edge: 60.65 Hz\n",
            "- Upper transition bandwidth: 0.50 Hz (-6 dB cutoff frequency: 60.90 Hz)\n",
            "- Filter length: 1691 samples (6.605 sec)\n",
            "\n",
            "60 matching events found\n",
            "No baseline correction applied\n",
            "Not setting metadata\n",
            "0 projection items activated\n",
            "Loading data for 60 events and 15360 original time points ...\n",
            "0 bad epochs dropped\n",
            "Not setting metadata\n",
            "Applying baseline correction (mode: logratio)\n",
            "The file being converted is chb24_21.edf\n",
            "Extracting EDF parameters from /content/drive/My Drive/Research/data/EEG/chb22/chb22_03.edf...\n",
            "EDF file detected\n",
            "Setting channel info structure...\n",
            "Creating raw.info structure...\n",
            "Reading 0 ... 921599  =      0.000 ...  3599.996 secs...\n"
          ],
          "name": "stdout"
        },
        {
          "output_type": "stream",
          "text": [
            "<ipython-input-4-330b93c843df>:12: RuntimeWarning: Channel names are not unique, found duplicates for: {'T8-P8', '-'}. Applying running numbers for duplicates.\n",
            "  raw = mne.io.read_raw_edf(file_location, preload=True)\n"
          ],
          "name": "stderr"
        },
        {
          "output_type": "stream",
          "text": [
            "Setting up band-stop filter from 59 - 61 Hz\n",
            "\n",
            "FIR filter parameters\n",
            "---------------------\n",
            "Designing a one-pass, zero-phase, non-causal bandstop filter:\n",
            "- Windowed time-domain design (firwin) method\n",
            "- Hamming window with 0.0194 passband ripple and 53 dB stopband attenuation\n",
            "- Lower passband edge: 59.35\n",
            "- Lower transition bandwidth: 0.50 Hz (-6 dB cutoff frequency: 59.10 Hz)\n",
            "- Upper passband edge: 60.65 Hz\n",
            "- Upper transition bandwidth: 0.50 Hz (-6 dB cutoff frequency: 60.90 Hz)\n",
            "- Filter length: 1691 samples (6.605 sec)\n",
            "\n",
            "60 matching events found\n",
            "No baseline correction applied\n",
            "Not setting metadata\n",
            "0 projection items activated\n",
            "Loading data for 60 events and 15360 original time points ...\n",
            "0 bad epochs dropped\n",
            "Not setting metadata\n",
            "Applying baseline correction (mode: logratio)\n",
            "The file being converted is chb24_21.edf\n",
            "Extracting EDF parameters from /content/drive/My Drive/Research/data/EEG/chb23/chb23_07.edf...\n",
            "EDF file detected\n",
            "Setting channel info structure...\n",
            "Creating raw.info structure...\n",
            "Reading 0 ... 655359  =      0.000 ...  2559.996 secs...\n"
          ],
          "name": "stdout"
        },
        {
          "output_type": "stream",
          "text": [
            "<ipython-input-4-330b93c843df>:12: RuntimeWarning: Channel names are not unique, found duplicates for: {'T8-P8'}. Applying running numbers for duplicates.\n",
            "  raw = mne.io.read_raw_edf(file_location, preload=True)\n"
          ],
          "name": "stderr"
        },
        {
          "output_type": "stream",
          "text": [
            "Setting up band-stop filter from 59 - 61 Hz\n",
            "\n",
            "FIR filter parameters\n",
            "---------------------\n",
            "Designing a one-pass, zero-phase, non-causal bandstop filter:\n",
            "- Windowed time-domain design (firwin) method\n",
            "- Hamming window with 0.0194 passband ripple and 53 dB stopband attenuation\n",
            "- Lower passband edge: 59.35\n",
            "- Lower transition bandwidth: 0.50 Hz (-6 dB cutoff frequency: 59.10 Hz)\n",
            "- Upper passband edge: 60.65 Hz\n",
            "- Upper transition bandwidth: 0.50 Hz (-6 dB cutoff frequency: 60.90 Hz)\n",
            "- Filter length: 1691 samples (6.605 sec)\n",
            "\n",
            "42 matching events found\n",
            "No baseline correction applied\n",
            "Not setting metadata\n",
            "0 projection items activated\n",
            "Loading data for 42 events and 15360 original time points ...\n",
            "0 bad epochs dropped\n",
            "Not setting metadata\n",
            "Applying baseline correction (mode: logratio)\n",
            "The file being converted is chb24_21.edf\n",
            "Extracting EDF parameters from /content/drive/My Drive/Research/data/EEG/chb24/chb24_01.edf...\n",
            "EDF file detected\n",
            "Setting channel info structure...\n",
            "Creating raw.info structure...\n",
            "Reading 0 ... 921599  =      0.000 ...  3599.996 secs...\n"
          ],
          "name": "stdout"
        },
        {
          "output_type": "stream",
          "text": [
            "<ipython-input-4-330b93c843df>:12: RuntimeWarning: Channel names are not unique, found duplicates for: {'T8-P8'}. Applying running numbers for duplicates.\n",
            "  raw = mne.io.read_raw_edf(file_location, preload=True)\n"
          ],
          "name": "stderr"
        },
        {
          "output_type": "stream",
          "text": [
            "Setting up band-stop filter from 59 - 61 Hz\n",
            "\n",
            "FIR filter parameters\n",
            "---------------------\n",
            "Designing a one-pass, zero-phase, non-causal bandstop filter:\n",
            "- Windowed time-domain design (firwin) method\n",
            "- Hamming window with 0.0194 passband ripple and 53 dB stopband attenuation\n",
            "- Lower passband edge: 59.35\n",
            "- Lower transition bandwidth: 0.50 Hz (-6 dB cutoff frequency: 59.10 Hz)\n",
            "- Upper passband edge: 60.65 Hz\n",
            "- Upper transition bandwidth: 0.50 Hz (-6 dB cutoff frequency: 60.90 Hz)\n",
            "- Filter length: 1691 samples (6.605 sec)\n",
            "\n",
            "60 matching events found\n",
            "No baseline correction applied\n",
            "Not setting metadata\n",
            "0 projection items activated\n",
            "Loading data for 60 events and 15360 original time points ...\n",
            "0 bad epochs dropped\n",
            "Not setting metadata\n",
            "Applying baseline correction (mode: logratio)\n",
            "The file being converted is chb24_21.edf\n",
            "Extracting EDF parameters from /content/drive/My Drive/Research/data/EEG/chb15/chb15_01.edf...\n",
            "EDF file detected\n",
            "Setting channel info structure...\n",
            "Creating raw.info structure...\n",
            "Reading 0 ... 922111  =      0.000 ...  3601.996 secs...\n"
          ],
          "name": "stdout"
        },
        {
          "output_type": "stream",
          "text": [
            "<ipython-input-4-330b93c843df>:12: RuntimeWarning: Channel names are not unique, found duplicates for: {'-'}. Applying running numbers for duplicates.\n",
            "  raw = mne.io.read_raw_edf(file_location, preload=True)\n",
            "<ipython-input-4-330b93c843df>:12: RuntimeWarning: Scaling factor is not defined in following channels:\n",
            "--0, --1, --2, --3, --4\n",
            "  raw = mne.io.read_raw_edf(file_location, preload=True)\n"
          ],
          "name": "stderr"
        },
        {
          "output_type": "stream",
          "text": [
            "Setting up band-stop filter from 59 - 61 Hz\n",
            "\n",
            "FIR filter parameters\n",
            "---------------------\n",
            "Designing a one-pass, zero-phase, non-causal bandstop filter:\n",
            "- Windowed time-domain design (firwin) method\n",
            "- Hamming window with 0.0194 passband ripple and 53 dB stopband attenuation\n",
            "- Lower passband edge: 59.35\n",
            "- Lower transition bandwidth: 0.50 Hz (-6 dB cutoff frequency: 59.10 Hz)\n",
            "- Upper passband edge: 60.65 Hz\n",
            "- Upper transition bandwidth: 0.50 Hz (-6 dB cutoff frequency: 60.90 Hz)\n",
            "- Filter length: 1691 samples (6.605 sec)\n",
            "\n",
            "60 matching events found\n",
            "No baseline correction applied\n",
            "Not setting metadata\n",
            "0 projection items activated\n",
            "Loading data for 60 events and 15360 original time points ...\n",
            "0 bad epochs dropped\n",
            "Missing channels from ch_names required by include:\n",
            "['T8-P8-0']\n"
          ],
          "name": "stdout"
        }
      ]
    },
    {
      "cell_type": "code",
      "metadata": {
        "id": "sXJwA-8RfxaC",
        "colab_type": "code",
        "colab": {}
      },
      "source": [
        "# Creates the temp arrays we will be needing \n",
        "non_seizure_temp_train = []\n",
        "non_seizure_temp_test = []\n",
        "\n",
        "# Loops throw each epochs in the non_seizure_train_data \n",
        "for epochs in non_seizure_train_data: \n",
        "    for epoch in epochs: \n",
        "        # For each eopoch saves the single epochs into the seizure_temp_train\n",
        "        non_seizure_temp_train.append(epoch)\n",
        "non_seizure_np_train = np.stack(non_seizure_temp_train, axis=0) # Concats the non_seizure_temp_train\n",
        "# to get one big np array which stores the seizure train data\n",
        "\n",
        "# Does same as above but this time for non seizure test data \n",
        "for epochs in non_seizure_test_data: \n",
        "    for epoch in epochs: \n",
        "        non_seizure_temp_test.append(epoch)\n",
        "non_seizure_np_test = np.stack(non_seizure_temp_test, axis=0)"
      ],
      "execution_count": null,
      "outputs": []
    },
    {
      "cell_type": "code",
      "metadata": {
        "id": "nIb4SCu7gXtc",
        "colab_type": "code",
        "colab": {
          "base_uri": "https://localhost:8080/",
          "height": 50
        },
        "outputId": "1029f8e3-129a-4e76-db3d-6aba39c06f17"
      },
      "source": [
        "# Pritning the shape to make sure it looks correct \n",
        "print(non_seizure_np_train.shape)\n",
        "print(non_seizure_np_test.shape) "
      ],
      "execution_count": null,
      "outputs": [
        {
          "output_type": "stream",
          "text": [
            "(1212, 3, 230, 230)\n",
            "(402, 3, 230, 230)\n"
          ],
          "name": "stdout"
        }
      ]
    },
    {
      "cell_type": "code",
      "metadata": {
        "id": "047F-cC9mNYm",
        "colab_type": "code",
        "colab": {}
      },
      "source": [
        "# Writting the non seizure data into csv files \n",
        "output_location = \"/content/drive/My Drive/Research/\" # Place output folder here \n",
        "\n",
        "# Writes the non seizure train data to csv remeber we need to reshape the data as \n",
        "# csv files can only store 2D data so we need to flatten our data that is what \n",
        "# that is why we have .reshape(-1, 3 * 230 * 230)\n",
        "np.savetxt(output_location + 'non_seizure_train_data.csv', non_seizure_np_train.reshape(-1, 3 * 230 * 230), delimiter=',')\n",
        "\n",
        "# Does the same as above for non seizure test data\n",
        "np.savetxt(output_location + 'non_seizure_test_data.csv', non_seizure_np_test.reshape(-1, 3 * 230 * 230), delimiter=',')"
      ],
      "execution_count": null,
      "outputs": []
    }
  ]
}